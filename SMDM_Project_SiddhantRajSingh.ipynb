{
 "cells": [
  {
   "cell_type": "markdown",
   "id": "efa605af",
   "metadata": {},
   "source": [
    "# Problem 1 - Wholesale Customers Analysis\n",
    "## A wholesale distributor operating in different regions of Portugal has information on annual spending of several items in their stores across different regions and channels. The data consists of 440 large retailers’ annual spending on 6 different varieties of products in 3 different regions (Lisbon, Oporto, Other) and across different sales channel (Hotel, Retail).\n",
    "\n"
   ]
  },
  {
   "cell_type": "code",
   "execution_count": 44,
   "id": "c6c69463",
   "metadata": {},
   "outputs": [],
   "source": [
    "import numpy as np\n",
    "import pandas as pd\n",
    "import matplotlib.pyplot as plt\n",
    "import seaborn as sns\n",
    "import scipy.stats as stats\n",
    "from scipy.stats import ttest_1samp, ttest_ind, ttest_rel\n",
    "import scipy.stats as stats\n",
    "import statsmodels.stats.api as sm"
   ]
  },
  {
   "cell_type": "code",
   "execution_count": 45,
   "id": "37880103",
   "metadata": {},
   "outputs": [],
   "source": [
    "import dataframe_image as dfi"
   ]
  },
  {
   "cell_type": "code",
   "execution_count": 46,
   "id": "8f04807e",
   "metadata": {},
   "outputs": [],
   "source": [
    "df = pd.read_csv('/Users/siddhantraj/Desktop/Business Analytics/Statistics for Data Science/Final Project/Wholesale+Customers+Data.csv')"
   ]
  },
  {
   "cell_type": "code",
   "execution_count": 47,
   "id": "c0d160fc",
   "metadata": {},
   "outputs": [
    {
     "name": "stdout",
     "output_type": "stream",
     "text": [
      "<class 'pandas.core.frame.DataFrame'>\n",
      "RangeIndex: 440 entries, 0 to 439\n",
      "Data columns (total 9 columns):\n",
      " #   Column            Non-Null Count  Dtype \n",
      "---  ------            --------------  ----- \n",
      " 0   Buyer/Spender     440 non-null    int64 \n",
      " 1   Channel           440 non-null    object\n",
      " 2   Region            440 non-null    object\n",
      " 3   Fresh             440 non-null    int64 \n",
      " 4   Milk              440 non-null    int64 \n",
      " 5   Grocery           440 non-null    int64 \n",
      " 6   Frozen            440 non-null    int64 \n",
      " 7   Detergents_Paper  440 non-null    int64 \n",
      " 8   Delicatessen      440 non-null    int64 \n",
      "dtypes: int64(7), object(2)\n",
      "memory usage: 31.1+ KB\n"
     ]
    }
   ],
   "source": [
    "df.info()"
   ]
  },
  {
   "cell_type": "code",
   "execution_count": 48,
   "id": "9a707dbe",
   "metadata": {},
   "outputs": [
    {
     "data": {
      "text/html": [
       "<div>\n",
       "<style scoped>\n",
       "    .dataframe tbody tr th:only-of-type {\n",
       "        vertical-align: middle;\n",
       "    }\n",
       "\n",
       "    .dataframe tbody tr th {\n",
       "        vertical-align: top;\n",
       "    }\n",
       "\n",
       "    .dataframe thead th {\n",
       "        text-align: right;\n",
       "    }\n",
       "</style>\n",
       "<table border=\"1\" class=\"dataframe\">\n",
       "  <thead>\n",
       "    <tr style=\"text-align: right;\">\n",
       "      <th></th>\n",
       "      <th>Buyer/Spender</th>\n",
       "      <th>Channel</th>\n",
       "      <th>Region</th>\n",
       "      <th>Fresh</th>\n",
       "      <th>Milk</th>\n",
       "      <th>Grocery</th>\n",
       "      <th>Frozen</th>\n",
       "      <th>Detergents_Paper</th>\n",
       "      <th>Delicatessen</th>\n",
       "    </tr>\n",
       "  </thead>\n",
       "  <tbody>\n",
       "    <tr>\n",
       "      <th>0</th>\n",
       "      <td>1</td>\n",
       "      <td>Retail</td>\n",
       "      <td>Other</td>\n",
       "      <td>12669</td>\n",
       "      <td>9656</td>\n",
       "      <td>7561</td>\n",
       "      <td>214</td>\n",
       "      <td>2674</td>\n",
       "      <td>1338</td>\n",
       "    </tr>\n",
       "    <tr>\n",
       "      <th>1</th>\n",
       "      <td>2</td>\n",
       "      <td>Retail</td>\n",
       "      <td>Other</td>\n",
       "      <td>7057</td>\n",
       "      <td>9810</td>\n",
       "      <td>9568</td>\n",
       "      <td>1762</td>\n",
       "      <td>3293</td>\n",
       "      <td>1776</td>\n",
       "    </tr>\n",
       "    <tr>\n",
       "      <th>2</th>\n",
       "      <td>3</td>\n",
       "      <td>Retail</td>\n",
       "      <td>Other</td>\n",
       "      <td>6353</td>\n",
       "      <td>8808</td>\n",
       "      <td>7684</td>\n",
       "      <td>2405</td>\n",
       "      <td>3516</td>\n",
       "      <td>7844</td>\n",
       "    </tr>\n",
       "    <tr>\n",
       "      <th>3</th>\n",
       "      <td>4</td>\n",
       "      <td>Hotel</td>\n",
       "      <td>Other</td>\n",
       "      <td>13265</td>\n",
       "      <td>1196</td>\n",
       "      <td>4221</td>\n",
       "      <td>6404</td>\n",
       "      <td>507</td>\n",
       "      <td>1788</td>\n",
       "    </tr>\n",
       "    <tr>\n",
       "      <th>4</th>\n",
       "      <td>5</td>\n",
       "      <td>Retail</td>\n",
       "      <td>Other</td>\n",
       "      <td>22615</td>\n",
       "      <td>5410</td>\n",
       "      <td>7198</td>\n",
       "      <td>3915</td>\n",
       "      <td>1777</td>\n",
       "      <td>5185</td>\n",
       "    </tr>\n",
       "    <tr>\n",
       "      <th>5</th>\n",
       "      <td>6</td>\n",
       "      <td>Retail</td>\n",
       "      <td>Other</td>\n",
       "      <td>9413</td>\n",
       "      <td>8259</td>\n",
       "      <td>5126</td>\n",
       "      <td>666</td>\n",
       "      <td>1795</td>\n",
       "      <td>1451</td>\n",
       "    </tr>\n",
       "    <tr>\n",
       "      <th>6</th>\n",
       "      <td>7</td>\n",
       "      <td>Retail</td>\n",
       "      <td>Other</td>\n",
       "      <td>12126</td>\n",
       "      <td>3199</td>\n",
       "      <td>6975</td>\n",
       "      <td>480</td>\n",
       "      <td>3140</td>\n",
       "      <td>545</td>\n",
       "    </tr>\n",
       "    <tr>\n",
       "      <th>7</th>\n",
       "      <td>8</td>\n",
       "      <td>Retail</td>\n",
       "      <td>Other</td>\n",
       "      <td>7579</td>\n",
       "      <td>4956</td>\n",
       "      <td>9426</td>\n",
       "      <td>1669</td>\n",
       "      <td>3321</td>\n",
       "      <td>2566</td>\n",
       "    </tr>\n",
       "    <tr>\n",
       "      <th>8</th>\n",
       "      <td>9</td>\n",
       "      <td>Hotel</td>\n",
       "      <td>Other</td>\n",
       "      <td>5963</td>\n",
       "      <td>3648</td>\n",
       "      <td>6192</td>\n",
       "      <td>425</td>\n",
       "      <td>1716</td>\n",
       "      <td>750</td>\n",
       "    </tr>\n",
       "    <tr>\n",
       "      <th>9</th>\n",
       "      <td>10</td>\n",
       "      <td>Retail</td>\n",
       "      <td>Other</td>\n",
       "      <td>6006</td>\n",
       "      <td>11093</td>\n",
       "      <td>18881</td>\n",
       "      <td>1159</td>\n",
       "      <td>7425</td>\n",
       "      <td>2098</td>\n",
       "    </tr>\n",
       "  </tbody>\n",
       "</table>\n",
       "</div>"
      ],
      "text/plain": [
       "   Buyer/Spender Channel Region  Fresh   Milk  Grocery  Frozen  \\\n",
       "0              1  Retail  Other  12669   9656     7561     214   \n",
       "1              2  Retail  Other   7057   9810     9568    1762   \n",
       "2              3  Retail  Other   6353   8808     7684    2405   \n",
       "3              4   Hotel  Other  13265   1196     4221    6404   \n",
       "4              5  Retail  Other  22615   5410     7198    3915   \n",
       "5              6  Retail  Other   9413   8259     5126     666   \n",
       "6              7  Retail  Other  12126   3199     6975     480   \n",
       "7              8  Retail  Other   7579   4956     9426    1669   \n",
       "8              9   Hotel  Other   5963   3648     6192     425   \n",
       "9             10  Retail  Other   6006  11093    18881    1159   \n",
       "\n",
       "   Detergents_Paper  Delicatessen  \n",
       "0              2674          1338  \n",
       "1              3293          1776  \n",
       "2              3516          7844  \n",
       "3               507          1788  \n",
       "4              1777          5185  \n",
       "5              1795          1451  \n",
       "6              3140           545  \n",
       "7              3321          2566  \n",
       "8              1716           750  \n",
       "9              7425          2098  "
      ]
     },
     "execution_count": 48,
     "metadata": {},
     "output_type": "execute_result"
    }
   ],
   "source": [
    "sample_data = df.head(10)\n",
    "sample_data"
   ]
  },
  {
   "cell_type": "code",
   "execution_count": 49,
   "id": "4aad225e",
   "metadata": {},
   "outputs": [],
   "source": [
    "dfi.export(sample_data,'sample_data.png')"
   ]
  },
  {
   "cell_type": "code",
   "execution_count": 50,
   "id": "54a63995",
   "metadata": {},
   "outputs": [
    {
     "data": {
      "text/html": [
       "<div>\n",
       "<style scoped>\n",
       "    .dataframe tbody tr th:only-of-type {\n",
       "        vertical-align: middle;\n",
       "    }\n",
       "\n",
       "    .dataframe tbody tr th {\n",
       "        vertical-align: top;\n",
       "    }\n",
       "\n",
       "    .dataframe thead th {\n",
       "        text-align: right;\n",
       "    }\n",
       "</style>\n",
       "<table border=\"1\" class=\"dataframe\">\n",
       "  <thead>\n",
       "    <tr style=\"text-align: right;\">\n",
       "      <th></th>\n",
       "      <th>Buyer/Spender</th>\n",
       "      <th>Channel</th>\n",
       "      <th>Region</th>\n",
       "      <th>Fresh</th>\n",
       "      <th>Milk</th>\n",
       "      <th>Grocery</th>\n",
       "      <th>Frozen</th>\n",
       "      <th>Detergents_Paper</th>\n",
       "      <th>Delicatessen</th>\n",
       "    </tr>\n",
       "  </thead>\n",
       "  <tbody>\n",
       "    <tr>\n",
       "      <th>430</th>\n",
       "      <td>431</td>\n",
       "      <td>Hotel</td>\n",
       "      <td>Other</td>\n",
       "      <td>3097</td>\n",
       "      <td>4230</td>\n",
       "      <td>16483</td>\n",
       "      <td>575</td>\n",
       "      <td>241</td>\n",
       "      <td>2080</td>\n",
       "    </tr>\n",
       "    <tr>\n",
       "      <th>431</th>\n",
       "      <td>432</td>\n",
       "      <td>Hotel</td>\n",
       "      <td>Other</td>\n",
       "      <td>8533</td>\n",
       "      <td>5506</td>\n",
       "      <td>5160</td>\n",
       "      <td>13486</td>\n",
       "      <td>1377</td>\n",
       "      <td>1498</td>\n",
       "    </tr>\n",
       "    <tr>\n",
       "      <th>432</th>\n",
       "      <td>433</td>\n",
       "      <td>Hotel</td>\n",
       "      <td>Other</td>\n",
       "      <td>21117</td>\n",
       "      <td>1162</td>\n",
       "      <td>4754</td>\n",
       "      <td>269</td>\n",
       "      <td>1328</td>\n",
       "      <td>395</td>\n",
       "    </tr>\n",
       "    <tr>\n",
       "      <th>433</th>\n",
       "      <td>434</td>\n",
       "      <td>Hotel</td>\n",
       "      <td>Other</td>\n",
       "      <td>1982</td>\n",
       "      <td>3218</td>\n",
       "      <td>1493</td>\n",
       "      <td>1541</td>\n",
       "      <td>356</td>\n",
       "      <td>1449</td>\n",
       "    </tr>\n",
       "    <tr>\n",
       "      <th>434</th>\n",
       "      <td>435</td>\n",
       "      <td>Hotel</td>\n",
       "      <td>Other</td>\n",
       "      <td>16731</td>\n",
       "      <td>3922</td>\n",
       "      <td>7994</td>\n",
       "      <td>688</td>\n",
       "      <td>2371</td>\n",
       "      <td>838</td>\n",
       "    </tr>\n",
       "    <tr>\n",
       "      <th>435</th>\n",
       "      <td>436</td>\n",
       "      <td>Hotel</td>\n",
       "      <td>Other</td>\n",
       "      <td>29703</td>\n",
       "      <td>12051</td>\n",
       "      <td>16027</td>\n",
       "      <td>13135</td>\n",
       "      <td>182</td>\n",
       "      <td>2204</td>\n",
       "    </tr>\n",
       "    <tr>\n",
       "      <th>436</th>\n",
       "      <td>437</td>\n",
       "      <td>Hotel</td>\n",
       "      <td>Other</td>\n",
       "      <td>39228</td>\n",
       "      <td>1431</td>\n",
       "      <td>764</td>\n",
       "      <td>4510</td>\n",
       "      <td>93</td>\n",
       "      <td>2346</td>\n",
       "    </tr>\n",
       "    <tr>\n",
       "      <th>437</th>\n",
       "      <td>438</td>\n",
       "      <td>Retail</td>\n",
       "      <td>Other</td>\n",
       "      <td>14531</td>\n",
       "      <td>15488</td>\n",
       "      <td>30243</td>\n",
       "      <td>437</td>\n",
       "      <td>14841</td>\n",
       "      <td>1867</td>\n",
       "    </tr>\n",
       "    <tr>\n",
       "      <th>438</th>\n",
       "      <td>439</td>\n",
       "      <td>Hotel</td>\n",
       "      <td>Other</td>\n",
       "      <td>10290</td>\n",
       "      <td>1981</td>\n",
       "      <td>2232</td>\n",
       "      <td>1038</td>\n",
       "      <td>168</td>\n",
       "      <td>2125</td>\n",
       "    </tr>\n",
       "    <tr>\n",
       "      <th>439</th>\n",
       "      <td>440</td>\n",
       "      <td>Hotel</td>\n",
       "      <td>Other</td>\n",
       "      <td>2787</td>\n",
       "      <td>1698</td>\n",
       "      <td>2510</td>\n",
       "      <td>65</td>\n",
       "      <td>477</td>\n",
       "      <td>52</td>\n",
       "    </tr>\n",
       "  </tbody>\n",
       "</table>\n",
       "</div>"
      ],
      "text/plain": [
       "     Buyer/Spender Channel Region  Fresh   Milk  Grocery  Frozen  \\\n",
       "430            431   Hotel  Other   3097   4230    16483     575   \n",
       "431            432   Hotel  Other   8533   5506     5160   13486   \n",
       "432            433   Hotel  Other  21117   1162     4754     269   \n",
       "433            434   Hotel  Other   1982   3218     1493    1541   \n",
       "434            435   Hotel  Other  16731   3922     7994     688   \n",
       "435            436   Hotel  Other  29703  12051    16027   13135   \n",
       "436            437   Hotel  Other  39228   1431      764    4510   \n",
       "437            438  Retail  Other  14531  15488    30243     437   \n",
       "438            439   Hotel  Other  10290   1981     2232    1038   \n",
       "439            440   Hotel  Other   2787   1698     2510      65   \n",
       "\n",
       "     Detergents_Paper  Delicatessen  \n",
       "430               241          2080  \n",
       "431              1377          1498  \n",
       "432              1328           395  \n",
       "433               356          1449  \n",
       "434              2371           838  \n",
       "435               182          2204  \n",
       "436                93          2346  \n",
       "437             14841          1867  \n",
       "438               168          2125  \n",
       "439               477            52  "
      ]
     },
     "execution_count": 50,
     "metadata": {},
     "output_type": "execute_result"
    }
   ],
   "source": [
    "df.tail(10)"
   ]
  },
  {
   "cell_type": "code",
   "execution_count": 51,
   "id": "9acbf9b4",
   "metadata": {},
   "outputs": [
    {
     "data": {
      "text/plain": [
       "Buyer/Spender        int64\n",
       "Channel             object\n",
       "Region              object\n",
       "Fresh                int64\n",
       "Milk                 int64\n",
       "Grocery              int64\n",
       "Frozen               int64\n",
       "Detergents_Paper     int64\n",
       "Delicatessen         int64\n",
       "dtype: object"
      ]
     },
     "execution_count": 51,
     "metadata": {},
     "output_type": "execute_result"
    }
   ],
   "source": [
    "sample_dtypes = df.dtypes\n",
    "sample_dtypes"
   ]
  },
  {
   "cell_type": "markdown",
   "id": "7b63a383",
   "metadata": {},
   "source": [
    "## 1.1"
   ]
  },
  {
   "cell_type": "code",
   "execution_count": 52,
   "id": "8f1e278f",
   "metadata": {},
   "outputs": [
    {
     "data": {
      "text/html": [
       "<div>\n",
       "<style scoped>\n",
       "    .dataframe tbody tr th:only-of-type {\n",
       "        vertical-align: middle;\n",
       "    }\n",
       "\n",
       "    .dataframe tbody tr th {\n",
       "        vertical-align: top;\n",
       "    }\n",
       "\n",
       "    .dataframe thead th {\n",
       "        text-align: right;\n",
       "    }\n",
       "</style>\n",
       "<table border=\"1\" class=\"dataframe\">\n",
       "  <thead>\n",
       "    <tr style=\"text-align: right;\">\n",
       "      <th></th>\n",
       "      <th>Buyer/Spender</th>\n",
       "      <th>Fresh</th>\n",
       "      <th>Milk</th>\n",
       "      <th>Grocery</th>\n",
       "      <th>Frozen</th>\n",
       "      <th>Detergents_Paper</th>\n",
       "      <th>Delicatessen</th>\n",
       "    </tr>\n",
       "  </thead>\n",
       "  <tbody>\n",
       "    <tr>\n",
       "      <th>count</th>\n",
       "      <td>440.000000</td>\n",
       "      <td>440.000000</td>\n",
       "      <td>440.000000</td>\n",
       "      <td>440.000000</td>\n",
       "      <td>440.000000</td>\n",
       "      <td>440.000000</td>\n",
       "      <td>440.000000</td>\n",
       "    </tr>\n",
       "    <tr>\n",
       "      <th>mean</th>\n",
       "      <td>220.500000</td>\n",
       "      <td>12000.297727</td>\n",
       "      <td>5796.265909</td>\n",
       "      <td>7951.277273</td>\n",
       "      <td>3071.931818</td>\n",
       "      <td>2881.493182</td>\n",
       "      <td>1524.870455</td>\n",
       "    </tr>\n",
       "    <tr>\n",
       "      <th>std</th>\n",
       "      <td>127.161315</td>\n",
       "      <td>12647.328865</td>\n",
       "      <td>7380.377175</td>\n",
       "      <td>9503.162829</td>\n",
       "      <td>4854.673333</td>\n",
       "      <td>4767.854448</td>\n",
       "      <td>2820.105937</td>\n",
       "    </tr>\n",
       "    <tr>\n",
       "      <th>min</th>\n",
       "      <td>1.000000</td>\n",
       "      <td>3.000000</td>\n",
       "      <td>55.000000</td>\n",
       "      <td>3.000000</td>\n",
       "      <td>25.000000</td>\n",
       "      <td>3.000000</td>\n",
       "      <td>3.000000</td>\n",
       "    </tr>\n",
       "    <tr>\n",
       "      <th>25%</th>\n",
       "      <td>110.750000</td>\n",
       "      <td>3127.750000</td>\n",
       "      <td>1533.000000</td>\n",
       "      <td>2153.000000</td>\n",
       "      <td>742.250000</td>\n",
       "      <td>256.750000</td>\n",
       "      <td>408.250000</td>\n",
       "    </tr>\n",
       "    <tr>\n",
       "      <th>50%</th>\n",
       "      <td>220.500000</td>\n",
       "      <td>8504.000000</td>\n",
       "      <td>3627.000000</td>\n",
       "      <td>4755.500000</td>\n",
       "      <td>1526.000000</td>\n",
       "      <td>816.500000</td>\n",
       "      <td>965.500000</td>\n",
       "    </tr>\n",
       "    <tr>\n",
       "      <th>75%</th>\n",
       "      <td>330.250000</td>\n",
       "      <td>16933.750000</td>\n",
       "      <td>7190.250000</td>\n",
       "      <td>10655.750000</td>\n",
       "      <td>3554.250000</td>\n",
       "      <td>3922.000000</td>\n",
       "      <td>1820.250000</td>\n",
       "    </tr>\n",
       "    <tr>\n",
       "      <th>max</th>\n",
       "      <td>440.000000</td>\n",
       "      <td>112151.000000</td>\n",
       "      <td>73498.000000</td>\n",
       "      <td>92780.000000</td>\n",
       "      <td>60869.000000</td>\n",
       "      <td>40827.000000</td>\n",
       "      <td>47943.000000</td>\n",
       "    </tr>\n",
       "  </tbody>\n",
       "</table>\n",
       "</div>"
      ],
      "text/plain": [
       "       Buyer/Spender          Fresh          Milk       Grocery        Frozen  \\\n",
       "count     440.000000     440.000000    440.000000    440.000000    440.000000   \n",
       "mean      220.500000   12000.297727   5796.265909   7951.277273   3071.931818   \n",
       "std       127.161315   12647.328865   7380.377175   9503.162829   4854.673333   \n",
       "min         1.000000       3.000000     55.000000      3.000000     25.000000   \n",
       "25%       110.750000    3127.750000   1533.000000   2153.000000    742.250000   \n",
       "50%       220.500000    8504.000000   3627.000000   4755.500000   1526.000000   \n",
       "75%       330.250000   16933.750000   7190.250000  10655.750000   3554.250000   \n",
       "max       440.000000  112151.000000  73498.000000  92780.000000  60869.000000   \n",
       "\n",
       "       Detergents_Paper  Delicatessen  \n",
       "count        440.000000    440.000000  \n",
       "mean        2881.493182   1524.870455  \n",
       "std         4767.854448   2820.105937  \n",
       "min            3.000000      3.000000  \n",
       "25%          256.750000    408.250000  \n",
       "50%          816.500000    965.500000  \n",
       "75%         3922.000000   1820.250000  \n",
       "max        40827.000000  47943.000000  "
      ]
     },
     "execution_count": 52,
     "metadata": {},
     "output_type": "execute_result"
    }
   ],
   "source": [
    "sample_describe = df.describe()\n",
    "sample_describe"
   ]
  },
  {
   "cell_type": "code",
   "execution_count": 53,
   "id": "6709c372",
   "metadata": {},
   "outputs": [],
   "source": [
    "dfi.export(sample_describe,'sample_describe.png')"
   ]
  },
  {
   "cell_type": "code",
   "execution_count": 54,
   "id": "3a1bc55e",
   "metadata": {},
   "outputs": [
    {
     "name": "stdout",
     "output_type": "stream",
     "text": [
      "Total number of Variables in the data set --> 9\n",
      "The varibles are as follows --> ['Buyer/Spender', 'Channel', 'Region', 'Fresh', 'Milk', 'Grocery', 'Frozen', 'Detergents_Paper', 'Delicatessen']\n",
      "Total number of Categorical Variables in the data set --> 2\n",
      "The Categorical Variables are as follows --> ['Region', 'Channel']\n",
      "Following is the Mean, Median and Mode for all variables :\n",
      "Fresh --->\n",
      "Mean = 12000.297727272728, Median = 8504.0\n",
      "On calculating Mode for column 'Fresh', we find that the column has more than one Mode i.e.:Mode=[3, 514, 3366, 7149, 8040, 9670, 18044].\n",
      "Therefore mode can't be used a measure of central tendency\n",
      "Milk --->\n",
      "Mean = 5796.265909090909, Median = 3627.0\n",
      "On calculating Mode for column 'Milk', we find that the column has more than one Mode i.e.:Mode=[577, 659, 829, 899, 944, 1012, 1032, 1115, 1196, 1610, 1897, 2428, 2884, 3045, 3199, 3587, 3880, 4230, 5139].\n",
      "Therefore mode can't be used a measure of central tendency\n",
      "Grocery --->\n",
      "Mean = 7951.277272727273, Median = 4755.5\n",
      "On calculating Mode for column 'Grocery', we find that the column has more than one Mode i.e.:Mode=[683, 1493, 1563, 1664, 2062, 2405, 2406, 3600, 6536, 10391].\n",
      "Therefore mode can't be used a measure of central tendency\n",
      "Frozen --->\n",
      "Mean = 3071.931818181818, Median = 1526.0\n",
      "On calculating Mode for column 'Frozen', we find that the column has more than one Mode i.e.:Mode=[133, 364, 402, 425, 744, 779, 824, 830, 848, 937, 1285, 1619, 2540, 4324].\n",
      "Therefore mode can't be used a measure of central tendency\n",
      "Detergents_Paper --->\n",
      "Mean = 2881.4931818181817, Median = 816.5\n",
      "On calculating Mode for column 'Detergents_Paper', we find that the column has more than one Mode i.e.:Mode=[3, 20, 56, 69, 70, 93, 96, 118, 153, 182, 210, 212, 227, 232, 256, 284, 311, 397, 483, 788, 811, 918, 955].\n",
      "Therefore mode can't be used a measure of central tendency\n",
      "Delicatessen --->\n",
      "Mean = 1524.8704545454545, Median = 965.5\n",
      "On calculating Mode for column 'Delicatessen', we find that the column has two Modes i.e:Mode=[3, 834]. \n",
      "Therefore mode can be used a measure of central tendency.\n",
      "The column 'Delicatessen' is Bimodal \n"
     ]
    }
   ],
   "source": [
    "print('Total number of Variables in the data set -->',df.columns.nunique())\n",
    "print('The varibles are as follows -->',[i for i in df.columns.unique()])\n",
    "print('Total number of Categorical Variables in the data set -->',2)\n",
    "print('The Categorical Variables are as follows -->',['Region','Channel'])\n",
    "\n",
    "print('Following is the Mean, Median and Mode for all variables :')\n",
    "print(f\"Fresh --->\\nMean = {df['Fresh'].mean()}, Median = {df['Fresh'].median()}\")\n",
    "print(f\"On calculating Mode for column 'Fresh', we find that the column has more than one Mode i.e.:Mode={df['Fresh'].mode().tolist()}.\\nTherefore mode can't be used a measure of central tendency\")\n",
    "\n",
    "print(f\"Milk --->\\nMean = {df['Milk'].mean()}, Median = {df['Milk'].median()}\")\n",
    "print(f\"On calculating Mode for column 'Milk', we find that the column has more than one Mode i.e.:Mode={df['Milk'].mode().tolist()}.\\nTherefore mode can't be used a measure of central tendency\")\n",
    "print(f\"Grocery --->\\nMean = {df['Grocery'].mean()}, Median = {df['Grocery'].median()}\")\n",
    "print(f\"On calculating Mode for column 'Grocery', we find that the column has more than one Mode i.e.:Mode={df['Grocery'].mode().tolist()}.\\nTherefore mode can't be used a measure of central tendency\")\n",
    "\n",
    "print(f\"Frozen --->\\nMean = {df['Frozen'].mean()}, Median = {df['Frozen'].median()}\")\n",
    "print(f\"On calculating Mode for column 'Frozen', we find that the column has more than one Mode i.e.:Mode={df['Frozen'].mode().tolist()}.\\nTherefore mode can't be used a measure of central tendency\")\n",
    "\n",
    "print(f\"Detergents_Paper --->\\nMean = {df['Detergents_Paper'].mean()}, Median = {df['Detergents_Paper'].median()}\")\n",
    "print(f\"On calculating Mode for column 'Detergents_Paper', we find that the column has more than one Mode i.e.:Mode={df['Detergents_Paper'].mode().tolist()}.\\nTherefore mode can't be used a measure of central tendency\")\n",
    "\n",
    "print(f\"Delicatessen --->\\nMean = {df['Delicatessen'].mean()}, Median = {df['Delicatessen'].median()}\")\n",
    "print(f\"On calculating Mode for column 'Delicatessen', we find that the column has two Modes i.e:Mode={df['Delicatessen'].mode().tolist()}. \\nTherefore mode can be used a measure of central tendency.\\nThe column 'Delicatessen' is Bimodal \")\n"
   ]
  },
  {
   "cell_type": "code",
   "execution_count": 55,
   "id": "c79692e4",
   "metadata": {},
   "outputs": [],
   "source": [
    "df_region_spends = df.groupby('Region').sum()"
   ]
  },
  {
   "cell_type": "code",
   "execution_count": 56,
   "id": "f0ea952e",
   "metadata": {},
   "outputs": [
    {
     "data": {
      "text/html": [
       "<div>\n",
       "<style scoped>\n",
       "    .dataframe tbody tr th:only-of-type {\n",
       "        vertical-align: middle;\n",
       "    }\n",
       "\n",
       "    .dataframe tbody tr th {\n",
       "        vertical-align: top;\n",
       "    }\n",
       "\n",
       "    .dataframe thead th {\n",
       "        text-align: right;\n",
       "    }\n",
       "</style>\n",
       "<table border=\"1\" class=\"dataframe\">\n",
       "  <thead>\n",
       "    <tr style=\"text-align: right;\">\n",
       "      <th></th>\n",
       "      <th>Buyer/Spender</th>\n",
       "      <th>Fresh</th>\n",
       "      <th>Milk</th>\n",
       "      <th>Grocery</th>\n",
       "      <th>Frozen</th>\n",
       "      <th>Detergents_Paper</th>\n",
       "      <th>Delicatessen</th>\n",
       "    </tr>\n",
       "    <tr>\n",
       "      <th>Region</th>\n",
       "      <th></th>\n",
       "      <th></th>\n",
       "      <th></th>\n",
       "      <th></th>\n",
       "      <th></th>\n",
       "      <th></th>\n",
       "      <th></th>\n",
       "    </tr>\n",
       "  </thead>\n",
       "  <tbody>\n",
       "    <tr>\n",
       "      <th>Lisbon</th>\n",
       "      <td>18095</td>\n",
       "      <td>854833</td>\n",
       "      <td>422454</td>\n",
       "      <td>570037</td>\n",
       "      <td>231026</td>\n",
       "      <td>204136</td>\n",
       "      <td>104327</td>\n",
       "    </tr>\n",
       "    <tr>\n",
       "      <th>Oporto</th>\n",
       "      <td>14899</td>\n",
       "      <td>464721</td>\n",
       "      <td>239144</td>\n",
       "      <td>433274</td>\n",
       "      <td>190132</td>\n",
       "      <td>173311</td>\n",
       "      <td>54506</td>\n",
       "    </tr>\n",
       "    <tr>\n",
       "      <th>Other</th>\n",
       "      <td>64026</td>\n",
       "      <td>3960577</td>\n",
       "      <td>1888759</td>\n",
       "      <td>2495251</td>\n",
       "      <td>930492</td>\n",
       "      <td>890410</td>\n",
       "      <td>512110</td>\n",
       "    </tr>\n",
       "  </tbody>\n",
       "</table>\n",
       "</div>"
      ],
      "text/plain": [
       "        Buyer/Spender    Fresh     Milk  Grocery  Frozen  Detergents_Paper  \\\n",
       "Region                                                                       \n",
       "Lisbon          18095   854833   422454   570037  231026            204136   \n",
       "Oporto          14899   464721   239144   433274  190132            173311   \n",
       "Other           64026  3960577  1888759  2495251  930492            890410   \n",
       "\n",
       "        Delicatessen  \n",
       "Region                \n",
       "Lisbon        104327  \n",
       "Oporto         54506  \n",
       "Other         512110  "
      ]
     },
     "execution_count": 56,
     "metadata": {},
     "output_type": "execute_result"
    }
   ],
   "source": [
    "df_region_spends"
   ]
  },
  {
   "cell_type": "code",
   "execution_count": 57,
   "id": "60183cd3",
   "metadata": {},
   "outputs": [],
   "source": [
    "df_region_spends.drop('Buyer/Spender',axis = 1,inplace=True)"
   ]
  },
  {
   "cell_type": "code",
   "execution_count": 58,
   "id": "df2ee522",
   "metadata": {},
   "outputs": [
    {
     "data": {
      "text/html": [
       "<div>\n",
       "<style scoped>\n",
       "    .dataframe tbody tr th:only-of-type {\n",
       "        vertical-align: middle;\n",
       "    }\n",
       "\n",
       "    .dataframe tbody tr th {\n",
       "        vertical-align: top;\n",
       "    }\n",
       "\n",
       "    .dataframe thead th {\n",
       "        text-align: right;\n",
       "    }\n",
       "</style>\n",
       "<table border=\"1\" class=\"dataframe\">\n",
       "  <thead>\n",
       "    <tr style=\"text-align: right;\">\n",
       "      <th></th>\n",
       "      <th>Region</th>\n",
       "      <th>Fresh</th>\n",
       "      <th>Milk</th>\n",
       "      <th>Grocery</th>\n",
       "      <th>Frozen</th>\n",
       "      <th>Detergents_Paper</th>\n",
       "      <th>Delicatessen</th>\n",
       "      <th>Total</th>\n",
       "    </tr>\n",
       "  </thead>\n",
       "  <tbody>\n",
       "    <tr>\n",
       "      <th>0</th>\n",
       "      <td>Lisbon</td>\n",
       "      <td>854833</td>\n",
       "      <td>422454</td>\n",
       "      <td>570037</td>\n",
       "      <td>231026</td>\n",
       "      <td>204136</td>\n",
       "      <td>104327</td>\n",
       "      <td>2386813</td>\n",
       "    </tr>\n",
       "    <tr>\n",
       "      <th>1</th>\n",
       "      <td>Oporto</td>\n",
       "      <td>464721</td>\n",
       "      <td>239144</td>\n",
       "      <td>433274</td>\n",
       "      <td>190132</td>\n",
       "      <td>173311</td>\n",
       "      <td>54506</td>\n",
       "      <td>1555088</td>\n",
       "    </tr>\n",
       "    <tr>\n",
       "      <th>2</th>\n",
       "      <td>Other</td>\n",
       "      <td>3960577</td>\n",
       "      <td>1888759</td>\n",
       "      <td>2495251</td>\n",
       "      <td>930492</td>\n",
       "      <td>890410</td>\n",
       "      <td>512110</td>\n",
       "      <td>10677599</td>\n",
       "    </tr>\n",
       "  </tbody>\n",
       "</table>\n",
       "</div>"
      ],
      "text/plain": [
       "   Region    Fresh     Milk  Grocery  Frozen  Detergents_Paper  Delicatessen  \\\n",
       "0  Lisbon   854833   422454   570037  231026            204136        104327   \n",
       "1  Oporto   464721   239144   433274  190132            173311         54506   \n",
       "2   Other  3960577  1888759  2495251  930492            890410        512110   \n",
       "\n",
       "      Total  \n",
       "0   2386813  \n",
       "1   1555088  \n",
       "2  10677599  "
      ]
     },
     "execution_count": 58,
     "metadata": {},
     "output_type": "execute_result"
    }
   ],
   "source": [
    "df_region_spends['Total'] = df_region_spends.sum(axis = 1)\n",
    "df_region_spends.reset_index(inplace=True, drop = False)\n",
    "df_region_spends"
   ]
  },
  {
   "cell_type": "code",
   "execution_count": 59,
   "id": "094e7068",
   "metadata": {},
   "outputs": [],
   "source": [
    "df_channel_spends = df.groupby('Channel').sum()"
   ]
  },
  {
   "cell_type": "code",
   "execution_count": 60,
   "id": "2504f2de",
   "metadata": {},
   "outputs": [
    {
     "data": {
      "text/html": [
       "<div>\n",
       "<style scoped>\n",
       "    .dataframe tbody tr th:only-of-type {\n",
       "        vertical-align: middle;\n",
       "    }\n",
       "\n",
       "    .dataframe tbody tr th {\n",
       "        vertical-align: top;\n",
       "    }\n",
       "\n",
       "    .dataframe thead th {\n",
       "        text-align: right;\n",
       "    }\n",
       "</style>\n",
       "<table border=\"1\" class=\"dataframe\">\n",
       "  <thead>\n",
       "    <tr style=\"text-align: right;\">\n",
       "      <th></th>\n",
       "      <th>Buyer/Spender</th>\n",
       "      <th>Fresh</th>\n",
       "      <th>Milk</th>\n",
       "      <th>Grocery</th>\n",
       "      <th>Frozen</th>\n",
       "      <th>Detergents_Paper</th>\n",
       "      <th>Delicatessen</th>\n",
       "    </tr>\n",
       "    <tr>\n",
       "      <th>Channel</th>\n",
       "      <th></th>\n",
       "      <th></th>\n",
       "      <th></th>\n",
       "      <th></th>\n",
       "      <th></th>\n",
       "      <th></th>\n",
       "      <th></th>\n",
       "    </tr>\n",
       "  </thead>\n",
       "  <tbody>\n",
       "    <tr>\n",
       "      <th>Hotel</th>\n",
       "      <td>71034</td>\n",
       "      <td>4015717</td>\n",
       "      <td>1028614</td>\n",
       "      <td>1180717</td>\n",
       "      <td>1116979</td>\n",
       "      <td>235587</td>\n",
       "      <td>421955</td>\n",
       "    </tr>\n",
       "    <tr>\n",
       "      <th>Retail</th>\n",
       "      <td>25986</td>\n",
       "      <td>1264414</td>\n",
       "      <td>1521743</td>\n",
       "      <td>2317845</td>\n",
       "      <td>234671</td>\n",
       "      <td>1032270</td>\n",
       "      <td>248988</td>\n",
       "    </tr>\n",
       "  </tbody>\n",
       "</table>\n",
       "</div>"
      ],
      "text/plain": [
       "         Buyer/Spender    Fresh     Milk  Grocery   Frozen  Detergents_Paper  \\\n",
       "Channel                                                                        \n",
       "Hotel            71034  4015717  1028614  1180717  1116979            235587   \n",
       "Retail           25986  1264414  1521743  2317845   234671           1032270   \n",
       "\n",
       "         Delicatessen  \n",
       "Channel                \n",
       "Hotel          421955  \n",
       "Retail         248988  "
      ]
     },
     "execution_count": 60,
     "metadata": {},
     "output_type": "execute_result"
    }
   ],
   "source": [
    "df_channel_spends"
   ]
  },
  {
   "cell_type": "code",
   "execution_count": 61,
   "id": "974637c6",
   "metadata": {},
   "outputs": [],
   "source": [
    "df_channel_spends.drop('Buyer/Spender', axis =1, inplace = True)"
   ]
  },
  {
   "cell_type": "code",
   "execution_count": 62,
   "id": "2d77bd72",
   "metadata": {},
   "outputs": [
    {
     "data": {
      "text/html": [
       "<div>\n",
       "<style scoped>\n",
       "    .dataframe tbody tr th:only-of-type {\n",
       "        vertical-align: middle;\n",
       "    }\n",
       "\n",
       "    .dataframe tbody tr th {\n",
       "        vertical-align: top;\n",
       "    }\n",
       "\n",
       "    .dataframe thead th {\n",
       "        text-align: right;\n",
       "    }\n",
       "</style>\n",
       "<table border=\"1\" class=\"dataframe\">\n",
       "  <thead>\n",
       "    <tr style=\"text-align: right;\">\n",
       "      <th></th>\n",
       "      <th>Channel</th>\n",
       "      <th>Fresh</th>\n",
       "      <th>Milk</th>\n",
       "      <th>Grocery</th>\n",
       "      <th>Frozen</th>\n",
       "      <th>Detergents_Paper</th>\n",
       "      <th>Delicatessen</th>\n",
       "      <th>Total</th>\n",
       "    </tr>\n",
       "  </thead>\n",
       "  <tbody>\n",
       "    <tr>\n",
       "      <th>0</th>\n",
       "      <td>Hotel</td>\n",
       "      <td>4015717</td>\n",
       "      <td>1028614</td>\n",
       "      <td>1180717</td>\n",
       "      <td>1116979</td>\n",
       "      <td>235587</td>\n",
       "      <td>421955</td>\n",
       "      <td>7999569</td>\n",
       "    </tr>\n",
       "    <tr>\n",
       "      <th>1</th>\n",
       "      <td>Retail</td>\n",
       "      <td>1264414</td>\n",
       "      <td>1521743</td>\n",
       "      <td>2317845</td>\n",
       "      <td>234671</td>\n",
       "      <td>1032270</td>\n",
       "      <td>248988</td>\n",
       "      <td>6619931</td>\n",
       "    </tr>\n",
       "  </tbody>\n",
       "</table>\n",
       "</div>"
      ],
      "text/plain": [
       "  Channel    Fresh     Milk  Grocery   Frozen  Detergents_Paper  Delicatessen  \\\n",
       "0   Hotel  4015717  1028614  1180717  1116979            235587        421955   \n",
       "1  Retail  1264414  1521743  2317845   234671           1032270        248988   \n",
       "\n",
       "     Total  \n",
       "0  7999569  \n",
       "1  6619931  "
      ]
     },
     "execution_count": 62,
     "metadata": {},
     "output_type": "execute_result"
    }
   ],
   "source": [
    "df_channel_spends['Total'] = df_channel_spends.sum(axis=1)\n",
    "df_channel_spends.reset_index(inplace = True, drop = False)\n",
    "df_channel_spends"
   ]
  },
  {
   "cell_type": "code",
   "execution_count": 63,
   "id": "ab99dfd0",
   "metadata": {},
   "outputs": [],
   "source": [
    "plt.style.use('seaborn-whitegrid')"
   ]
  },
  {
   "cell_type": "code",
   "execution_count": 64,
   "id": "aa105ed0",
   "metadata": {},
   "outputs": [
    {
     "data": {
      "image/png": "[encoded data removed]",
      "text/plain": [
       "<Figure size 800x400 with 1 Axes>"
      ]
     },
     "metadata": {},
     "output_type": "display_data"
    }
   ],
   "source": [
    "plt.figure(figsize = (4,2),dpi = 200)\n",
    "\n",
    "sns.barplot(x = 'Region', y = 'Total', data = df_region_spends)\n",
    "plt.xticks(fontsize = 6)\n",
    "plt.yticks(fontsize = 6)\n",
    "plt.xlabel('Region',fontsize = 6)\n",
    "plt.ylabel('Region_Spends',fontsize = 6)\n",
    "plt.savefig('region_count.png')\n",
    "plt.show()\n",
    "\n",
    "# Region - OTHER spends the most Region - OPORTO spends the least"
   ]
  },
  {
   "cell_type": "code",
   "execution_count": 65,
   "id": "ea8ef76a",
   "metadata": {},
   "outputs": [
    {
     "data": {
      "image/png": "[encoded data removed]",
      "text/plain": [
       "<Figure size 1200x800 with 1 Axes>"
      ]
     },
     "metadata": {},
     "output_type": "display_data"
    }
   ],
   "source": [
    "plt.figure(figsize = (6,4),dpi = 200)\n",
    "sns.barplot(x = 'Channel', y= 'Total', data = df_channel_spends)\n",
    "plt.xticks(fontsize = 6)\n",
    "plt.yticks(fontsize = 6)\n",
    "plt.xlabel('Channel',fontsize = 6)\n",
    "plt.ylabel('Channel_total_Spends',fontsize = 6)\n",
    "plt.savefig('Channel_count.png')\n",
    "plt.show() \n",
    "# Channel - HOTEL spends the most. Channel - RETAIL spends the least"
   ]
  },
  {
   "cell_type": "markdown",
   "id": "83bd573e",
   "metadata": {},
   "source": [
    "## 1.2"
   ]
  },
  {
   "cell_type": "code",
   "execution_count": 66,
   "id": "2591f08a",
   "metadata": {},
   "outputs": [
    {
     "data": {
      "image/png": "[encoded data removed]",
      "text/plain": [
       "<Figure size 800x400 with 1 Axes>"
      ]
     },
     "metadata": {},
     "output_type": "display_data"
    }
   ],
   "source": [
    "plt.figure(figsize = (4,2),dpi = 200)\n",
    "sns.barplot(x= 'Region', y = 'Fresh', hue = 'Channel', data = df, ci = False)\n",
    "plt.legend(fontsize = 'xx-small')\n",
    "plt.xticks(fontsize = 6)\n",
    "plt.yticks(fontsize = 6)\n",
    "plt.xlabel('Region',fontsize = 6)\n",
    "plt.ylabel('Fresh',fontsize = 6)\n",
    "plt.savefig('Region_Channel_Fresh.png')\n",
    "plt.show()"
   ]
  },
  {
   "cell_type": "code",
   "execution_count": 67,
   "id": "5761410a",
   "metadata": {},
   "outputs": [
    {
     "data": {
      "image/png": "[encoded data removed]",
      "text/plain": [
       "<Figure size 800x400 with 1 Axes>"
      ]
     },
     "metadata": {},
     "output_type": "display_data"
    }
   ],
   "source": [
    "plt.figure(figsize = (4,2),dpi = 200)\n",
    "sns.barplot(x= 'Region', y = 'Milk', hue = 'Channel', data = df, ci = False)\n",
    "plt.legend(fontsize = 'xx-small')\n",
    "plt.xticks(fontsize = 6)\n",
    "plt.yticks(fontsize = 6)\n",
    "plt.xlabel('Region',fontsize = 6)\n",
    "plt.ylabel('Milk',fontsize = 6)\n",
    "plt.savefig('Region_Channel_Milk.png')\n",
    "plt.show()"
   ]
  },
  {
   "cell_type": "code",
   "execution_count": 68,
   "id": "33ea9a5f",
   "metadata": {},
   "outputs": [
    {
     "data": {
      "image/png": "[encoded data removed]",
      "text/plain": [
       "<Figure size 800x400 with 1 Axes>"
      ]
     },
     "metadata": {},
     "output_type": "display_data"
    }
   ],
   "source": [
    "plt.figure(figsize = (4,2),dpi = 200)\n",
    "sns.barplot(x= 'Region', y = 'Grocery', hue = 'Channel', data = df, ci = False)\n",
    "plt.legend(fontsize = 'xx-small')\n",
    "plt.xticks(fontsize = 6)\n",
    "plt.yticks(fontsize = 6)\n",
    "plt.xlabel('Region',fontsize = 6)\n",
    "plt.ylabel('Grocery',fontsize = 6)\n",
    "plt.savefig('Region_Channel_Grocery.png')\n",
    "plt.show()"
   ]
  },
  {
   "cell_type": "code",
   "execution_count": 69,
   "id": "c8a1e5dd",
   "metadata": {},
   "outputs": [
    {
     "data": {
      "image/png": "[encoded data removed]",
      "text/plain": [
       "<Figure size 800x400 with 1 Axes>"
      ]
     },
     "metadata": {},
     "output_type": "display_data"
    }
   ],
   "source": [
    "plt.figure(figsize = (4,2),dpi = 200)\n",
    "sns.barplot(x= 'Region', y = 'Frozen', hue = 'Channel', data = df, ci = False)\n",
    "plt.legend(fontsize = 'xx-small')\n",
    "plt.xticks(fontsize = 6)\n",
    "plt.yticks(fontsize = 6)\n",
    "plt.xlabel('Region',fontsize = 6)\n",
    "plt.ylabel('Frozen',fontsize = 6)\n",
    "plt.savefig('Region_Channel_Frozen.png')\n",
    "plt.show()"
   ]
  },
  {
   "cell_type": "code",
   "execution_count": 70,
   "id": "e98cbe54",
   "metadata": {},
   "outputs": [
    {
     "data": {
      "image/png": "[encoded data removed]",
      "text/plain": [
       "<Figure size 800x400 with 1 Axes>"
      ]
     },
     "metadata": {},
     "output_type": "display_data"
    }
   ],
   "source": [
    "plt.figure(figsize = (4,2),dpi = 200)\n",
    "sns.barplot(x= 'Region', y = 'Detergents_Paper', hue = 'Channel', data = df, ci = False)\n",
    "plt.legend(fontsize='xx-small')\n",
    "plt.xticks(fontsize = 6)\n",
    "plt.yticks(fontsize = 6)\n",
    "plt.xlabel('Region',fontsize = 6)\n",
    "plt.ylabel('Detergent_Paper',fontsize = 6)\n",
    "plt.savefig('Region_Channel_Detergent_Paper.png')\n",
    "plt.show()"
   ]
  },
  {
   "cell_type": "code",
   "execution_count": 71,
   "id": "c313b93e",
   "metadata": {},
   "outputs": [
    {
     "data": {
      "image/png": "[encoded data removed]",
      "text/plain": [
       "<Figure size 800x400 with 1 Axes>"
      ]
     },
     "metadata": {},
     "output_type": "display_data"
    }
   ],
   "source": [
    "plt.figure(figsize = (4,2),dpi = 200)\n",
    "sns.barplot(x= 'Region', y = 'Delicatessen', hue = 'Channel', data = df, ci = False)\n",
    "plt.legend(fontsize = 'xx-small')\n",
    "plt.xticks(fontsize = 6)\n",
    "plt.yticks(fontsize = 6)\n",
    "plt.xlabel('Region',fontsize = 6)\n",
    "plt.ylabel('Delicatessen',fontsize = 6)\n",
    "plt.savefig('Region_Channel_Delicatessen.png')\n",
    "plt.show()"
   ]
  },
  {
   "cell_type": "code",
   "execution_count": 72,
   "id": "45b36041",
   "metadata": {},
   "outputs": [
    {
     "data": {
      "text/html": [
       "<div>\n",
       "<style scoped>\n",
       "    .dataframe tbody tr th:only-of-type {\n",
       "        vertical-align: middle;\n",
       "    }\n",
       "\n",
       "    .dataframe tbody tr th {\n",
       "        vertical-align: top;\n",
       "    }\n",
       "\n",
       "    .dataframe thead th {\n",
       "        text-align: right;\n",
       "    }\n",
       "</style>\n",
       "<table border=\"1\" class=\"dataframe\">\n",
       "  <thead>\n",
       "    <tr style=\"text-align: right;\">\n",
       "      <th></th>\n",
       "      <th>Buyer/Spender</th>\n",
       "      <th>Fresh</th>\n",
       "      <th>Milk</th>\n",
       "      <th>Grocery</th>\n",
       "      <th>Frozen</th>\n",
       "      <th>Detergents_Paper</th>\n",
       "      <th>Delicatessen</th>\n",
       "    </tr>\n",
       "  </thead>\n",
       "  <tbody>\n",
       "    <tr>\n",
       "      <th>count</th>\n",
       "      <td>77.000000</td>\n",
       "      <td>77.000000</td>\n",
       "      <td>77.000000</td>\n",
       "      <td>77.000000</td>\n",
       "      <td>77.000000</td>\n",
       "      <td>77.000000</td>\n",
       "      <td>77.000000</td>\n",
       "    </tr>\n",
       "    <tr>\n",
       "      <th>mean</th>\n",
       "      <td>235.000000</td>\n",
       "      <td>11101.727273</td>\n",
       "      <td>5486.415584</td>\n",
       "      <td>7403.077922</td>\n",
       "      <td>3000.337662</td>\n",
       "      <td>2651.116883</td>\n",
       "      <td>1354.896104</td>\n",
       "    </tr>\n",
       "    <tr>\n",
       "      <th>std</th>\n",
       "      <td>22.371857</td>\n",
       "      <td>11557.438575</td>\n",
       "      <td>5704.856079</td>\n",
       "      <td>8496.287728</td>\n",
       "      <td>3092.143894</td>\n",
       "      <td>4208.462708</td>\n",
       "      <td>1345.423340</td>\n",
       "    </tr>\n",
       "    <tr>\n",
       "      <th>min</th>\n",
       "      <td>197.000000</td>\n",
       "      <td>18.000000</td>\n",
       "      <td>258.000000</td>\n",
       "      <td>489.000000</td>\n",
       "      <td>61.000000</td>\n",
       "      <td>5.000000</td>\n",
       "      <td>7.000000</td>\n",
       "    </tr>\n",
       "    <tr>\n",
       "      <th>25%</th>\n",
       "      <td>216.000000</td>\n",
       "      <td>2806.000000</td>\n",
       "      <td>1372.000000</td>\n",
       "      <td>2046.000000</td>\n",
       "      <td>950.000000</td>\n",
       "      <td>284.000000</td>\n",
       "      <td>548.000000</td>\n",
       "    </tr>\n",
       "    <tr>\n",
       "      <th>50%</th>\n",
       "      <td>235.000000</td>\n",
       "      <td>7363.000000</td>\n",
       "      <td>3748.000000</td>\n",
       "      <td>3838.000000</td>\n",
       "      <td>1801.000000</td>\n",
       "      <td>737.000000</td>\n",
       "      <td>806.000000</td>\n",
       "    </tr>\n",
       "    <tr>\n",
       "      <th>75%</th>\n",
       "      <td>254.000000</td>\n",
       "      <td>15218.000000</td>\n",
       "      <td>7503.000000</td>\n",
       "      <td>9490.000000</td>\n",
       "      <td>4324.000000</td>\n",
       "      <td>3593.000000</td>\n",
       "      <td>1775.000000</td>\n",
       "    </tr>\n",
       "    <tr>\n",
       "      <th>max</th>\n",
       "      <td>273.000000</td>\n",
       "      <td>56083.000000</td>\n",
       "      <td>28326.000000</td>\n",
       "      <td>39694.000000</td>\n",
       "      <td>18711.000000</td>\n",
       "      <td>19410.000000</td>\n",
       "      <td>6854.000000</td>\n",
       "    </tr>\n",
       "  </tbody>\n",
       "</table>\n",
       "</div>"
      ],
      "text/plain": [
       "       Buyer/Spender         Fresh          Milk       Grocery        Frozen  \\\n",
       "count      77.000000     77.000000     77.000000     77.000000     77.000000   \n",
       "mean      235.000000  11101.727273   5486.415584   7403.077922   3000.337662   \n",
       "std        22.371857  11557.438575   5704.856079   8496.287728   3092.143894   \n",
       "min       197.000000     18.000000    258.000000    489.000000     61.000000   \n",
       "25%       216.000000   2806.000000   1372.000000   2046.000000    950.000000   \n",
       "50%       235.000000   7363.000000   3748.000000   3838.000000   1801.000000   \n",
       "75%       254.000000  15218.000000   7503.000000   9490.000000   4324.000000   \n",
       "max       273.000000  56083.000000  28326.000000  39694.000000  18711.000000   \n",
       "\n",
       "       Detergents_Paper  Delicatessen  \n",
       "count         77.000000     77.000000  \n",
       "mean        2651.116883   1354.896104  \n",
       "std         4208.462708   1345.423340  \n",
       "min            5.000000      7.000000  \n",
       "25%          284.000000    548.000000  \n",
       "50%          737.000000    806.000000  \n",
       "75%         3593.000000   1775.000000  \n",
       "max        19410.000000   6854.000000  "
      ]
     },
     "execution_count": 72,
     "metadata": {},
     "output_type": "execute_result"
    }
   ],
   "source": [
    "Lisbon_Des = df[df['Region'] == 'Lisbon'].describe()\n",
    "Lisbon_Des"
   ]
  },
  {
   "cell_type": "code",
   "execution_count": 73,
   "id": "9a171a95",
   "metadata": {},
   "outputs": [],
   "source": [
    "dfi.export(Lisbon_Des,'Lisbon_Des.png')"
   ]
  },
  {
   "cell_type": "code",
   "execution_count": 74,
   "id": "4b63c25e",
   "metadata": {},
   "outputs": [
    {
     "data": {
      "text/html": [
       "<div>\n",
       "<style scoped>\n",
       "    .dataframe tbody tr th:only-of-type {\n",
       "        vertical-align: middle;\n",
       "    }\n",
       "\n",
       "    .dataframe tbody tr th {\n",
       "        vertical-align: top;\n",
       "    }\n",
       "\n",
       "    .dataframe thead th {\n",
       "        text-align: right;\n",
       "    }\n",
       "</style>\n",
       "<table border=\"1\" class=\"dataframe\">\n",
       "  <thead>\n",
       "    <tr style=\"text-align: right;\">\n",
       "      <th></th>\n",
       "      <th>Buyer/Spender</th>\n",
       "      <th>Fresh</th>\n",
       "      <th>Milk</th>\n",
       "      <th>Grocery</th>\n",
       "      <th>Frozen</th>\n",
       "      <th>Detergents_Paper</th>\n",
       "      <th>Delicatessen</th>\n",
       "    </tr>\n",
       "  </thead>\n",
       "  <tbody>\n",
       "    <tr>\n",
       "      <th>count</th>\n",
       "      <td>47.000000</td>\n",
       "      <td>47.000000</td>\n",
       "      <td>47.000000</td>\n",
       "      <td>47.000000</td>\n",
       "      <td>47.000000</td>\n",
       "      <td>47.000000</td>\n",
       "      <td>47.000000</td>\n",
       "    </tr>\n",
       "    <tr>\n",
       "      <th>mean</th>\n",
       "      <td>317.000000</td>\n",
       "      <td>9887.680851</td>\n",
       "      <td>5088.170213</td>\n",
       "      <td>9218.595745</td>\n",
       "      <td>4045.361702</td>\n",
       "      <td>3687.468085</td>\n",
       "      <td>1159.702128</td>\n",
       "    </tr>\n",
       "    <tr>\n",
       "      <th>std</th>\n",
       "      <td>13.711309</td>\n",
       "      <td>8387.899211</td>\n",
       "      <td>5826.343145</td>\n",
       "      <td>10842.745314</td>\n",
       "      <td>9151.784954</td>\n",
       "      <td>6514.717668</td>\n",
       "      <td>1050.739841</td>\n",
       "    </tr>\n",
       "    <tr>\n",
       "      <th>min</th>\n",
       "      <td>294.000000</td>\n",
       "      <td>3.000000</td>\n",
       "      <td>333.000000</td>\n",
       "      <td>1330.000000</td>\n",
       "      <td>131.000000</td>\n",
       "      <td>15.000000</td>\n",
       "      <td>51.000000</td>\n",
       "    </tr>\n",
       "    <tr>\n",
       "      <th>25%</th>\n",
       "      <td>305.500000</td>\n",
       "      <td>2751.500000</td>\n",
       "      <td>1430.500000</td>\n",
       "      <td>2792.500000</td>\n",
       "      <td>811.500000</td>\n",
       "      <td>282.500000</td>\n",
       "      <td>540.500000</td>\n",
       "    </tr>\n",
       "    <tr>\n",
       "      <th>50%</th>\n",
       "      <td>317.000000</td>\n",
       "      <td>8090.000000</td>\n",
       "      <td>2374.000000</td>\n",
       "      <td>6114.000000</td>\n",
       "      <td>1455.000000</td>\n",
       "      <td>811.000000</td>\n",
       "      <td>898.000000</td>\n",
       "    </tr>\n",
       "    <tr>\n",
       "      <th>75%</th>\n",
       "      <td>328.500000</td>\n",
       "      <td>14925.500000</td>\n",
       "      <td>5772.500000</td>\n",
       "      <td>11758.500000</td>\n",
       "      <td>3272.000000</td>\n",
       "      <td>4324.500000</td>\n",
       "      <td>1538.500000</td>\n",
       "    </tr>\n",
       "    <tr>\n",
       "      <th>max</th>\n",
       "      <td>340.000000</td>\n",
       "      <td>32717.000000</td>\n",
       "      <td>25071.000000</td>\n",
       "      <td>67298.000000</td>\n",
       "      <td>60869.000000</td>\n",
       "      <td>38102.000000</td>\n",
       "      <td>5609.000000</td>\n",
       "    </tr>\n",
       "  </tbody>\n",
       "</table>\n",
       "</div>"
      ],
      "text/plain": [
       "       Buyer/Spender         Fresh          Milk       Grocery        Frozen  \\\n",
       "count      47.000000     47.000000     47.000000     47.000000     47.000000   \n",
       "mean      317.000000   9887.680851   5088.170213   9218.595745   4045.361702   \n",
       "std        13.711309   8387.899211   5826.343145  10842.745314   9151.784954   \n",
       "min       294.000000      3.000000    333.000000   1330.000000    131.000000   \n",
       "25%       305.500000   2751.500000   1430.500000   2792.500000    811.500000   \n",
       "50%       317.000000   8090.000000   2374.000000   6114.000000   1455.000000   \n",
       "75%       328.500000  14925.500000   5772.500000  11758.500000   3272.000000   \n",
       "max       340.000000  32717.000000  25071.000000  67298.000000  60869.000000   \n",
       "\n",
       "       Detergents_Paper  Delicatessen  \n",
       "count         47.000000     47.000000  \n",
       "mean        3687.468085   1159.702128  \n",
       "std         6514.717668   1050.739841  \n",
       "min           15.000000     51.000000  \n",
       "25%          282.500000    540.500000  \n",
       "50%          811.000000    898.000000  \n",
       "75%         4324.500000   1538.500000  \n",
       "max        38102.000000   5609.000000  "
      ]
     },
     "execution_count": 74,
     "metadata": {},
     "output_type": "execute_result"
    }
   ],
   "source": [
    "Oporto_des = df[df['Region']== 'Oporto'].describe()\n",
    "Oporto_des"
   ]
  },
  {
   "cell_type": "code",
   "execution_count": 75,
   "id": "448c0e1e",
   "metadata": {},
   "outputs": [],
   "source": [
    "dfi.export(Oporto_des,'Oporto_des.png')"
   ]
  },
  {
   "cell_type": "code",
   "execution_count": 76,
   "id": "a88263d0",
   "metadata": {},
   "outputs": [
    {
     "data": {
      "text/html": [
       "<div>\n",
       "<style scoped>\n",
       "    .dataframe tbody tr th:only-of-type {\n",
       "        vertical-align: middle;\n",
       "    }\n",
       "\n",
       "    .dataframe tbody tr th {\n",
       "        vertical-align: top;\n",
       "    }\n",
       "\n",
       "    .dataframe thead th {\n",
       "        text-align: right;\n",
       "    }\n",
       "</style>\n",
       "<table border=\"1\" class=\"dataframe\">\n",
       "  <thead>\n",
       "    <tr style=\"text-align: right;\">\n",
       "      <th></th>\n",
       "      <th>Buyer/Spender</th>\n",
       "      <th>Fresh</th>\n",
       "      <th>Milk</th>\n",
       "      <th>Grocery</th>\n",
       "      <th>Frozen</th>\n",
       "      <th>Detergents_Paper</th>\n",
       "      <th>Delicatessen</th>\n",
       "    </tr>\n",
       "  </thead>\n",
       "  <tbody>\n",
       "    <tr>\n",
       "      <th>count</th>\n",
       "      <td>316.000000</td>\n",
       "      <td>316.000000</td>\n",
       "      <td>316.000000</td>\n",
       "      <td>316.000000</td>\n",
       "      <td>316.000000</td>\n",
       "      <td>316.000000</td>\n",
       "      <td>316.000000</td>\n",
       "    </tr>\n",
       "    <tr>\n",
       "      <th>mean</th>\n",
       "      <td>202.613924</td>\n",
       "      <td>12533.471519</td>\n",
       "      <td>5977.085443</td>\n",
       "      <td>7896.363924</td>\n",
       "      <td>2944.594937</td>\n",
       "      <td>2817.753165</td>\n",
       "      <td>1620.601266</td>\n",
       "    </tr>\n",
       "    <tr>\n",
       "      <th>std</th>\n",
       "      <td>143.615303</td>\n",
       "      <td>13389.213115</td>\n",
       "      <td>7935.463443</td>\n",
       "      <td>9537.287778</td>\n",
       "      <td>4260.126243</td>\n",
       "      <td>4593.051613</td>\n",
       "      <td>3232.581660</td>\n",
       "    </tr>\n",
       "    <tr>\n",
       "      <th>min</th>\n",
       "      <td>1.000000</td>\n",
       "      <td>3.000000</td>\n",
       "      <td>55.000000</td>\n",
       "      <td>3.000000</td>\n",
       "      <td>25.000000</td>\n",
       "      <td>3.000000</td>\n",
       "      <td>3.000000</td>\n",
       "    </tr>\n",
       "    <tr>\n",
       "      <th>25%</th>\n",
       "      <td>79.750000</td>\n",
       "      <td>3350.750000</td>\n",
       "      <td>1634.000000</td>\n",
       "      <td>2141.500000</td>\n",
       "      <td>664.750000</td>\n",
       "      <td>251.250000</td>\n",
       "      <td>402.000000</td>\n",
       "    </tr>\n",
       "    <tr>\n",
       "      <th>50%</th>\n",
       "      <td>158.500000</td>\n",
       "      <td>8752.500000</td>\n",
       "      <td>3684.500000</td>\n",
       "      <td>4732.000000</td>\n",
       "      <td>1498.000000</td>\n",
       "      <td>856.000000</td>\n",
       "      <td>994.000000</td>\n",
       "    </tr>\n",
       "    <tr>\n",
       "      <th>75%</th>\n",
       "      <td>361.250000</td>\n",
       "      <td>17406.500000</td>\n",
       "      <td>7198.750000</td>\n",
       "      <td>10559.750000</td>\n",
       "      <td>3354.750000</td>\n",
       "      <td>3875.750000</td>\n",
       "      <td>1832.750000</td>\n",
       "    </tr>\n",
       "    <tr>\n",
       "      <th>max</th>\n",
       "      <td>440.000000</td>\n",
       "      <td>112151.000000</td>\n",
       "      <td>73498.000000</td>\n",
       "      <td>92780.000000</td>\n",
       "      <td>36534.000000</td>\n",
       "      <td>40827.000000</td>\n",
       "      <td>47943.000000</td>\n",
       "    </tr>\n",
       "  </tbody>\n",
       "</table>\n",
       "</div>"
      ],
      "text/plain": [
       "       Buyer/Spender          Fresh          Milk       Grocery        Frozen  \\\n",
       "count     316.000000     316.000000    316.000000    316.000000    316.000000   \n",
       "mean      202.613924   12533.471519   5977.085443   7896.363924   2944.594937   \n",
       "std       143.615303   13389.213115   7935.463443   9537.287778   4260.126243   \n",
       "min         1.000000       3.000000     55.000000      3.000000     25.000000   \n",
       "25%        79.750000    3350.750000   1634.000000   2141.500000    664.750000   \n",
       "50%       158.500000    8752.500000   3684.500000   4732.000000   1498.000000   \n",
       "75%       361.250000   17406.500000   7198.750000  10559.750000   3354.750000   \n",
       "max       440.000000  112151.000000  73498.000000  92780.000000  36534.000000   \n",
       "\n",
       "       Detergents_Paper  Delicatessen  \n",
       "count        316.000000    316.000000  \n",
       "mean        2817.753165   1620.601266  \n",
       "std         4593.051613   3232.581660  \n",
       "min            3.000000      3.000000  \n",
       "25%          251.250000    402.000000  \n",
       "50%          856.000000    994.000000  \n",
       "75%         3875.750000   1832.750000  \n",
       "max        40827.000000  47943.000000  "
      ]
     },
     "execution_count": 76,
     "metadata": {},
     "output_type": "execute_result"
    }
   ],
   "source": [
    "Other_des = df[df['Region'] == 'Other'].describe()\n",
    "Other_des"
   ]
  },
  {
   "cell_type": "code",
   "execution_count": 77,
   "id": "e1425447",
   "metadata": {},
   "outputs": [],
   "source": [
    "dfi.export(Other_des,'Other_des.png')"
   ]
  },
  {
   "cell_type": "code",
   "execution_count": 78,
   "id": "d23aa47b",
   "metadata": {},
   "outputs": [
    {
     "data": {
      "text/html": [
       "<div>\n",
       "<style scoped>\n",
       "    .dataframe tbody tr th:only-of-type {\n",
       "        vertical-align: middle;\n",
       "    }\n",
       "\n",
       "    .dataframe tbody tr th {\n",
       "        vertical-align: top;\n",
       "    }\n",
       "\n",
       "    .dataframe thead th {\n",
       "        text-align: right;\n",
       "    }\n",
       "</style>\n",
       "<table border=\"1\" class=\"dataframe\">\n",
       "  <thead>\n",
       "    <tr style=\"text-align: right;\">\n",
       "      <th></th>\n",
       "      <th>Buyer/Spender</th>\n",
       "      <th>Fresh</th>\n",
       "      <th>Milk</th>\n",
       "      <th>Grocery</th>\n",
       "      <th>Frozen</th>\n",
       "      <th>Detergents_Paper</th>\n",
       "      <th>Delicatessen</th>\n",
       "    </tr>\n",
       "  </thead>\n",
       "  <tbody>\n",
       "    <tr>\n",
       "      <th>count</th>\n",
       "      <td>298.000000</td>\n",
       "      <td>298.000000</td>\n",
       "      <td>298.000000</td>\n",
       "      <td>298.000000</td>\n",
       "      <td>298.000000</td>\n",
       "      <td>298.000000</td>\n",
       "      <td>298.000000</td>\n",
       "    </tr>\n",
       "    <tr>\n",
       "      <th>mean</th>\n",
       "      <td>238.369128</td>\n",
       "      <td>13475.560403</td>\n",
       "      <td>3451.724832</td>\n",
       "      <td>3962.137584</td>\n",
       "      <td>3748.251678</td>\n",
       "      <td>790.560403</td>\n",
       "      <td>1415.956376</td>\n",
       "    </tr>\n",
       "    <tr>\n",
       "      <th>std</th>\n",
       "      <td>120.910343</td>\n",
       "      <td>13831.687502</td>\n",
       "      <td>4352.165571</td>\n",
       "      <td>3545.513391</td>\n",
       "      <td>5643.912500</td>\n",
       "      <td>1104.093673</td>\n",
       "      <td>3147.426922</td>\n",
       "    </tr>\n",
       "    <tr>\n",
       "      <th>min</th>\n",
       "      <td>4.000000</td>\n",
       "      <td>3.000000</td>\n",
       "      <td>55.000000</td>\n",
       "      <td>3.000000</td>\n",
       "      <td>25.000000</td>\n",
       "      <td>3.000000</td>\n",
       "      <td>3.000000</td>\n",
       "    </tr>\n",
       "    <tr>\n",
       "      <th>25%</th>\n",
       "      <td>137.250000</td>\n",
       "      <td>4070.250000</td>\n",
       "      <td>1164.500000</td>\n",
       "      <td>1703.750000</td>\n",
       "      <td>830.000000</td>\n",
       "      <td>183.250000</td>\n",
       "      <td>379.000000</td>\n",
       "    </tr>\n",
       "    <tr>\n",
       "      <th>50%</th>\n",
       "      <td>241.500000</td>\n",
       "      <td>9581.500000</td>\n",
       "      <td>2157.000000</td>\n",
       "      <td>2684.000000</td>\n",
       "      <td>2057.500000</td>\n",
       "      <td>385.500000</td>\n",
       "      <td>821.000000</td>\n",
       "    </tr>\n",
       "    <tr>\n",
       "      <th>75%</th>\n",
       "      <td>344.500000</td>\n",
       "      <td>18274.750000</td>\n",
       "      <td>4029.500000</td>\n",
       "      <td>5076.750000</td>\n",
       "      <td>4558.750000</td>\n",
       "      <td>899.500000</td>\n",
       "      <td>1548.000000</td>\n",
       "    </tr>\n",
       "    <tr>\n",
       "      <th>max</th>\n",
       "      <td>440.000000</td>\n",
       "      <td>112151.000000</td>\n",
       "      <td>43950.000000</td>\n",
       "      <td>21042.000000</td>\n",
       "      <td>60869.000000</td>\n",
       "      <td>6907.000000</td>\n",
       "      <td>47943.000000</td>\n",
       "    </tr>\n",
       "  </tbody>\n",
       "</table>\n",
       "</div>"
      ],
      "text/plain": [
       "       Buyer/Spender          Fresh          Milk       Grocery        Frozen  \\\n",
       "count     298.000000     298.000000    298.000000    298.000000    298.000000   \n",
       "mean      238.369128   13475.560403   3451.724832   3962.137584   3748.251678   \n",
       "std       120.910343   13831.687502   4352.165571   3545.513391   5643.912500   \n",
       "min         4.000000       3.000000     55.000000      3.000000     25.000000   \n",
       "25%       137.250000    4070.250000   1164.500000   1703.750000    830.000000   \n",
       "50%       241.500000    9581.500000   2157.000000   2684.000000   2057.500000   \n",
       "75%       344.500000   18274.750000   4029.500000   5076.750000   4558.750000   \n",
       "max       440.000000  112151.000000  43950.000000  21042.000000  60869.000000   \n",
       "\n",
       "       Detergents_Paper  Delicatessen  \n",
       "count        298.000000    298.000000  \n",
       "mean         790.560403   1415.956376  \n",
       "std         1104.093673   3147.426922  \n",
       "min            3.000000      3.000000  \n",
       "25%          183.250000    379.000000  \n",
       "50%          385.500000    821.000000  \n",
       "75%          899.500000   1548.000000  \n",
       "max         6907.000000  47943.000000  "
      ]
     },
     "execution_count": 78,
     "metadata": {},
     "output_type": "execute_result"
    }
   ],
   "source": [
    "Hotel_Des = df[df['Channel'] == 'Hotel'].describe()\n",
    "Hotel_Des"
   ]
  },
  {
   "cell_type": "code",
   "execution_count": 79,
   "id": "89b45529",
   "metadata": {},
   "outputs": [],
   "source": [
    "dfi.export(Hotel_Des,'Hotel_Des.png')"
   ]
  },
  {
   "cell_type": "code",
   "execution_count": 80,
   "id": "a3188db9",
   "metadata": {},
   "outputs": [
    {
     "data": {
      "text/html": [
       "<div>\n",
       "<style scoped>\n",
       "    .dataframe tbody tr th:only-of-type {\n",
       "        vertical-align: middle;\n",
       "    }\n",
       "\n",
       "    .dataframe tbody tr th {\n",
       "        vertical-align: top;\n",
       "    }\n",
       "\n",
       "    .dataframe thead th {\n",
       "        text-align: right;\n",
       "    }\n",
       "</style>\n",
       "<table border=\"1\" class=\"dataframe\">\n",
       "  <thead>\n",
       "    <tr style=\"text-align: right;\">\n",
       "      <th></th>\n",
       "      <th>Buyer/Spender</th>\n",
       "      <th>Fresh</th>\n",
       "      <th>Milk</th>\n",
       "      <th>Grocery</th>\n",
       "      <th>Frozen</th>\n",
       "      <th>Detergents_Paper</th>\n",
       "      <th>Delicatessen</th>\n",
       "    </tr>\n",
       "  </thead>\n",
       "  <tbody>\n",
       "    <tr>\n",
       "      <th>count</th>\n",
       "      <td>142.000000</td>\n",
       "      <td>142.000000</td>\n",
       "      <td>142.000000</td>\n",
       "      <td>142.000000</td>\n",
       "      <td>142.000000</td>\n",
       "      <td>142.000000</td>\n",
       "      <td>142.000000</td>\n",
       "    </tr>\n",
       "    <tr>\n",
       "      <th>mean</th>\n",
       "      <td>183.000000</td>\n",
       "      <td>8904.323944</td>\n",
       "      <td>10716.500000</td>\n",
       "      <td>16322.852113</td>\n",
       "      <td>1652.612676</td>\n",
       "      <td>7269.507042</td>\n",
       "      <td>1753.436620</td>\n",
       "    </tr>\n",
       "    <tr>\n",
       "      <th>std</th>\n",
       "      <td>132.136132</td>\n",
       "      <td>8987.714750</td>\n",
       "      <td>9679.631351</td>\n",
       "      <td>12267.318094</td>\n",
       "      <td>1812.803662</td>\n",
       "      <td>6291.089697</td>\n",
       "      <td>1953.797047</td>\n",
       "    </tr>\n",
       "    <tr>\n",
       "      <th>min</th>\n",
       "      <td>1.000000</td>\n",
       "      <td>18.000000</td>\n",
       "      <td>928.000000</td>\n",
       "      <td>2743.000000</td>\n",
       "      <td>33.000000</td>\n",
       "      <td>332.000000</td>\n",
       "      <td>3.000000</td>\n",
       "    </tr>\n",
       "    <tr>\n",
       "      <th>25%</th>\n",
       "      <td>61.250000</td>\n",
       "      <td>2347.750000</td>\n",
       "      <td>5938.000000</td>\n",
       "      <td>9245.250000</td>\n",
       "      <td>534.250000</td>\n",
       "      <td>3683.500000</td>\n",
       "      <td>566.750000</td>\n",
       "    </tr>\n",
       "    <tr>\n",
       "      <th>50%</th>\n",
       "      <td>166.500000</td>\n",
       "      <td>5993.500000</td>\n",
       "      <td>7812.000000</td>\n",
       "      <td>12390.000000</td>\n",
       "      <td>1081.000000</td>\n",
       "      <td>5614.500000</td>\n",
       "      <td>1350.000000</td>\n",
       "    </tr>\n",
       "    <tr>\n",
       "      <th>75%</th>\n",
       "      <td>303.750000</td>\n",
       "      <td>12229.750000</td>\n",
       "      <td>12162.750000</td>\n",
       "      <td>20183.500000</td>\n",
       "      <td>2146.750000</td>\n",
       "      <td>8662.500000</td>\n",
       "      <td>2156.000000</td>\n",
       "    </tr>\n",
       "    <tr>\n",
       "      <th>max</th>\n",
       "      <td>438.000000</td>\n",
       "      <td>44466.000000</td>\n",
       "      <td>73498.000000</td>\n",
       "      <td>92780.000000</td>\n",
       "      <td>11559.000000</td>\n",
       "      <td>40827.000000</td>\n",
       "      <td>16523.000000</td>\n",
       "    </tr>\n",
       "  </tbody>\n",
       "</table>\n",
       "</div>"
      ],
      "text/plain": [
       "       Buyer/Spender         Fresh          Milk       Grocery        Frozen  \\\n",
       "count     142.000000    142.000000    142.000000    142.000000    142.000000   \n",
       "mean      183.000000   8904.323944  10716.500000  16322.852113   1652.612676   \n",
       "std       132.136132   8987.714750   9679.631351  12267.318094   1812.803662   \n",
       "min         1.000000     18.000000    928.000000   2743.000000     33.000000   \n",
       "25%        61.250000   2347.750000   5938.000000   9245.250000    534.250000   \n",
       "50%       166.500000   5993.500000   7812.000000  12390.000000   1081.000000   \n",
       "75%       303.750000  12229.750000  12162.750000  20183.500000   2146.750000   \n",
       "max       438.000000  44466.000000  73498.000000  92780.000000  11559.000000   \n",
       "\n",
       "       Detergents_Paper  Delicatessen  \n",
       "count        142.000000    142.000000  \n",
       "mean        7269.507042   1753.436620  \n",
       "std         6291.089697   1953.797047  \n",
       "min          332.000000      3.000000  \n",
       "25%         3683.500000    566.750000  \n",
       "50%         5614.500000   1350.000000  \n",
       "75%         8662.500000   2156.000000  \n",
       "max        40827.000000  16523.000000  "
      ]
     },
     "execution_count": 80,
     "metadata": {},
     "output_type": "execute_result"
    }
   ],
   "source": [
    "Retail_Des = df[df['Channel'] == 'Retail'].describe()\n",
    "Retail_Des"
   ]
  },
  {
   "cell_type": "code",
   "execution_count": 81,
   "id": "920e761c",
   "metadata": {},
   "outputs": [],
   "source": [
    "dfi.export(Retail_Des,'Retail_Des.png')"
   ]
  },
  {
   "cell_type": "code",
   "execution_count": null,
   "id": "d1bd9890",
   "metadata": {},
   "outputs": [],
   "source": []
  },
  {
   "cell_type": "markdown",
   "id": "14156e18",
   "metadata": {},
   "source": [
    "## 1.3"
   ]
  },
  {
   "cell_type": "code",
   "execution_count": 82,
   "id": "afa8ab95",
   "metadata": {},
   "outputs": [
    {
     "name": "stdout",
     "output_type": "stream",
     "text": [
      "Standard Deviation of item Fresh = 12647.328865076894\n",
      "Standard Deviation of item Grocery = 9503.162828994346\n",
      "Standard Deviation of item Milk = 7380.377174570843\n",
      "Standard Deviation of item Frozen = 4854.673332592367\n",
      "Standard Deviation of item Detergent_Paper = 4767.8544479042\n",
      "Standard Deviation of item Delicatessen = 2820.1059373693975\n"
     ]
    }
   ],
   "source": [
    "fresh_std = df['Fresh'].std()\n",
    "print('Standard Deviation of item Fresh =',fresh_std)\n",
    "grocery_std = df['Grocery'].std()\n",
    "print('Standard Deviation of item Grocery =',grocery_std)\n",
    "milk_std = df['Milk'].std()\n",
    "print('Standard Deviation of item Milk =',milk_std)\n",
    "frozen_std = df['Frozen'].std()\n",
    "print('Standard Deviation of item Frozen =',frozen_std)\n",
    "detergents_std = df['Detergents_Paper'].std()\n",
    "print('Standard Deviation of item Detergent_Paper =',detergents_std)\n",
    "delicatessen_std = df['Delicatessen'].std()\n",
    "print('Standard Deviation of item Delicatessen =',delicatessen_std)"
   ]
  },
  {
   "cell_type": "code",
   "execution_count": 83,
   "id": "c3166c6c",
   "metadata": {},
   "outputs": [],
   "source": [
    "fresh_COV = fresh_std/df['Fresh'].mean()\n",
    "grocery_COV = grocery_std/df['Grocery'].mean()\n",
    "milk_COV = milk_std/df['Milk'].mean()\n",
    "frozen_COV = frozen_std/df['Frozen'].mean()\n",
    "detergents_COV = detergents_std/df['Detergents_Paper'].mean()\n",
    "delicatessen_COV = delicatessen_std/df['Delicatessen'].mean()"
   ]
  },
  {
   "cell_type": "code",
   "execution_count": 84,
   "id": "02fb70c4",
   "metadata": {},
   "outputs": [
    {
     "name": "stdout",
     "output_type": "stream",
     "text": [
      "Coefficient of Variation of FRESH = 1.0539179237473149\n",
      "Coefficient of Variation of GROCERY = 1.1951743730016824\n",
      "Coefficient of Variation of MILK = 1.2732985840065414\n",
      "Coefficient of Variation of FROZEN = 1.5803323836352914\n",
      "Coefficient of Variation of DETERGENTS_PAPER = 1.6546471385005155\n",
      "Coefficient of Variation of DELICATESSEN = 1.8494068981158382\n"
     ]
    }
   ],
   "source": [
    "print('Coefficient of Variation of FRESH =', fresh_COV)\n",
    "print('Coefficient of Variation of GROCERY =', grocery_COV)\n",
    "print('Coefficient of Variation of MILK =', milk_COV)\n",
    "print('Coefficient of Variation of FROZEN =', frozen_COV)\n",
    "print('Coefficient of Variation of DETERGENTS_PAPER =', detergents_COV)\n",
    "print('Coefficient of Variation of DELICATESSEN =', delicatessen_COV)\n",
    "\n"
   ]
  },
  {
   "cell_type": "markdown",
   "id": "82a0aa33",
   "metadata": {},
   "source": [
    "## 1.4"
   ]
  },
  {
   "cell_type": "code",
   "execution_count": 85,
   "id": "9baf69b9",
   "metadata": {},
   "outputs": [
    {
     "data": {
      "image/png": "[encoded data removed]",
      "text/plain": [
       "<Figure size 800x400 with 1 Axes>"
      ]
     },
     "metadata": {},
     "output_type": "display_data"
    }
   ],
   "source": [
    "plt.figure(figsize=(4,2),dpi = 200)\n",
    "sns.boxplot(x = 'Region', y = 'Fresh', hue = 'Channel', data = df)\n",
    "plt.legend(fontsize = 'xx-small')\n",
    "plt.xticks(fontsize = 6)\n",
    "plt.yticks(fontsize = 6)\n",
    "plt.xlabel('Region',fontsize = 6)\n",
    "plt.ylabel('Fresh',fontsize = 6)\n",
    "plt.savefig('Fresh_Outliers.png')\n",
    "plt.show()"
   ]
  },
  {
   "cell_type": "code",
   "execution_count": 86,
   "id": "f263d95b",
   "metadata": {},
   "outputs": [
    {
     "data": {
      "image/png": "[encoded data removed]",
      "text/plain": [
       "<Figure size 800x400 with 1 Axes>"
      ]
     },
     "metadata": {},
     "output_type": "display_data"
    }
   ],
   "source": [
    "plt.figure(figsize=(4,2),dpi = 200)\n",
    "sns.boxplot(x = 'Region', y = 'Grocery', hue = 'Channel', data = df)\n",
    "plt.legend(fontsize = 'xx-small')\n",
    "plt.xticks(fontsize = 6)\n",
    "plt.yticks(fontsize = 6)\n",
    "plt.xlabel('Region',fontsize = 6)\n",
    "plt.ylabel('Grocery',fontsize = 6)\n",
    "plt.savefig('Grocery_Outliers.png')\n",
    "plt.show()"
   ]
  },
  {
   "cell_type": "code",
   "execution_count": 87,
   "id": "bcc55961",
   "metadata": {},
   "outputs": [
    {
     "data": {
      "image/png": "[encoded data removed]",
      "text/plain": [
       "<Figure size 800x400 with 1 Axes>"
      ]
     },
     "metadata": {},
     "output_type": "display_data"
    }
   ],
   "source": [
    "plt.figure(figsize=(4,2),dpi = 200)\n",
    "sns.boxplot(x = 'Region', y = 'Milk', hue = 'Channel', data = df)\n",
    "plt.legend(fontsize = 'xx-small')\n",
    "plt.xticks(fontsize = 6)\n",
    "plt.yticks(fontsize = 6)\n",
    "plt.xlabel('Region',fontsize = 6)\n",
    "plt.ylabel('Milk',fontsize = 6)\n",
    "plt.savefig('Milk_Outliers.png')\n",
    "plt.show()"
   ]
  },
  {
   "cell_type": "code",
   "execution_count": 88,
   "id": "67412901",
   "metadata": {},
   "outputs": [
    {
     "data": {
      "image/png": "[encoded data removed]",
      "text/plain": [
       "<Figure size 800x400 with 1 Axes>"
      ]
     },
     "metadata": {},
     "output_type": "display_data"
    }
   ],
   "source": [
    "plt.figure(figsize=(4,2),dpi = 200)\n",
    "sns.boxplot(x = 'Region', y = 'Frozen', hue = 'Channel', data = df)\n",
    "plt.legend(fontsize = 'xx-small')\n",
    "plt.xticks(fontsize = 6)\n",
    "plt.yticks(fontsize = 6)\n",
    "plt.xlabel('Region',fontsize = 6)\n",
    "plt.ylabel('Frozen',fontsize = 6)\n",
    "plt.savefig('Frozen_Outliers.png')\n",
    "plt.show()"
   ]
  },
  {
   "cell_type": "code",
   "execution_count": 89,
   "id": "36774a23",
   "metadata": {},
   "outputs": [
    {
     "data": {
      "image/png": "[encoded data removed]",
      "text/plain": [
       "<Figure size 800x400 with 1 Axes>"
      ]
     },
     "metadata": {},
     "output_type": "display_data"
    }
   ],
   "source": [
    "plt.figure(figsize=(4,2), dpi = 200)\n",
    "sns.boxplot(x = 'Region', y = 'Detergents_Paper', hue = 'Channel', data = df)\n",
    "plt.legend(fontsize = 'xx-small')\n",
    "plt.xticks(fontsize = 6)\n",
    "plt.yticks(fontsize = 6)\n",
    "plt.xlabel('Region',fontsize = 6)\n",
    "plt.ylabel('Detergents_Paper',fontsize = 6)\n",
    "plt.savefig('Detergents_Paper_Outliers.png')\n",
    "plt.show()"
   ]
  },
  {
   "cell_type": "code",
   "execution_count": 90,
   "id": "f2de6552",
   "metadata": {},
   "outputs": [
    {
     "data": {
      "image/png": "[encoded data removed]",
      "text/plain": [
       "<Figure size 800x400 with 1 Axes>"
      ]
     },
     "metadata": {},
     "output_type": "display_data"
    }
   ],
   "source": [
    "plt.figure(figsize=(4,2),dpi = 200)\n",
    "sns.boxplot(x = 'Region', y = 'Delicatessen', hue = 'Channel', data = df)\n",
    "plt.legend(fontsize = 'xx-small')\n",
    "plt.xticks(fontsize = 6)\n",
    "plt.yticks(fontsize = 6)\n",
    "plt.xlabel('Region',fontsize = 6)\n",
    "plt.ylabel('Delicatessen',fontsize = 6)\n",
    "plt.savefig('Delicatessen_Outliers.png')\n",
    "plt.show()"
   ]
  },
  {
   "cell_type": "code",
   "execution_count": 91,
   "id": "e16b8f0d",
   "metadata": {},
   "outputs": [
    {
     "data": {
      "text/html": [
       "<div>\n",
       "<style scoped>\n",
       "    .dataframe tbody tr th:only-of-type {\n",
       "        vertical-align: middle;\n",
       "    }\n",
       "\n",
       "    .dataframe tbody tr th {\n",
       "        vertical-align: top;\n",
       "    }\n",
       "\n",
       "    .dataframe thead th {\n",
       "        text-align: right;\n",
       "    }\n",
       "</style>\n",
       "<table border=\"1\" class=\"dataframe\">\n",
       "  <thead>\n",
       "    <tr style=\"text-align: right;\">\n",
       "      <th></th>\n",
       "      <th>Buyer/Spender</th>\n",
       "      <th>Channel</th>\n",
       "      <th>Region</th>\n",
       "      <th>Fresh</th>\n",
       "      <th>Milk</th>\n",
       "      <th>Grocery</th>\n",
       "      <th>Frozen</th>\n",
       "      <th>Detergents_Paper</th>\n",
       "      <th>Delicatessen</th>\n",
       "    </tr>\n",
       "  </thead>\n",
       "  <tbody>\n",
       "    <tr>\n",
       "      <th>0</th>\n",
       "      <td>1</td>\n",
       "      <td>Retail</td>\n",
       "      <td>Other</td>\n",
       "      <td>12669</td>\n",
       "      <td>9656</td>\n",
       "      <td>7561</td>\n",
       "      <td>214</td>\n",
       "      <td>2674</td>\n",
       "      <td>1338</td>\n",
       "    </tr>\n",
       "    <tr>\n",
       "      <th>1</th>\n",
       "      <td>2</td>\n",
       "      <td>Retail</td>\n",
       "      <td>Other</td>\n",
       "      <td>7057</td>\n",
       "      <td>9810</td>\n",
       "      <td>9568</td>\n",
       "      <td>1762</td>\n",
       "      <td>3293</td>\n",
       "      <td>1776</td>\n",
       "    </tr>\n",
       "    <tr>\n",
       "      <th>2</th>\n",
       "      <td>3</td>\n",
       "      <td>Retail</td>\n",
       "      <td>Other</td>\n",
       "      <td>6353</td>\n",
       "      <td>8808</td>\n",
       "      <td>7684</td>\n",
       "      <td>2405</td>\n",
       "      <td>3516</td>\n",
       "      <td>7844</td>\n",
       "    </tr>\n",
       "    <tr>\n",
       "      <th>3</th>\n",
       "      <td>4</td>\n",
       "      <td>Hotel</td>\n",
       "      <td>Other</td>\n",
       "      <td>13265</td>\n",
       "      <td>1196</td>\n",
       "      <td>4221</td>\n",
       "      <td>6404</td>\n",
       "      <td>507</td>\n",
       "      <td>1788</td>\n",
       "    </tr>\n",
       "    <tr>\n",
       "      <th>4</th>\n",
       "      <td>5</td>\n",
       "      <td>Retail</td>\n",
       "      <td>Other</td>\n",
       "      <td>22615</td>\n",
       "      <td>5410</td>\n",
       "      <td>7198</td>\n",
       "      <td>3915</td>\n",
       "      <td>1777</td>\n",
       "      <td>5185</td>\n",
       "    </tr>\n",
       "  </tbody>\n",
       "</table>\n",
       "</div>"
      ],
      "text/plain": [
       "   Buyer/Spender Channel Region  Fresh  Milk  Grocery  Frozen  \\\n",
       "0              1  Retail  Other  12669  9656     7561     214   \n",
       "1              2  Retail  Other   7057  9810     9568    1762   \n",
       "2              3  Retail  Other   6353  8808     7684    2405   \n",
       "3              4   Hotel  Other  13265  1196     4221    6404   \n",
       "4              5  Retail  Other  22615  5410     7198    3915   \n",
       "\n",
       "   Detergents_Paper  Delicatessen  \n",
       "0              2674          1338  \n",
       "1              3293          1776  \n",
       "2              3516          7844  \n",
       "3               507          1788  \n",
       "4              1777          5185  "
      ]
     },
     "execution_count": 91,
     "metadata": {},
     "output_type": "execute_result"
    }
   ],
   "source": [
    "df.head()"
   ]
  },
  {
   "cell_type": "markdown",
   "id": "4c7afb25",
   "metadata": {},
   "source": [
    "## 1.4"
   ]
  },
  {
   "cell_type": "code",
   "execution_count": 92,
   "id": "e72dc190",
   "metadata": {},
   "outputs": [
    {
     "data": {
      "text/html": [
       "<div>\n",
       "<style scoped>\n",
       "    .dataframe tbody tr th:only-of-type {\n",
       "        vertical-align: middle;\n",
       "    }\n",
       "\n",
       "    .dataframe tbody tr th {\n",
       "        vertical-align: top;\n",
       "    }\n",
       "\n",
       "    .dataframe thead th {\n",
       "        text-align: right;\n",
       "    }\n",
       "</style>\n",
       "<table border=\"1\" class=\"dataframe\">\n",
       "  <thead>\n",
       "    <tr style=\"text-align: right;\">\n",
       "      <th></th>\n",
       "      <th>Fresh</th>\n",
       "      <th>Milk</th>\n",
       "      <th>Grocery</th>\n",
       "      <th>Frozen</th>\n",
       "      <th>Detergents_Paper</th>\n",
       "      <th>Delicatessen</th>\n",
       "    </tr>\n",
       "  </thead>\n",
       "  <tbody>\n",
       "    <tr>\n",
       "      <th>0</th>\n",
       "      <td>12669</td>\n",
       "      <td>9656</td>\n",
       "      <td>7561</td>\n",
       "      <td>214</td>\n",
       "      <td>2674</td>\n",
       "      <td>1338</td>\n",
       "    </tr>\n",
       "    <tr>\n",
       "      <th>1</th>\n",
       "      <td>7057</td>\n",
       "      <td>9810</td>\n",
       "      <td>9568</td>\n",
       "      <td>1762</td>\n",
       "      <td>3293</td>\n",
       "      <td>1776</td>\n",
       "    </tr>\n",
       "    <tr>\n",
       "      <th>2</th>\n",
       "      <td>6353</td>\n",
       "      <td>8808</td>\n",
       "      <td>7684</td>\n",
       "      <td>2405</td>\n",
       "      <td>3516</td>\n",
       "      <td>7844</td>\n",
       "    </tr>\n",
       "    <tr>\n",
       "      <th>3</th>\n",
       "      <td>13265</td>\n",
       "      <td>1196</td>\n",
       "      <td>4221</td>\n",
       "      <td>6404</td>\n",
       "      <td>507</td>\n",
       "      <td>1788</td>\n",
       "    </tr>\n",
       "    <tr>\n",
       "      <th>4</th>\n",
       "      <td>22615</td>\n",
       "      <td>5410</td>\n",
       "      <td>7198</td>\n",
       "      <td>3915</td>\n",
       "      <td>1777</td>\n",
       "      <td>5185</td>\n",
       "    </tr>\n",
       "    <tr>\n",
       "      <th>...</th>\n",
       "      <td>...</td>\n",
       "      <td>...</td>\n",
       "      <td>...</td>\n",
       "      <td>...</td>\n",
       "      <td>...</td>\n",
       "      <td>...</td>\n",
       "    </tr>\n",
       "    <tr>\n",
       "      <th>435</th>\n",
       "      <td>29703</td>\n",
       "      <td>12051</td>\n",
       "      <td>16027</td>\n",
       "      <td>13135</td>\n",
       "      <td>182</td>\n",
       "      <td>2204</td>\n",
       "    </tr>\n",
       "    <tr>\n",
       "      <th>436</th>\n",
       "      <td>39228</td>\n",
       "      <td>1431</td>\n",
       "      <td>764</td>\n",
       "      <td>4510</td>\n",
       "      <td>93</td>\n",
       "      <td>2346</td>\n",
       "    </tr>\n",
       "    <tr>\n",
       "      <th>437</th>\n",
       "      <td>14531</td>\n",
       "      <td>15488</td>\n",
       "      <td>30243</td>\n",
       "      <td>437</td>\n",
       "      <td>14841</td>\n",
       "      <td>1867</td>\n",
       "    </tr>\n",
       "    <tr>\n",
       "      <th>438</th>\n",
       "      <td>10290</td>\n",
       "      <td>1981</td>\n",
       "      <td>2232</td>\n",
       "      <td>1038</td>\n",
       "      <td>168</td>\n",
       "      <td>2125</td>\n",
       "    </tr>\n",
       "    <tr>\n",
       "      <th>439</th>\n",
       "      <td>2787</td>\n",
       "      <td>1698</td>\n",
       "      <td>2510</td>\n",
       "      <td>65</td>\n",
       "      <td>477</td>\n",
       "      <td>52</td>\n",
       "    </tr>\n",
       "  </tbody>\n",
       "</table>\n",
       "<p>440 rows × 6 columns</p>\n",
       "</div>"
      ],
      "text/plain": [
       "     Fresh   Milk  Grocery  Frozen  Detergents_Paper  Delicatessen\n",
       "0    12669   9656     7561     214              2674          1338\n",
       "1     7057   9810     9568    1762              3293          1776\n",
       "2     6353   8808     7684    2405              3516          7844\n",
       "3    13265   1196     4221    6404               507          1788\n",
       "4    22615   5410     7198    3915              1777          5185\n",
       "..     ...    ...      ...     ...               ...           ...\n",
       "435  29703  12051    16027   13135               182          2204\n",
       "436  39228   1431      764    4510                93          2346\n",
       "437  14531  15488    30243     437             14841          1867\n",
       "438  10290   1981     2232    1038               168          2125\n",
       "439   2787   1698     2510      65               477            52\n",
       "\n",
       "[440 rows x 6 columns]"
      ]
     },
     "execution_count": 92,
     "metadata": {},
     "output_type": "execute_result"
    }
   ],
   "source": [
    "df_products = df[df.columns[3:df.columns.size]]\n",
    "df_products"
   ]
  },
  {
   "cell_type": "code",
   "execution_count": 93,
   "id": "0f2888cc",
   "metadata": {},
   "outputs": [
    {
     "name": "stderr",
     "output_type": "stream",
     "text": [
      "No handles with labels found to put in legend.\n"
     ]
    },
    {
     "data": {
      "image/png": "[encoded data removed]",
      "text/plain": [
       "<Figure size 1600x1200 with 1 Axes>"
      ]
     },
     "metadata": {},
     "output_type": "display_data"
    }
   ],
   "source": [
    "plt.figure(figsize=(8,6),dpi = 200)\n",
    "sns.boxplot(data= df_products)\n",
    "plt.legend(fontsize = 'x-small')\n",
    "plt.xticks(fontsize = 8)\n",
    "plt.yticks(fontsize = 8)\n",
    "plt.xlabel('Products',fontsize = 8)\n",
    "plt.ylabel('Spent',fontsize = 8)\n",
    "plt.savefig('Products_Outliers.png')\n",
    "plt.show()"
   ]
  },
  {
   "cell_type": "markdown",
   "id": "298a6844",
   "metadata": {},
   "source": [
    "## 1.5"
   ]
  },
  {
   "cell_type": "code",
   "execution_count": 94,
   "id": "1c1946ae",
   "metadata": {},
   "outputs": [
    {
     "data": {
      "text/html": [
       "<div>\n",
       "<style scoped>\n",
       "    .dataframe tbody tr th:only-of-type {\n",
       "        vertical-align: middle;\n",
       "    }\n",
       "\n",
       "    .dataframe tbody tr th {\n",
       "        vertical-align: top;\n",
       "    }\n",
       "\n",
       "    .dataframe thead th {\n",
       "        text-align: right;\n",
       "    }\n",
       "</style>\n",
       "<table border=\"1\" class=\"dataframe\">\n",
       "  <thead>\n",
       "    <tr style=\"text-align: right;\">\n",
       "      <th></th>\n",
       "      <th>Buyer/Spender</th>\n",
       "      <th>Channel</th>\n",
       "      <th>Region</th>\n",
       "      <th>Fresh</th>\n",
       "      <th>Milk</th>\n",
       "      <th>Grocery</th>\n",
       "      <th>Frozen</th>\n",
       "      <th>Detergents_Paper</th>\n",
       "      <th>Delicatessen</th>\n",
       "    </tr>\n",
       "  </thead>\n",
       "  <tbody>\n",
       "    <tr>\n",
       "      <th>0</th>\n",
       "      <td>1</td>\n",
       "      <td>Retail</td>\n",
       "      <td>Other</td>\n",
       "      <td>12669</td>\n",
       "      <td>9656</td>\n",
       "      <td>7561</td>\n",
       "      <td>214</td>\n",
       "      <td>2674</td>\n",
       "      <td>1338</td>\n",
       "    </tr>\n",
       "    <tr>\n",
       "      <th>1</th>\n",
       "      <td>2</td>\n",
       "      <td>Retail</td>\n",
       "      <td>Other</td>\n",
       "      <td>7057</td>\n",
       "      <td>9810</td>\n",
       "      <td>9568</td>\n",
       "      <td>1762</td>\n",
       "      <td>3293</td>\n",
       "      <td>1776</td>\n",
       "    </tr>\n",
       "    <tr>\n",
       "      <th>2</th>\n",
       "      <td>3</td>\n",
       "      <td>Retail</td>\n",
       "      <td>Other</td>\n",
       "      <td>6353</td>\n",
       "      <td>8808</td>\n",
       "      <td>7684</td>\n",
       "      <td>2405</td>\n",
       "      <td>3516</td>\n",
       "      <td>7844</td>\n",
       "    </tr>\n",
       "    <tr>\n",
       "      <th>3</th>\n",
       "      <td>4</td>\n",
       "      <td>Hotel</td>\n",
       "      <td>Other</td>\n",
       "      <td>13265</td>\n",
       "      <td>1196</td>\n",
       "      <td>4221</td>\n",
       "      <td>6404</td>\n",
       "      <td>507</td>\n",
       "      <td>1788</td>\n",
       "    </tr>\n",
       "    <tr>\n",
       "      <th>4</th>\n",
       "      <td>5</td>\n",
       "      <td>Retail</td>\n",
       "      <td>Other</td>\n",
       "      <td>22615</td>\n",
       "      <td>5410</td>\n",
       "      <td>7198</td>\n",
       "      <td>3915</td>\n",
       "      <td>1777</td>\n",
       "      <td>5185</td>\n",
       "    </tr>\n",
       "    <tr>\n",
       "      <th>...</th>\n",
       "      <td>...</td>\n",
       "      <td>...</td>\n",
       "      <td>...</td>\n",
       "      <td>...</td>\n",
       "      <td>...</td>\n",
       "      <td>...</td>\n",
       "      <td>...</td>\n",
       "      <td>...</td>\n",
       "      <td>...</td>\n",
       "    </tr>\n",
       "    <tr>\n",
       "      <th>435</th>\n",
       "      <td>436</td>\n",
       "      <td>Hotel</td>\n",
       "      <td>Other</td>\n",
       "      <td>29703</td>\n",
       "      <td>12051</td>\n",
       "      <td>16027</td>\n",
       "      <td>13135</td>\n",
       "      <td>182</td>\n",
       "      <td>2204</td>\n",
       "    </tr>\n",
       "    <tr>\n",
       "      <th>436</th>\n",
       "      <td>437</td>\n",
       "      <td>Hotel</td>\n",
       "      <td>Other</td>\n",
       "      <td>39228</td>\n",
       "      <td>1431</td>\n",
       "      <td>764</td>\n",
       "      <td>4510</td>\n",
       "      <td>93</td>\n",
       "      <td>2346</td>\n",
       "    </tr>\n",
       "    <tr>\n",
       "      <th>437</th>\n",
       "      <td>438</td>\n",
       "      <td>Retail</td>\n",
       "      <td>Other</td>\n",
       "      <td>14531</td>\n",
       "      <td>15488</td>\n",
       "      <td>30243</td>\n",
       "      <td>437</td>\n",
       "      <td>14841</td>\n",
       "      <td>1867</td>\n",
       "    </tr>\n",
       "    <tr>\n",
       "      <th>438</th>\n",
       "      <td>439</td>\n",
       "      <td>Hotel</td>\n",
       "      <td>Other</td>\n",
       "      <td>10290</td>\n",
       "      <td>1981</td>\n",
       "      <td>2232</td>\n",
       "      <td>1038</td>\n",
       "      <td>168</td>\n",
       "      <td>2125</td>\n",
       "    </tr>\n",
       "    <tr>\n",
       "      <th>439</th>\n",
       "      <td>440</td>\n",
       "      <td>Hotel</td>\n",
       "      <td>Other</td>\n",
       "      <td>2787</td>\n",
       "      <td>1698</td>\n",
       "      <td>2510</td>\n",
       "      <td>65</td>\n",
       "      <td>477</td>\n",
       "      <td>52</td>\n",
       "    </tr>\n",
       "  </tbody>\n",
       "</table>\n",
       "<p>440 rows × 9 columns</p>\n",
       "</div>"
      ],
      "text/plain": [
       "     Buyer/Spender Channel Region  Fresh   Milk  Grocery  Frozen  \\\n",
       "0                1  Retail  Other  12669   9656     7561     214   \n",
       "1                2  Retail  Other   7057   9810     9568    1762   \n",
       "2                3  Retail  Other   6353   8808     7684    2405   \n",
       "3                4   Hotel  Other  13265   1196     4221    6404   \n",
       "4                5  Retail  Other  22615   5410     7198    3915   \n",
       "..             ...     ...    ...    ...    ...      ...     ...   \n",
       "435            436   Hotel  Other  29703  12051    16027   13135   \n",
       "436            437   Hotel  Other  39228   1431      764    4510   \n",
       "437            438  Retail  Other  14531  15488    30243     437   \n",
       "438            439   Hotel  Other  10290   1981     2232    1038   \n",
       "439            440   Hotel  Other   2787   1698     2510      65   \n",
       "\n",
       "     Detergents_Paper  Delicatessen  \n",
       "0                2674          1338  \n",
       "1                3293          1776  \n",
       "2                3516          7844  \n",
       "3                 507          1788  \n",
       "4                1777          5185  \n",
       "..                ...           ...  \n",
       "435               182          2204  \n",
       "436                93          2346  \n",
       "437             14841          1867  \n",
       "438               168          2125  \n",
       "439               477            52  \n",
       "\n",
       "[440 rows x 9 columns]"
      ]
     },
     "execution_count": 94,
     "metadata": {},
     "output_type": "execute_result"
    }
   ],
   "source": [
    "df"
   ]
  },
  {
   "cell_type": "code",
   "execution_count": 95,
   "id": "5c1e99ec",
   "metadata": {},
   "outputs": [
    {
     "data": {
      "text/html": [
       "<div>\n",
       "<style scoped>\n",
       "    .dataframe tbody tr th:only-of-type {\n",
       "        vertical-align: middle;\n",
       "    }\n",
       "\n",
       "    .dataframe tbody tr th {\n",
       "        vertical-align: top;\n",
       "    }\n",
       "\n",
       "    .dataframe thead th {\n",
       "        text-align: right;\n",
       "    }\n",
       "</style>\n",
       "<table border=\"1\" class=\"dataframe\">\n",
       "  <thead>\n",
       "    <tr style=\"text-align: right;\">\n",
       "      <th></th>\n",
       "      <th>Fresh</th>\n",
       "      <th>Milk</th>\n",
       "      <th>Grocery</th>\n",
       "      <th>Frozen</th>\n",
       "      <th>Detergents_Paper</th>\n",
       "      <th>Delicatessen</th>\n",
       "    </tr>\n",
       "  </thead>\n",
       "  <tbody>\n",
       "    <tr>\n",
       "      <th>0</th>\n",
       "      <td>12669</td>\n",
       "      <td>9656</td>\n",
       "      <td>7561</td>\n",
       "      <td>214</td>\n",
       "      <td>2674</td>\n",
       "      <td>1338</td>\n",
       "    </tr>\n",
       "    <tr>\n",
       "      <th>1</th>\n",
       "      <td>7057</td>\n",
       "      <td>9810</td>\n",
       "      <td>9568</td>\n",
       "      <td>1762</td>\n",
       "      <td>3293</td>\n",
       "      <td>1776</td>\n",
       "    </tr>\n",
       "    <tr>\n",
       "      <th>2</th>\n",
       "      <td>6353</td>\n",
       "      <td>8808</td>\n",
       "      <td>7684</td>\n",
       "      <td>2405</td>\n",
       "      <td>3516</td>\n",
       "      <td>7844</td>\n",
       "    </tr>\n",
       "    <tr>\n",
       "      <th>3</th>\n",
       "      <td>13265</td>\n",
       "      <td>1196</td>\n",
       "      <td>4221</td>\n",
       "      <td>6404</td>\n",
       "      <td>507</td>\n",
       "      <td>1788</td>\n",
       "    </tr>\n",
       "    <tr>\n",
       "      <th>4</th>\n",
       "      <td>22615</td>\n",
       "      <td>5410</td>\n",
       "      <td>7198</td>\n",
       "      <td>3915</td>\n",
       "      <td>1777</td>\n",
       "      <td>5185</td>\n",
       "    </tr>\n",
       "    <tr>\n",
       "      <th>...</th>\n",
       "      <td>...</td>\n",
       "      <td>...</td>\n",
       "      <td>...</td>\n",
       "      <td>...</td>\n",
       "      <td>...</td>\n",
       "      <td>...</td>\n",
       "    </tr>\n",
       "    <tr>\n",
       "      <th>435</th>\n",
       "      <td>29703</td>\n",
       "      <td>12051</td>\n",
       "      <td>16027</td>\n",
       "      <td>13135</td>\n",
       "      <td>182</td>\n",
       "      <td>2204</td>\n",
       "    </tr>\n",
       "    <tr>\n",
       "      <th>436</th>\n",
       "      <td>39228</td>\n",
       "      <td>1431</td>\n",
       "      <td>764</td>\n",
       "      <td>4510</td>\n",
       "      <td>93</td>\n",
       "      <td>2346</td>\n",
       "    </tr>\n",
       "    <tr>\n",
       "      <th>437</th>\n",
       "      <td>14531</td>\n",
       "      <td>15488</td>\n",
       "      <td>30243</td>\n",
       "      <td>437</td>\n",
       "      <td>14841</td>\n",
       "      <td>1867</td>\n",
       "    </tr>\n",
       "    <tr>\n",
       "      <th>438</th>\n",
       "      <td>10290</td>\n",
       "      <td>1981</td>\n",
       "      <td>2232</td>\n",
       "      <td>1038</td>\n",
       "      <td>168</td>\n",
       "      <td>2125</td>\n",
       "    </tr>\n",
       "    <tr>\n",
       "      <th>439</th>\n",
       "      <td>2787</td>\n",
       "      <td>1698</td>\n",
       "      <td>2510</td>\n",
       "      <td>65</td>\n",
       "      <td>477</td>\n",
       "      <td>52</td>\n",
       "    </tr>\n",
       "  </tbody>\n",
       "</table>\n",
       "<p>440 rows × 6 columns</p>\n",
       "</div>"
      ],
      "text/plain": [
       "     Fresh   Milk  Grocery  Frozen  Detergents_Paper  Delicatessen\n",
       "0    12669   9656     7561     214              2674          1338\n",
       "1     7057   9810     9568    1762              3293          1776\n",
       "2     6353   8808     7684    2405              3516          7844\n",
       "3    13265   1196     4221    6404               507          1788\n",
       "4    22615   5410     7198    3915              1777          5185\n",
       "..     ...    ...      ...     ...               ...           ...\n",
       "435  29703  12051    16027   13135               182          2204\n",
       "436  39228   1431      764    4510                93          2346\n",
       "437  14531  15488    30243     437             14841          1867\n",
       "438  10290   1981     2232    1038               168          2125\n",
       "439   2787   1698     2510      65               477            52\n",
       "\n",
       "[440 rows x 6 columns]"
      ]
     },
     "execution_count": 95,
     "metadata": {},
     "output_type": "execute_result"
    }
   ],
   "source": [
    "df_drop = df.drop(['Buyer/Spender','Channel','Region'], axis=1)\n",
    "df_drop"
   ]
  },
  {
   "cell_type": "code",
   "execution_count": 96,
   "id": "1fbb4172",
   "metadata": {},
   "outputs": [],
   "source": [
    "corr = df_drop.corr()"
   ]
  },
  {
   "cell_type": "code",
   "execution_count": 97,
   "id": "6b09ed4b",
   "metadata": {},
   "outputs": [
    {
     "data": {
      "text/html": [
       "<div>\n",
       "<style scoped>\n",
       "    .dataframe tbody tr th:only-of-type {\n",
       "        vertical-align: middle;\n",
       "    }\n",
       "\n",
       "    .dataframe tbody tr th {\n",
       "        vertical-align: top;\n",
       "    }\n",
       "\n",
       "    .dataframe thead th {\n",
       "        text-align: right;\n",
       "    }\n",
       "</style>\n",
       "<table border=\"1\" class=\"dataframe\">\n",
       "  <thead>\n",
       "    <tr style=\"text-align: right;\">\n",
       "      <th></th>\n",
       "      <th>Fresh</th>\n",
       "      <th>Milk</th>\n",
       "      <th>Grocery</th>\n",
       "      <th>Frozen</th>\n",
       "      <th>Detergents_Paper</th>\n",
       "      <th>Delicatessen</th>\n",
       "    </tr>\n",
       "  </thead>\n",
       "  <tbody>\n",
       "    <tr>\n",
       "      <th>Fresh</th>\n",
       "      <td>1.000000</td>\n",
       "      <td>0.100510</td>\n",
       "      <td>-0.011854</td>\n",
       "      <td>0.345881</td>\n",
       "      <td>-0.101953</td>\n",
       "      <td>0.244690</td>\n",
       "    </tr>\n",
       "    <tr>\n",
       "      <th>Milk</th>\n",
       "      <td>0.100510</td>\n",
       "      <td>1.000000</td>\n",
       "      <td>0.728335</td>\n",
       "      <td>0.123994</td>\n",
       "      <td>0.661816</td>\n",
       "      <td>0.406368</td>\n",
       "    </tr>\n",
       "    <tr>\n",
       "      <th>Grocery</th>\n",
       "      <td>-0.011854</td>\n",
       "      <td>0.728335</td>\n",
       "      <td>1.000000</td>\n",
       "      <td>-0.040193</td>\n",
       "      <td>0.924641</td>\n",
       "      <td>0.205497</td>\n",
       "    </tr>\n",
       "    <tr>\n",
       "      <th>Frozen</th>\n",
       "      <td>0.345881</td>\n",
       "      <td>0.123994</td>\n",
       "      <td>-0.040193</td>\n",
       "      <td>1.000000</td>\n",
       "      <td>-0.131525</td>\n",
       "      <td>0.390947</td>\n",
       "    </tr>\n",
       "    <tr>\n",
       "      <th>Detergents_Paper</th>\n",
       "      <td>-0.101953</td>\n",
       "      <td>0.661816</td>\n",
       "      <td>0.924641</td>\n",
       "      <td>-0.131525</td>\n",
       "      <td>1.000000</td>\n",
       "      <td>0.069291</td>\n",
       "    </tr>\n",
       "    <tr>\n",
       "      <th>Delicatessen</th>\n",
       "      <td>0.244690</td>\n",
       "      <td>0.406368</td>\n",
       "      <td>0.205497</td>\n",
       "      <td>0.390947</td>\n",
       "      <td>0.069291</td>\n",
       "      <td>1.000000</td>\n",
       "    </tr>\n",
       "  </tbody>\n",
       "</table>\n",
       "</div>"
      ],
      "text/plain": [
       "                     Fresh      Milk   Grocery    Frozen  Detergents_Paper  \\\n",
       "Fresh             1.000000  0.100510 -0.011854  0.345881         -0.101953   \n",
       "Milk              0.100510  1.000000  0.728335  0.123994          0.661816   \n",
       "Grocery          -0.011854  0.728335  1.000000 -0.040193          0.924641   \n",
       "Frozen            0.345881  0.123994 -0.040193  1.000000         -0.131525   \n",
       "Detergents_Paper -0.101953  0.661816  0.924641 -0.131525          1.000000   \n",
       "Delicatessen      0.244690  0.406368  0.205497  0.390947          0.069291   \n",
       "\n",
       "                  Delicatessen  \n",
       "Fresh                 0.244690  \n",
       "Milk                  0.406368  \n",
       "Grocery               0.205497  \n",
       "Frozen                0.390947  \n",
       "Detergents_Paper      0.069291  \n",
       "Delicatessen          1.000000  "
      ]
     },
     "execution_count": 97,
     "metadata": {},
     "output_type": "execute_result"
    }
   ],
   "source": [
    "corr"
   ]
  },
  {
   "cell_type": "code",
   "execution_count": 98,
   "id": "efee4bb3",
   "metadata": {},
   "outputs": [
    {
     "data": {
      "image/png": "[encoded data removed]",
      "text/plain": [
       "<Figure size 432x288 with 2 Axes>"
      ]
     },
     "metadata": {},
     "output_type": "display_data"
    }
   ],
   "source": [
    "sns.heatmap(corr,annot= True)\n",
    "plt.savefig('Heatmap.png')\n",
    "plt.show()"
   ]
  },
  {
   "cell_type": "code",
   "execution_count": 99,
   "id": "80892a58",
   "metadata": {},
   "outputs": [
    {
     "data": {
      "text/plain": [
       "<Figure size 432x288 with 0 Axes>"
      ]
     },
     "metadata": {},
     "output_type": "display_data"
    }
   ],
   "source": [
    "cross_tab = pd.crosstab(df['Region'],df['Channel'],margins = True)\n",
    "plt.savefig('cross_tab.png')"
   ]
  },
  {
   "cell_type": "code",
   "execution_count": 100,
   "id": "04ab1b49",
   "metadata": {},
   "outputs": [
    {
     "name": "stdout",
     "output_type": "stream",
     "text": [
      "Requirement already satisfied: dataframe-image in /Applications/anaconda3/lib/python3.8/site-packages (0.1.1)\n",
      "Requirement already satisfied: pandas>=0.24 in /Applications/anaconda3/lib/python3.8/site-packages (from dataframe-image) (1.2.4)\n",
      "Requirement already satisfied: beautifulsoup4 in /Applications/anaconda3/lib/python3.8/site-packages (from dataframe-image) (4.9.3)\n",
      "Requirement already satisfied: matplotlib>=3.1 in /Applications/anaconda3/lib/python3.8/site-packages (from dataframe-image) (3.3.4)\n",
      "Requirement already satisfied: requests in /Applications/anaconda3/lib/python3.8/site-packages (from dataframe-image) (2.25.1)\n",
      "Requirement already satisfied: nbconvert>=5 in /Applications/anaconda3/lib/python3.8/site-packages (from dataframe-image) (6.0.7)\n",
      "Requirement already satisfied: aiohttp in /Applications/anaconda3/lib/python3.8/site-packages (from dataframe-image) (3.8.1)\n",
      "Requirement already satisfied: python-dateutil>=2.1 in /Applications/anaconda3/lib/python3.8/site-packages (from matplotlib>=3.1->dataframe-image) (2.8.1)\n",
      "Requirement already satisfied: cycler>=0.10 in /Applications/anaconda3/lib/python3.8/site-packages (from matplotlib>=3.1->dataframe-image) (0.10.0)\n",
      "Requirement already satisfied: numpy>=1.15 in /Applications/anaconda3/lib/python3.8/site-packages (from matplotlib>=3.1->dataframe-image) (1.20.1)\n",
      "Requirement already satisfied: kiwisolver>=1.0.1 in /Applications/anaconda3/lib/python3.8/site-packages (from matplotlib>=3.1->dataframe-image) (1.3.1)\n",
      "Requirement already satisfied: pillow>=6.2.0 in /Applications/anaconda3/lib/python3.8/site-packages (from matplotlib>=3.1->dataframe-image) (8.2.0)\n",
      "Requirement already satisfied: pyparsing!=2.0.4,!=2.1.2,!=2.1.6,>=2.0.3 in /Applications/anaconda3/lib/python3.8/site-packages (from matplotlib>=3.1->dataframe-image) (2.4.7)\n",
      "Requirement already satisfied: six in /Applications/anaconda3/lib/python3.8/site-packages (from cycler>=0.10->matplotlib>=3.1->dataframe-image) (1.15.0)\n",
      "Requirement already satisfied: pandocfilters>=1.4.1 in /Applications/anaconda3/lib/python3.8/site-packages (from nbconvert>=5->dataframe-image) (1.4.3)\n",
      "Requirement already satisfied: bleach in /Applications/anaconda3/lib/python3.8/site-packages (from nbconvert>=5->dataframe-image) (3.3.0)\n",
      "Requirement already satisfied: nbformat>=4.4 in /Applications/anaconda3/lib/python3.8/site-packages (from nbconvert>=5->dataframe-image) (5.1.3)\n",
      "Requirement already satisfied: defusedxml in /Applications/anaconda3/lib/python3.8/site-packages (from nbconvert>=5->dataframe-image) (0.7.1)\n",
      "Requirement already satisfied: jupyter-core in /Applications/anaconda3/lib/python3.8/site-packages (from nbconvert>=5->dataframe-image) (4.7.1)\n",
      "Requirement already satisfied: entrypoints>=0.2.2 in /Applications/anaconda3/lib/python3.8/site-packages (from nbconvert>=5->dataframe-image) (0.3)\n",
      "Requirement already satisfied: testpath in /Applications/anaconda3/lib/python3.8/site-packages (from nbconvert>=5->dataframe-image) (0.4.4)\n",
      "Requirement already satisfied: jinja2>=2.4 in /Applications/anaconda3/lib/python3.8/site-packages (from nbconvert>=5->dataframe-image) (2.11.3)\n",
      "Requirement already satisfied: nbclient<0.6.0,>=0.5.0 in /Applications/anaconda3/lib/python3.8/site-packages (from nbconvert>=5->dataframe-image) (0.5.3)\n",
      "Requirement already satisfied: mistune<2,>=0.8.1 in /Applications/anaconda3/lib/python3.8/site-packages (from nbconvert>=5->dataframe-image) (0.8.4)\n",
      "Requirement already satisfied: pygments>=2.4.1 in /Applications/anaconda3/lib/python3.8/site-packages (from nbconvert>=5->dataframe-image) (2.8.1)\n",
      "Requirement already satisfied: jupyterlab-pygments in /Applications/anaconda3/lib/python3.8/site-packages (from nbconvert>=5->dataframe-image) (0.1.2)\n",
      "Requirement already satisfied: traitlets>=4.2 in /Applications/anaconda3/lib/python3.8/site-packages (from nbconvert>=5->dataframe-image) (5.0.5)\n",
      "Requirement already satisfied: MarkupSafe>=0.23 in /Applications/anaconda3/lib/python3.8/site-packages (from jinja2>=2.4->nbconvert>=5->dataframe-image) (1.1.1)\n",
      "Requirement already satisfied: jupyter-client>=6.1.5 in /Applications/anaconda3/lib/python3.8/site-packages (from nbclient<0.6.0,>=0.5.0->nbconvert>=5->dataframe-image) (6.1.12)\n",
      "Requirement already satisfied: async-generator in /Applications/anaconda3/lib/python3.8/site-packages (from nbclient<0.6.0,>=0.5.0->nbconvert>=5->dataframe-image) (1.10)\n",
      "Requirement already satisfied: nest-asyncio in /Applications/anaconda3/lib/python3.8/site-packages (from nbclient<0.6.0,>=0.5.0->nbconvert>=5->dataframe-image) (1.5.1)\n",
      "Requirement already satisfied: tornado>=4.1 in /Applications/anaconda3/lib/python3.8/site-packages (from jupyter-client>=6.1.5->nbclient<0.6.0,>=0.5.0->nbconvert>=5->dataframe-image) (6.1)\n",
      "Requirement already satisfied: pyzmq>=13 in /Applications/anaconda3/lib/python3.8/site-packages (from jupyter-client>=6.1.5->nbclient<0.6.0,>=0.5.0->nbconvert>=5->dataframe-image) (20.0.0)\n",
      "Requirement already satisfied: jsonschema!=2.5.0,>=2.4 in /Applications/anaconda3/lib/python3.8/site-packages (from nbformat>=4.4->nbconvert>=5->dataframe-image) (3.2.0)\n",
      "Requirement already satisfied: ipython-genutils in /Applications/anaconda3/lib/python3.8/site-packages (from nbformat>=4.4->nbconvert>=5->dataframe-image) (0.2.0)\n",
      "Requirement already satisfied: pyrsistent>=0.14.0 in /Applications/anaconda3/lib/python3.8/site-packages (from jsonschema!=2.5.0,>=2.4->nbformat>=4.4->nbconvert>=5->dataframe-image) (0.17.3)\n",
      "Requirement already satisfied: attrs>=17.4.0 in /Applications/anaconda3/lib/python3.8/site-packages (from jsonschema!=2.5.0,>=2.4->nbformat>=4.4->nbconvert>=5->dataframe-image) (20.3.0)\n",
      "Requirement already satisfied: setuptools in /Applications/anaconda3/lib/python3.8/site-packages (from jsonschema!=2.5.0,>=2.4->nbformat>=4.4->nbconvert>=5->dataframe-image) (52.0.0.post20210125)\n",
      "Requirement already satisfied: pytz>=2017.3 in /Applications/anaconda3/lib/python3.8/site-packages (from pandas>=0.24->dataframe-image) (2021.1)\n",
      "Requirement already satisfied: charset-normalizer<3.0,>=2.0 in /Applications/anaconda3/lib/python3.8/site-packages (from aiohttp->dataframe-image) (2.1.0)\n",
      "Requirement already satisfied: async-timeout<5.0,>=4.0.0a3 in /Applications/anaconda3/lib/python3.8/site-packages (from aiohttp->dataframe-image) (4.0.2)\n",
      "Requirement already satisfied: frozenlist>=1.1.1 in /Applications/anaconda3/lib/python3.8/site-packages (from aiohttp->dataframe-image) (1.3.0)\n",
      "Requirement already satisfied: yarl<2.0,>=1.0 in /Applications/anaconda3/lib/python3.8/site-packages (from aiohttp->dataframe-image) (1.7.2)\n",
      "Requirement already satisfied: multidict<7.0,>=4.5 in /Applications/anaconda3/lib/python3.8/site-packages (from aiohttp->dataframe-image) (6.0.2)\n",
      "Requirement already satisfied: aiosignal>=1.1.2 in /Applications/anaconda3/lib/python3.8/site-packages (from aiohttp->dataframe-image) (1.2.0)\n",
      "Requirement already satisfied: idna>=2.0 in /Applications/anaconda3/lib/python3.8/site-packages (from yarl<2.0,>=1.0->aiohttp->dataframe-image) (2.10)\n",
      "Requirement already satisfied: soupsieve>1.2 in /Applications/anaconda3/lib/python3.8/site-packages (from beautifulsoup4->dataframe-image) (2.2.1)\n",
      "Requirement already satisfied: packaging in /Applications/anaconda3/lib/python3.8/site-packages (from bleach->nbconvert>=5->dataframe-image) (20.9)\n",
      "Requirement already satisfied: webencodings in /Applications/anaconda3/lib/python3.8/site-packages (from bleach->nbconvert>=5->dataframe-image) (0.5.1)\n",
      "Requirement already satisfied: chardet<5,>=3.0.2 in /Applications/anaconda3/lib/python3.8/site-packages (from requests->dataframe-image) (4.0.0)\n",
      "Requirement already satisfied: urllib3<1.27,>=1.21.1 in /Applications/anaconda3/lib/python3.8/site-packages (from requests->dataframe-image) (1.26.4)\n",
      "Requirement already satisfied: certifi>=2017.4.17 in /Applications/anaconda3/lib/python3.8/site-packages (from requests->dataframe-image) (2020.12.5)\n",
      "Note: you may need to restart the kernel to use updated packages.\n"
     ]
    }
   ],
   "source": [
    "pip install dataframe-image"
   ]
  },
  {
   "cell_type": "code",
   "execution_count": 101,
   "id": "7b07d00e",
   "metadata": {},
   "outputs": [],
   "source": [
    "dfi.export(cross_tab, 'dataframe.png')"
   ]
  },
  {
   "cell_type": "markdown",
   "id": "4c8be6a0",
   "metadata": {},
   "source": [
    "# Problem 2 - CMSU\n",
    "The Student News Service at Clear Mountain State University (CMSU) has decided to gather data about the undergraduate students that attend CMSU. CMSU creates and distributes a survey of 14 questions and receives responses from 62 undergraduates (stored in the Survey data set).\n",
    "\n"
   ]
  },
  {
   "cell_type": "code",
   "execution_count": 102,
   "id": "0d32a343",
   "metadata": {},
   "outputs": [],
   "source": [
    "cmsu = pd.read_csv('/Users/siddhantraj/Desktop/Business Analytics/Statistics for Data Science/Final Project/Survey-1.csv')"
   ]
  },
  {
   "cell_type": "code",
   "execution_count": 103,
   "id": "64652104",
   "metadata": {},
   "outputs": [
    {
     "data": {
      "text/html": [
       "<div>\n",
       "<style scoped>\n",
       "    .dataframe tbody tr th:only-of-type {\n",
       "        vertical-align: middle;\n",
       "    }\n",
       "\n",
       "    .dataframe tbody tr th {\n",
       "        vertical-align: top;\n",
       "    }\n",
       "\n",
       "    .dataframe thead th {\n",
       "        text-align: right;\n",
       "    }\n",
       "</style>\n",
       "<table border=\"1\" class=\"dataframe\">\n",
       "  <thead>\n",
       "    <tr style=\"text-align: right;\">\n",
       "      <th></th>\n",
       "      <th>ID</th>\n",
       "      <th>Gender</th>\n",
       "      <th>Age</th>\n",
       "      <th>Class</th>\n",
       "      <th>Major</th>\n",
       "      <th>Grad Intention</th>\n",
       "      <th>GPA</th>\n",
       "      <th>Employment</th>\n",
       "      <th>Salary</th>\n",
       "      <th>Social Networking</th>\n",
       "      <th>Satisfaction</th>\n",
       "      <th>Spending</th>\n",
       "      <th>Computer</th>\n",
       "      <th>Text Messages</th>\n",
       "    </tr>\n",
       "  </thead>\n",
       "  <tbody>\n",
       "    <tr>\n",
       "      <th>0</th>\n",
       "      <td>1</td>\n",
       "      <td>Female</td>\n",
       "      <td>20</td>\n",
       "      <td>Junior</td>\n",
       "      <td>Other</td>\n",
       "      <td>Yes</td>\n",
       "      <td>2.9</td>\n",
       "      <td>Full-Time</td>\n",
       "      <td>50.0</td>\n",
       "      <td>1</td>\n",
       "      <td>3</td>\n",
       "      <td>350</td>\n",
       "      <td>Laptop</td>\n",
       "      <td>200</td>\n",
       "    </tr>\n",
       "    <tr>\n",
       "      <th>1</th>\n",
       "      <td>2</td>\n",
       "      <td>Male</td>\n",
       "      <td>23</td>\n",
       "      <td>Senior</td>\n",
       "      <td>Management</td>\n",
       "      <td>Yes</td>\n",
       "      <td>3.6</td>\n",
       "      <td>Part-Time</td>\n",
       "      <td>25.0</td>\n",
       "      <td>1</td>\n",
       "      <td>4</td>\n",
       "      <td>360</td>\n",
       "      <td>Laptop</td>\n",
       "      <td>50</td>\n",
       "    </tr>\n",
       "    <tr>\n",
       "      <th>2</th>\n",
       "      <td>3</td>\n",
       "      <td>Male</td>\n",
       "      <td>21</td>\n",
       "      <td>Junior</td>\n",
       "      <td>Other</td>\n",
       "      <td>Yes</td>\n",
       "      <td>2.5</td>\n",
       "      <td>Part-Time</td>\n",
       "      <td>45.0</td>\n",
       "      <td>2</td>\n",
       "      <td>4</td>\n",
       "      <td>600</td>\n",
       "      <td>Laptop</td>\n",
       "      <td>200</td>\n",
       "    </tr>\n",
       "    <tr>\n",
       "      <th>3</th>\n",
       "      <td>4</td>\n",
       "      <td>Male</td>\n",
       "      <td>21</td>\n",
       "      <td>Junior</td>\n",
       "      <td>CIS</td>\n",
       "      <td>Yes</td>\n",
       "      <td>2.5</td>\n",
       "      <td>Full-Time</td>\n",
       "      <td>40.0</td>\n",
       "      <td>4</td>\n",
       "      <td>6</td>\n",
       "      <td>600</td>\n",
       "      <td>Laptop</td>\n",
       "      <td>250</td>\n",
       "    </tr>\n",
       "    <tr>\n",
       "      <th>4</th>\n",
       "      <td>5</td>\n",
       "      <td>Male</td>\n",
       "      <td>23</td>\n",
       "      <td>Senior</td>\n",
       "      <td>Other</td>\n",
       "      <td>Undecided</td>\n",
       "      <td>2.8</td>\n",
       "      <td>Unemployed</td>\n",
       "      <td>40.0</td>\n",
       "      <td>2</td>\n",
       "      <td>4</td>\n",
       "      <td>500</td>\n",
       "      <td>Laptop</td>\n",
       "      <td>100</td>\n",
       "    </tr>\n",
       "  </tbody>\n",
       "</table>\n",
       "</div>"
      ],
      "text/plain": [
       "   ID  Gender  Age   Class       Major Grad Intention  GPA  Employment  \\\n",
       "0   1  Female   20  Junior       Other            Yes  2.9   Full-Time   \n",
       "1   2    Male   23  Senior  Management            Yes  3.6   Part-Time   \n",
       "2   3    Male   21  Junior       Other            Yes  2.5   Part-Time   \n",
       "3   4    Male   21  Junior         CIS            Yes  2.5   Full-Time   \n",
       "4   5    Male   23  Senior       Other      Undecided  2.8  Unemployed   \n",
       "\n",
       "   Salary  Social Networking  Satisfaction  Spending Computer  Text Messages  \n",
       "0    50.0                  1             3       350   Laptop            200  \n",
       "1    25.0                  1             4       360   Laptop             50  \n",
       "2    45.0                  2             4       600   Laptop            200  \n",
       "3    40.0                  4             6       600   Laptop            250  \n",
       "4    40.0                  2             4       500   Laptop            100  "
      ]
     },
     "execution_count": 103,
     "metadata": {},
     "output_type": "execute_result"
    }
   ],
   "source": [
    "cmsu.head()"
   ]
  },
  {
   "cell_type": "code",
   "execution_count": 104,
   "id": "58bfb532",
   "metadata": {},
   "outputs": [
    {
     "data": {
      "text/html": [
       "<div>\n",
       "<style scoped>\n",
       "    .dataframe tbody tr th:only-of-type {\n",
       "        vertical-align: middle;\n",
       "    }\n",
       "\n",
       "    .dataframe tbody tr th {\n",
       "        vertical-align: top;\n",
       "    }\n",
       "\n",
       "    .dataframe thead th {\n",
       "        text-align: right;\n",
       "    }\n",
       "</style>\n",
       "<table border=\"1\" class=\"dataframe\">\n",
       "  <thead>\n",
       "    <tr style=\"text-align: right;\">\n",
       "      <th></th>\n",
       "      <th>ID</th>\n",
       "      <th>Gender</th>\n",
       "      <th>Age</th>\n",
       "      <th>Class</th>\n",
       "      <th>Major</th>\n",
       "      <th>Grad Intention</th>\n",
       "      <th>GPA</th>\n",
       "      <th>Employment</th>\n",
       "      <th>Salary</th>\n",
       "      <th>Social Networking</th>\n",
       "      <th>Satisfaction</th>\n",
       "      <th>Spending</th>\n",
       "      <th>Computer</th>\n",
       "      <th>Text Messages</th>\n",
       "    </tr>\n",
       "  </thead>\n",
       "  <tbody>\n",
       "    <tr>\n",
       "      <th>57</th>\n",
       "      <td>58</td>\n",
       "      <td>Female</td>\n",
       "      <td>21</td>\n",
       "      <td>Senior</td>\n",
       "      <td>International Business</td>\n",
       "      <td>No</td>\n",
       "      <td>2.4</td>\n",
       "      <td>Part-Time</td>\n",
       "      <td>40.0</td>\n",
       "      <td>1</td>\n",
       "      <td>3</td>\n",
       "      <td>1000</td>\n",
       "      <td>Laptop</td>\n",
       "      <td>10</td>\n",
       "    </tr>\n",
       "    <tr>\n",
       "      <th>58</th>\n",
       "      <td>59</td>\n",
       "      <td>Female</td>\n",
       "      <td>20</td>\n",
       "      <td>Junior</td>\n",
       "      <td>CIS</td>\n",
       "      <td>No</td>\n",
       "      <td>2.9</td>\n",
       "      <td>Part-Time</td>\n",
       "      <td>40.0</td>\n",
       "      <td>2</td>\n",
       "      <td>4</td>\n",
       "      <td>350</td>\n",
       "      <td>Laptop</td>\n",
       "      <td>250</td>\n",
       "    </tr>\n",
       "    <tr>\n",
       "      <th>59</th>\n",
       "      <td>60</td>\n",
       "      <td>Female</td>\n",
       "      <td>20</td>\n",
       "      <td>Sophomore</td>\n",
       "      <td>CIS</td>\n",
       "      <td>No</td>\n",
       "      <td>2.5</td>\n",
       "      <td>Part-Time</td>\n",
       "      <td>55.0</td>\n",
       "      <td>1</td>\n",
       "      <td>4</td>\n",
       "      <td>500</td>\n",
       "      <td>Laptop</td>\n",
       "      <td>500</td>\n",
       "    </tr>\n",
       "    <tr>\n",
       "      <th>60</th>\n",
       "      <td>61</td>\n",
       "      <td>Female</td>\n",
       "      <td>23</td>\n",
       "      <td>Senior</td>\n",
       "      <td>Accounting</td>\n",
       "      <td>Yes</td>\n",
       "      <td>3.5</td>\n",
       "      <td>Part-Time</td>\n",
       "      <td>30.0</td>\n",
       "      <td>2</td>\n",
       "      <td>3</td>\n",
       "      <td>490</td>\n",
       "      <td>Laptop</td>\n",
       "      <td>50</td>\n",
       "    </tr>\n",
       "    <tr>\n",
       "      <th>61</th>\n",
       "      <td>62</td>\n",
       "      <td>Female</td>\n",
       "      <td>23</td>\n",
       "      <td>Senior</td>\n",
       "      <td>Economics/Finance</td>\n",
       "      <td>No</td>\n",
       "      <td>3.2</td>\n",
       "      <td>Part-Time</td>\n",
       "      <td>70.0</td>\n",
       "      <td>2</td>\n",
       "      <td>3</td>\n",
       "      <td>250</td>\n",
       "      <td>Laptop</td>\n",
       "      <td>0</td>\n",
       "    </tr>\n",
       "  </tbody>\n",
       "</table>\n",
       "</div>"
      ],
      "text/plain": [
       "    ID  Gender  Age      Class                   Major Grad Intention  GPA  \\\n",
       "57  58  Female   21     Senior  International Business             No  2.4   \n",
       "58  59  Female   20     Junior                     CIS             No  2.9   \n",
       "59  60  Female   20  Sophomore                     CIS             No  2.5   \n",
       "60  61  Female   23     Senior              Accounting            Yes  3.5   \n",
       "61  62  Female   23     Senior       Economics/Finance             No  3.2   \n",
       "\n",
       "   Employment  Salary  Social Networking  Satisfaction  Spending Computer  \\\n",
       "57  Part-Time    40.0                  1             3      1000   Laptop   \n",
       "58  Part-Time    40.0                  2             4       350   Laptop   \n",
       "59  Part-Time    55.0                  1             4       500   Laptop   \n",
       "60  Part-Time    30.0                  2             3       490   Laptop   \n",
       "61  Part-Time    70.0                  2             3       250   Laptop   \n",
       "\n",
       "    Text Messages  \n",
       "57             10  \n",
       "58            250  \n",
       "59            500  \n",
       "60             50  \n",
       "61              0  "
      ]
     },
     "execution_count": 104,
     "metadata": {},
     "output_type": "execute_result"
    }
   ],
   "source": [
    "cmsu.tail()"
   ]
  },
  {
   "cell_type": "code",
   "execution_count": 105,
   "id": "116c98d3",
   "metadata": {},
   "outputs": [
    {
     "name": "stdout",
     "output_type": "stream",
     "text": [
      "<class 'pandas.core.frame.DataFrame'>\n",
      "RangeIndex: 62 entries, 0 to 61\n",
      "Data columns (total 14 columns):\n",
      " #   Column             Non-Null Count  Dtype  \n",
      "---  ------             --------------  -----  \n",
      " 0   ID                 62 non-null     int64  \n",
      " 1   Gender             62 non-null     object \n",
      " 2   Age                62 non-null     int64  \n",
      " 3   Class              62 non-null     object \n",
      " 4   Major              62 non-null     object \n",
      " 5   Grad Intention     62 non-null     object \n",
      " 6   GPA                62 non-null     float64\n",
      " 7   Employment         62 non-null     object \n",
      " 8   Salary             62 non-null     float64\n",
      " 9   Social Networking  62 non-null     int64  \n",
      " 10  Satisfaction       62 non-null     int64  \n",
      " 11  Spending           62 non-null     int64  \n",
      " 12  Computer           62 non-null     object \n",
      " 13  Text Messages      62 non-null     int64  \n",
      "dtypes: float64(2), int64(6), object(6)\n",
      "memory usage: 6.9+ KB\n"
     ]
    }
   ],
   "source": [
    "cmsu.info()"
   ]
  },
  {
   "cell_type": "code",
   "execution_count": 106,
   "id": "8d1692a8",
   "metadata": {},
   "outputs": [
    {
     "data": {
      "text/html": [
       "<div>\n",
       "<style scoped>\n",
       "    .dataframe tbody tr th:only-of-type {\n",
       "        vertical-align: middle;\n",
       "    }\n",
       "\n",
       "    .dataframe tbody tr th {\n",
       "        vertical-align: top;\n",
       "    }\n",
       "\n",
       "    .dataframe thead th {\n",
       "        text-align: right;\n",
       "    }\n",
       "</style>\n",
       "<table border=\"1\" class=\"dataframe\">\n",
       "  <thead>\n",
       "    <tr style=\"text-align: right;\">\n",
       "      <th></th>\n",
       "      <th>count</th>\n",
       "      <th>unique</th>\n",
       "      <th>top</th>\n",
       "      <th>freq</th>\n",
       "      <th>mean</th>\n",
       "      <th>std</th>\n",
       "      <th>min</th>\n",
       "      <th>25%</th>\n",
       "      <th>50%</th>\n",
       "      <th>75%</th>\n",
       "      <th>max</th>\n",
       "    </tr>\n",
       "  </thead>\n",
       "  <tbody>\n",
       "    <tr>\n",
       "      <th>ID</th>\n",
       "      <td>62.0</td>\n",
       "      <td>NaN</td>\n",
       "      <td>NaN</td>\n",
       "      <td>NaN</td>\n",
       "      <td>31.5</td>\n",
       "      <td>18.041619</td>\n",
       "      <td>1.0</td>\n",
       "      <td>16.25</td>\n",
       "      <td>31.5</td>\n",
       "      <td>46.75</td>\n",
       "      <td>62.0</td>\n",
       "    </tr>\n",
       "    <tr>\n",
       "      <th>Gender</th>\n",
       "      <td>62</td>\n",
       "      <td>2</td>\n",
       "      <td>Female</td>\n",
       "      <td>33</td>\n",
       "      <td>NaN</td>\n",
       "      <td>NaN</td>\n",
       "      <td>NaN</td>\n",
       "      <td>NaN</td>\n",
       "      <td>NaN</td>\n",
       "      <td>NaN</td>\n",
       "      <td>NaN</td>\n",
       "    </tr>\n",
       "    <tr>\n",
       "      <th>Age</th>\n",
       "      <td>62.0</td>\n",
       "      <td>NaN</td>\n",
       "      <td>NaN</td>\n",
       "      <td>NaN</td>\n",
       "      <td>21.129032</td>\n",
       "      <td>1.431311</td>\n",
       "      <td>18.0</td>\n",
       "      <td>20.0</td>\n",
       "      <td>21.0</td>\n",
       "      <td>22.0</td>\n",
       "      <td>26.0</td>\n",
       "    </tr>\n",
       "    <tr>\n",
       "      <th>Class</th>\n",
       "      <td>62</td>\n",
       "      <td>3</td>\n",
       "      <td>Senior</td>\n",
       "      <td>31</td>\n",
       "      <td>NaN</td>\n",
       "      <td>NaN</td>\n",
       "      <td>NaN</td>\n",
       "      <td>NaN</td>\n",
       "      <td>NaN</td>\n",
       "      <td>NaN</td>\n",
       "      <td>NaN</td>\n",
       "    </tr>\n",
       "    <tr>\n",
       "      <th>Major</th>\n",
       "      <td>62</td>\n",
       "      <td>8</td>\n",
       "      <td>Retailing/Marketing</td>\n",
       "      <td>14</td>\n",
       "      <td>NaN</td>\n",
       "      <td>NaN</td>\n",
       "      <td>NaN</td>\n",
       "      <td>NaN</td>\n",
       "      <td>NaN</td>\n",
       "      <td>NaN</td>\n",
       "      <td>NaN</td>\n",
       "    </tr>\n",
       "    <tr>\n",
       "      <th>Grad Intention</th>\n",
       "      <td>62</td>\n",
       "      <td>3</td>\n",
       "      <td>Yes</td>\n",
       "      <td>28</td>\n",
       "      <td>NaN</td>\n",
       "      <td>NaN</td>\n",
       "      <td>NaN</td>\n",
       "      <td>NaN</td>\n",
       "      <td>NaN</td>\n",
       "      <td>NaN</td>\n",
       "      <td>NaN</td>\n",
       "    </tr>\n",
       "    <tr>\n",
       "      <th>GPA</th>\n",
       "      <td>62.0</td>\n",
       "      <td>NaN</td>\n",
       "      <td>NaN</td>\n",
       "      <td>NaN</td>\n",
       "      <td>3.129032</td>\n",
       "      <td>0.377388</td>\n",
       "      <td>2.3</td>\n",
       "      <td>2.9</td>\n",
       "      <td>3.15</td>\n",
       "      <td>3.4</td>\n",
       "      <td>3.9</td>\n",
       "    </tr>\n",
       "    <tr>\n",
       "      <th>Employment</th>\n",
       "      <td>62</td>\n",
       "      <td>3</td>\n",
       "      <td>Part-Time</td>\n",
       "      <td>43</td>\n",
       "      <td>NaN</td>\n",
       "      <td>NaN</td>\n",
       "      <td>NaN</td>\n",
       "      <td>NaN</td>\n",
       "      <td>NaN</td>\n",
       "      <td>NaN</td>\n",
       "      <td>NaN</td>\n",
       "    </tr>\n",
       "    <tr>\n",
       "      <th>Salary</th>\n",
       "      <td>62.0</td>\n",
       "      <td>NaN</td>\n",
       "      <td>NaN</td>\n",
       "      <td>NaN</td>\n",
       "      <td>48.548387</td>\n",
       "      <td>12.080912</td>\n",
       "      <td>25.0</td>\n",
       "      <td>40.0</td>\n",
       "      <td>50.0</td>\n",
       "      <td>55.0</td>\n",
       "      <td>80.0</td>\n",
       "    </tr>\n",
       "    <tr>\n",
       "      <th>Social Networking</th>\n",
       "      <td>62.0</td>\n",
       "      <td>NaN</td>\n",
       "      <td>NaN</td>\n",
       "      <td>NaN</td>\n",
       "      <td>1.516129</td>\n",
       "      <td>0.844305</td>\n",
       "      <td>0.0</td>\n",
       "      <td>1.0</td>\n",
       "      <td>1.0</td>\n",
       "      <td>2.0</td>\n",
       "      <td>4.0</td>\n",
       "    </tr>\n",
       "    <tr>\n",
       "      <th>Satisfaction</th>\n",
       "      <td>62.0</td>\n",
       "      <td>NaN</td>\n",
       "      <td>NaN</td>\n",
       "      <td>NaN</td>\n",
       "      <td>3.741935</td>\n",
       "      <td>1.213793</td>\n",
       "      <td>1.0</td>\n",
       "      <td>3.0</td>\n",
       "      <td>4.0</td>\n",
       "      <td>4.0</td>\n",
       "      <td>6.0</td>\n",
       "    </tr>\n",
       "    <tr>\n",
       "      <th>Spending</th>\n",
       "      <td>62.0</td>\n",
       "      <td>NaN</td>\n",
       "      <td>NaN</td>\n",
       "      <td>NaN</td>\n",
       "      <td>482.016129</td>\n",
       "      <td>221.953805</td>\n",
       "      <td>100.0</td>\n",
       "      <td>312.5</td>\n",
       "      <td>500.0</td>\n",
       "      <td>600.0</td>\n",
       "      <td>1400.0</td>\n",
       "    </tr>\n",
       "    <tr>\n",
       "      <th>Computer</th>\n",
       "      <td>62</td>\n",
       "      <td>3</td>\n",
       "      <td>Laptop</td>\n",
       "      <td>55</td>\n",
       "      <td>NaN</td>\n",
       "      <td>NaN</td>\n",
       "      <td>NaN</td>\n",
       "      <td>NaN</td>\n",
       "      <td>NaN</td>\n",
       "      <td>NaN</td>\n",
       "      <td>NaN</td>\n",
       "    </tr>\n",
       "    <tr>\n",
       "      <th>Text Messages</th>\n",
       "      <td>62.0</td>\n",
       "      <td>NaN</td>\n",
       "      <td>NaN</td>\n",
       "      <td>NaN</td>\n",
       "      <td>246.209677</td>\n",
       "      <td>214.46595</td>\n",
       "      <td>0.0</td>\n",
       "      <td>100.0</td>\n",
       "      <td>200.0</td>\n",
       "      <td>300.0</td>\n",
       "      <td>900.0</td>\n",
       "    </tr>\n",
       "  </tbody>\n",
       "</table>\n",
       "</div>"
      ],
      "text/plain": [
       "                  count unique                  top freq        mean  \\\n",
       "ID                 62.0    NaN                  NaN  NaN        31.5   \n",
       "Gender               62      2               Female   33         NaN   \n",
       "Age                62.0    NaN                  NaN  NaN   21.129032   \n",
       "Class                62      3               Senior   31         NaN   \n",
       "Major                62      8  Retailing/Marketing   14         NaN   \n",
       "Grad Intention       62      3                  Yes   28         NaN   \n",
       "GPA                62.0    NaN                  NaN  NaN    3.129032   \n",
       "Employment           62      3            Part-Time   43         NaN   \n",
       "Salary             62.0    NaN                  NaN  NaN   48.548387   \n",
       "Social Networking  62.0    NaN                  NaN  NaN    1.516129   \n",
       "Satisfaction       62.0    NaN                  NaN  NaN    3.741935   \n",
       "Spending           62.0    NaN                  NaN  NaN  482.016129   \n",
       "Computer             62      3               Laptop   55         NaN   \n",
       "Text Messages      62.0    NaN                  NaN  NaN  246.209677   \n",
       "\n",
       "                          std    min    25%    50%    75%     max  \n",
       "ID                  18.041619    1.0  16.25   31.5  46.75    62.0  \n",
       "Gender                    NaN    NaN    NaN    NaN    NaN     NaN  \n",
       "Age                  1.431311   18.0   20.0   21.0   22.0    26.0  \n",
       "Class                     NaN    NaN    NaN    NaN    NaN     NaN  \n",
       "Major                     NaN    NaN    NaN    NaN    NaN     NaN  \n",
       "Grad Intention            NaN    NaN    NaN    NaN    NaN     NaN  \n",
       "GPA                  0.377388    2.3    2.9   3.15    3.4     3.9  \n",
       "Employment                NaN    NaN    NaN    NaN    NaN     NaN  \n",
       "Salary              12.080912   25.0   40.0   50.0   55.0    80.0  \n",
       "Social Networking    0.844305    0.0    1.0    1.0    2.0     4.0  \n",
       "Satisfaction         1.213793    1.0    3.0    4.0    4.0     6.0  \n",
       "Spending           221.953805  100.0  312.5  500.0  600.0  1400.0  \n",
       "Computer                  NaN    NaN    NaN    NaN    NaN     NaN  \n",
       "Text Messages       214.46595    0.0  100.0  200.0  300.0   900.0  "
      ]
     },
     "execution_count": 106,
     "metadata": {},
     "output_type": "execute_result"
    }
   ],
   "source": [
    "cmsu.describe(include = 'all').T"
   ]
  },
  {
   "cell_type": "markdown",
   "id": "aad4e246",
   "metadata": {},
   "source": [
    "## 2.1.1"
   ]
  },
  {
   "cell_type": "code",
   "execution_count": 107,
   "id": "188b4cf6",
   "metadata": {},
   "outputs": [],
   "source": [
    "gender_major = pd.crosstab(cmsu['Gender'],cmsu['Major'],margins = True)\n",
    "dfi.export(gender_major,'gender_major.png')"
   ]
  },
  {
   "cell_type": "code",
   "execution_count": 108,
   "id": "c5c546cf",
   "metadata": {},
   "outputs": [
    {
     "data": {
      "text/html": [
       "<div>\n",
       "<style scoped>\n",
       "    .dataframe tbody tr th:only-of-type {\n",
       "        vertical-align: middle;\n",
       "    }\n",
       "\n",
       "    .dataframe tbody tr th {\n",
       "        vertical-align: top;\n",
       "    }\n",
       "\n",
       "    .dataframe thead th {\n",
       "        text-align: right;\n",
       "    }\n",
       "</style>\n",
       "<table border=\"1\" class=\"dataframe\">\n",
       "  <thead>\n",
       "    <tr style=\"text-align: right;\">\n",
       "      <th>Major</th>\n",
       "      <th>Accounting</th>\n",
       "      <th>CIS</th>\n",
       "      <th>Economics/Finance</th>\n",
       "      <th>International Business</th>\n",
       "      <th>Management</th>\n",
       "      <th>Other</th>\n",
       "      <th>Retailing/Marketing</th>\n",
       "      <th>Undecided</th>\n",
       "      <th>All</th>\n",
       "    </tr>\n",
       "    <tr>\n",
       "      <th>Gender</th>\n",
       "      <th></th>\n",
       "      <th></th>\n",
       "      <th></th>\n",
       "      <th></th>\n",
       "      <th></th>\n",
       "      <th></th>\n",
       "      <th></th>\n",
       "      <th></th>\n",
       "      <th></th>\n",
       "    </tr>\n",
       "  </thead>\n",
       "  <tbody>\n",
       "    <tr>\n",
       "      <th>Female</th>\n",
       "      <td>3</td>\n",
       "      <td>3</td>\n",
       "      <td>7</td>\n",
       "      <td>4</td>\n",
       "      <td>4</td>\n",
       "      <td>3</td>\n",
       "      <td>9</td>\n",
       "      <td>0</td>\n",
       "      <td>33</td>\n",
       "    </tr>\n",
       "    <tr>\n",
       "      <th>Male</th>\n",
       "      <td>4</td>\n",
       "      <td>1</td>\n",
       "      <td>4</td>\n",
       "      <td>2</td>\n",
       "      <td>6</td>\n",
       "      <td>4</td>\n",
       "      <td>5</td>\n",
       "      <td>3</td>\n",
       "      <td>29</td>\n",
       "    </tr>\n",
       "    <tr>\n",
       "      <th>All</th>\n",
       "      <td>7</td>\n",
       "      <td>4</td>\n",
       "      <td>11</td>\n",
       "      <td>6</td>\n",
       "      <td>10</td>\n",
       "      <td>7</td>\n",
       "      <td>14</td>\n",
       "      <td>3</td>\n",
       "      <td>62</td>\n",
       "    </tr>\n",
       "  </tbody>\n",
       "</table>\n",
       "</div>"
      ],
      "text/plain": [
       "Major   Accounting  CIS  Economics/Finance  International Business  \\\n",
       "Gender                                                               \n",
       "Female           3    3                  7                       4   \n",
       "Male             4    1                  4                       2   \n",
       "All              7    4                 11                       6   \n",
       "\n",
       "Major   Management  Other  Retailing/Marketing  Undecided  All  \n",
       "Gender                                                          \n",
       "Female           4      3                    9          0   33  \n",
       "Male             6      4                    5          3   29  \n",
       "All             10      7                   14          3   62  "
      ]
     },
     "execution_count": 108,
     "metadata": {},
     "output_type": "execute_result"
    }
   ],
   "source": [
    "gender_major"
   ]
  },
  {
   "cell_type": "code",
   "execution_count": 109,
   "id": "182fe496",
   "metadata": {},
   "outputs": [],
   "source": [
    "gender_gradintention = pd.crosstab(cmsu['Gender'],cmsu['Grad Intention'],margins = True)\n",
    "dfi.export(gender_gradintention,'gender_gradintention.png')"
   ]
  },
  {
   "cell_type": "code",
   "execution_count": 110,
   "id": "4a471efd",
   "metadata": {},
   "outputs": [
    {
     "data": {
      "text/html": [
       "<div>\n",
       "<style scoped>\n",
       "    .dataframe tbody tr th:only-of-type {\n",
       "        vertical-align: middle;\n",
       "    }\n",
       "\n",
       "    .dataframe tbody tr th {\n",
       "        vertical-align: top;\n",
       "    }\n",
       "\n",
       "    .dataframe thead th {\n",
       "        text-align: right;\n",
       "    }\n",
       "</style>\n",
       "<table border=\"1\" class=\"dataframe\">\n",
       "  <thead>\n",
       "    <tr style=\"text-align: right;\">\n",
       "      <th>Grad Intention</th>\n",
       "      <th>No</th>\n",
       "      <th>Undecided</th>\n",
       "      <th>Yes</th>\n",
       "      <th>All</th>\n",
       "    </tr>\n",
       "    <tr>\n",
       "      <th>Gender</th>\n",
       "      <th></th>\n",
       "      <th></th>\n",
       "      <th></th>\n",
       "      <th></th>\n",
       "    </tr>\n",
       "  </thead>\n",
       "  <tbody>\n",
       "    <tr>\n",
       "      <th>Female</th>\n",
       "      <td>9</td>\n",
       "      <td>13</td>\n",
       "      <td>11</td>\n",
       "      <td>33</td>\n",
       "    </tr>\n",
       "    <tr>\n",
       "      <th>Male</th>\n",
       "      <td>3</td>\n",
       "      <td>9</td>\n",
       "      <td>17</td>\n",
       "      <td>29</td>\n",
       "    </tr>\n",
       "    <tr>\n",
       "      <th>All</th>\n",
       "      <td>12</td>\n",
       "      <td>22</td>\n",
       "      <td>28</td>\n",
       "      <td>62</td>\n",
       "    </tr>\n",
       "  </tbody>\n",
       "</table>\n",
       "</div>"
      ],
      "text/plain": [
       "Grad Intention  No  Undecided  Yes  All\n",
       "Gender                                 \n",
       "Female           9         13   11   33\n",
       "Male             3          9   17   29\n",
       "All             12         22   28   62"
      ]
     },
     "execution_count": 110,
     "metadata": {},
     "output_type": "execute_result"
    }
   ],
   "source": [
    "gender_gradintention"
   ]
  },
  {
   "cell_type": "code",
   "execution_count": 111,
   "id": "a1ee3a68",
   "metadata": {},
   "outputs": [],
   "source": [
    "gender_employment = pd.crosstab(cmsu['Gender'],cmsu['Employment'],margins = True)\n",
    "dfi.export(gender_employment, 'gender_employment.png')"
   ]
  },
  {
   "cell_type": "code",
   "execution_count": 112,
   "id": "f36168e2",
   "metadata": {},
   "outputs": [
    {
     "data": {
      "text/html": [
       "<div>\n",
       "<style scoped>\n",
       "    .dataframe tbody tr th:only-of-type {\n",
       "        vertical-align: middle;\n",
       "    }\n",
       "\n",
       "    .dataframe tbody tr th {\n",
       "        vertical-align: top;\n",
       "    }\n",
       "\n",
       "    .dataframe thead th {\n",
       "        text-align: right;\n",
       "    }\n",
       "</style>\n",
       "<table border=\"1\" class=\"dataframe\">\n",
       "  <thead>\n",
       "    <tr style=\"text-align: right;\">\n",
       "      <th>Employment</th>\n",
       "      <th>Full-Time</th>\n",
       "      <th>Part-Time</th>\n",
       "      <th>Unemployed</th>\n",
       "      <th>All</th>\n",
       "    </tr>\n",
       "    <tr>\n",
       "      <th>Gender</th>\n",
       "      <th></th>\n",
       "      <th></th>\n",
       "      <th></th>\n",
       "      <th></th>\n",
       "    </tr>\n",
       "  </thead>\n",
       "  <tbody>\n",
       "    <tr>\n",
       "      <th>Female</th>\n",
       "      <td>3</td>\n",
       "      <td>24</td>\n",
       "      <td>6</td>\n",
       "      <td>33</td>\n",
       "    </tr>\n",
       "    <tr>\n",
       "      <th>Male</th>\n",
       "      <td>7</td>\n",
       "      <td>19</td>\n",
       "      <td>3</td>\n",
       "      <td>29</td>\n",
       "    </tr>\n",
       "    <tr>\n",
       "      <th>All</th>\n",
       "      <td>10</td>\n",
       "      <td>43</td>\n",
       "      <td>9</td>\n",
       "      <td>62</td>\n",
       "    </tr>\n",
       "  </tbody>\n",
       "</table>\n",
       "</div>"
      ],
      "text/plain": [
       "Employment  Full-Time  Part-Time  Unemployed  All\n",
       "Gender                                           \n",
       "Female              3         24           6   33\n",
       "Male                7         19           3   29\n",
       "All                10         43           9   62"
      ]
     },
     "execution_count": 112,
     "metadata": {},
     "output_type": "execute_result"
    }
   ],
   "source": [
    "gender_employment"
   ]
  },
  {
   "cell_type": "code",
   "execution_count": 113,
   "id": "39245fcb",
   "metadata": {},
   "outputs": [],
   "source": [
    "gender_computer = pd.crosstab(cmsu['Gender'], cmsu['Computer'], margins= True)\n",
    "dfi.export(gender_computer,'gender_computer.png')"
   ]
  },
  {
   "cell_type": "code",
   "execution_count": 114,
   "id": "7d8a359b",
   "metadata": {},
   "outputs": [
    {
     "data": {
      "text/html": [
       "<div>\n",
       "<style scoped>\n",
       "    .dataframe tbody tr th:only-of-type {\n",
       "        vertical-align: middle;\n",
       "    }\n",
       "\n",
       "    .dataframe tbody tr th {\n",
       "        vertical-align: top;\n",
       "    }\n",
       "\n",
       "    .dataframe thead th {\n",
       "        text-align: right;\n",
       "    }\n",
       "</style>\n",
       "<table border=\"1\" class=\"dataframe\">\n",
       "  <thead>\n",
       "    <tr style=\"text-align: right;\">\n",
       "      <th>Computer</th>\n",
       "      <th>Desktop</th>\n",
       "      <th>Laptop</th>\n",
       "      <th>Tablet</th>\n",
       "      <th>All</th>\n",
       "    </tr>\n",
       "    <tr>\n",
       "      <th>Gender</th>\n",
       "      <th></th>\n",
       "      <th></th>\n",
       "      <th></th>\n",
       "      <th></th>\n",
       "    </tr>\n",
       "  </thead>\n",
       "  <tbody>\n",
       "    <tr>\n",
       "      <th>Female</th>\n",
       "      <td>2</td>\n",
       "      <td>29</td>\n",
       "      <td>2</td>\n",
       "      <td>33</td>\n",
       "    </tr>\n",
       "    <tr>\n",
       "      <th>Male</th>\n",
       "      <td>3</td>\n",
       "      <td>26</td>\n",
       "      <td>0</td>\n",
       "      <td>29</td>\n",
       "    </tr>\n",
       "    <tr>\n",
       "      <th>All</th>\n",
       "      <td>5</td>\n",
       "      <td>55</td>\n",
       "      <td>2</td>\n",
       "      <td>62</td>\n",
       "    </tr>\n",
       "  </tbody>\n",
       "</table>\n",
       "</div>"
      ],
      "text/plain": [
       "Computer  Desktop  Laptop  Tablet  All\n",
       "Gender                                \n",
       "Female          2      29       2   33\n",
       "Male            3      26       0   29\n",
       "All             5      55       2   62"
      ]
     },
     "execution_count": 114,
     "metadata": {},
     "output_type": "execute_result"
    }
   ],
   "source": [
    "gender_computer"
   ]
  },
  {
   "cell_type": "markdown",
   "id": "888dd47d",
   "metadata": {},
   "source": [
    "## 2.6"
   ]
  },
  {
   "cell_type": "code",
   "execution_count": 115,
   "id": "0d2a964c",
   "metadata": {},
   "outputs": [
    {
     "data": {
      "text/html": [
       "<div>\n",
       "<style scoped>\n",
       "    .dataframe tbody tr th:only-of-type {\n",
       "        vertical-align: middle;\n",
       "    }\n",
       "\n",
       "    .dataframe tbody tr th {\n",
       "        vertical-align: top;\n",
       "    }\n",
       "\n",
       "    .dataframe thead th {\n",
       "        text-align: right;\n",
       "    }\n",
       "</style>\n",
       "<table border=\"1\" class=\"dataframe\">\n",
       "  <thead>\n",
       "    <tr style=\"text-align: right;\">\n",
       "      <th>Grad Intention</th>\n",
       "      <th>No</th>\n",
       "      <th>Yes</th>\n",
       "    </tr>\n",
       "    <tr>\n",
       "      <th>Gender</th>\n",
       "      <th></th>\n",
       "      <th></th>\n",
       "    </tr>\n",
       "  </thead>\n",
       "  <tbody>\n",
       "    <tr>\n",
       "      <th>Female</th>\n",
       "      <td>9</td>\n",
       "      <td>11</td>\n",
       "    </tr>\n",
       "    <tr>\n",
       "      <th>Male</th>\n",
       "      <td>3</td>\n",
       "      <td>17</td>\n",
       "    </tr>\n",
       "  </tbody>\n",
       "</table>\n",
       "</div>"
      ],
      "text/plain": [
       "Grad Intention  No  Yes\n",
       "Gender                 \n",
       "Female           9   11\n",
       "Male             3   17"
      ]
     },
     "execution_count": 115,
     "metadata": {},
     "output_type": "execute_result"
    }
   ],
   "source": [
    "gender_gradintention_YN = pd.crosstab(cmsu['Gender'],cmsu['Grad Intention'])\n",
    "gender_gradintention_YN.drop('Undecided',axis=1,inplace=True)\n",
    "gender_gradintention_YN"
   ]
  },
  {
   "cell_type": "code",
   "execution_count": 116,
   "id": "d1213675",
   "metadata": {},
   "outputs": [],
   "source": [
    "gender_gradintention_YN['Total'] = gender_gradintention_YN.sum(axis = 1)"
   ]
  },
  {
   "cell_type": "code",
   "execution_count": 117,
   "id": "f431546f",
   "metadata": {},
   "outputs": [
    {
     "data": {
      "text/html": [
       "<div>\n",
       "<style scoped>\n",
       "    .dataframe tbody tr th:only-of-type {\n",
       "        vertical-align: middle;\n",
       "    }\n",
       "\n",
       "    .dataframe tbody tr th {\n",
       "        vertical-align: top;\n",
       "    }\n",
       "\n",
       "    .dataframe thead th {\n",
       "        text-align: right;\n",
       "    }\n",
       "</style>\n",
       "<table border=\"1\" class=\"dataframe\">\n",
       "  <thead>\n",
       "    <tr style=\"text-align: right;\">\n",
       "      <th>Grad Intention</th>\n",
       "      <th>No</th>\n",
       "      <th>Yes</th>\n",
       "      <th>Total</th>\n",
       "    </tr>\n",
       "    <tr>\n",
       "      <th>Gender</th>\n",
       "      <th></th>\n",
       "      <th></th>\n",
       "      <th></th>\n",
       "    </tr>\n",
       "  </thead>\n",
       "  <tbody>\n",
       "    <tr>\n",
       "      <th>Female</th>\n",
       "      <td>9</td>\n",
       "      <td>11</td>\n",
       "      <td>20</td>\n",
       "    </tr>\n",
       "    <tr>\n",
       "      <th>Male</th>\n",
       "      <td>3</td>\n",
       "      <td>17</td>\n",
       "      <td>20</td>\n",
       "    </tr>\n",
       "  </tbody>\n",
       "</table>\n",
       "</div>"
      ],
      "text/plain": [
       "Grad Intention  No  Yes  Total\n",
       "Gender                        \n",
       "Female           9   11     20\n",
       "Male             3   17     20"
      ]
     },
     "execution_count": 117,
     "metadata": {},
     "output_type": "execute_result"
    }
   ],
   "source": [
    "gender_gradintention_YN"
   ]
  },
  {
   "cell_type": "code",
   "execution_count": 118,
   "id": "61f88b56",
   "metadata": {},
   "outputs": [],
   "source": [
    "gender_gradintention_YN.loc['Total'] = gender_gradintention_YN.sum(axis=0,numeric_only=True)"
   ]
  },
  {
   "cell_type": "code",
   "execution_count": 119,
   "id": "68e6ad70",
   "metadata": {},
   "outputs": [
    {
     "data": {
      "text/html": [
       "<div>\n",
       "<style scoped>\n",
       "    .dataframe tbody tr th:only-of-type {\n",
       "        vertical-align: middle;\n",
       "    }\n",
       "\n",
       "    .dataframe tbody tr th {\n",
       "        vertical-align: top;\n",
       "    }\n",
       "\n",
       "    .dataframe thead th {\n",
       "        text-align: right;\n",
       "    }\n",
       "</style>\n",
       "<table border=\"1\" class=\"dataframe\">\n",
       "  <thead>\n",
       "    <tr style=\"text-align: right;\">\n",
       "      <th>Grad Intention</th>\n",
       "      <th>No</th>\n",
       "      <th>Yes</th>\n",
       "      <th>Total</th>\n",
       "    </tr>\n",
       "    <tr>\n",
       "      <th>Gender</th>\n",
       "      <th></th>\n",
       "      <th></th>\n",
       "      <th></th>\n",
       "    </tr>\n",
       "  </thead>\n",
       "  <tbody>\n",
       "    <tr>\n",
       "      <th>Female</th>\n",
       "      <td>9</td>\n",
       "      <td>11</td>\n",
       "      <td>20</td>\n",
       "    </tr>\n",
       "    <tr>\n",
       "      <th>Male</th>\n",
       "      <td>3</td>\n",
       "      <td>17</td>\n",
       "      <td>20</td>\n",
       "    </tr>\n",
       "    <tr>\n",
       "      <th>Total</th>\n",
       "      <td>12</td>\n",
       "      <td>28</td>\n",
       "      <td>40</td>\n",
       "    </tr>\n",
       "  </tbody>\n",
       "</table>\n",
       "</div>"
      ],
      "text/plain": [
       "Grad Intention  No  Yes  Total\n",
       "Gender                        \n",
       "Female           9   11     20\n",
       "Male             3   17     20\n",
       "Total           12   28     40"
      ]
     },
     "execution_count": 119,
     "metadata": {},
     "output_type": "execute_result"
    }
   ],
   "source": [
    "gender_gradintention_YN"
   ]
  },
  {
   "cell_type": "code",
   "execution_count": 120,
   "id": "5ff0de8e",
   "metadata": {},
   "outputs": [],
   "source": [
    "dfi.export(gender_gradintention_YN,'gender_gradintention_YN.png')"
   ]
  },
  {
   "cell_type": "markdown",
   "id": "b8d9fa2f",
   "metadata": {},
   "source": [
    "## 2.7"
   ]
  },
  {
   "cell_type": "code",
   "execution_count": 121,
   "id": "ac843809",
   "metadata": {},
   "outputs": [],
   "source": [
    "import scipy.stats as stats"
   ]
  },
  {
   "cell_type": "code",
   "execution_count": 122,
   "id": "c6adba8a",
   "metadata": {},
   "outputs": [
    {
     "data": {
      "text/plain": [
       "(17, 14)"
      ]
     },
     "execution_count": 122,
     "metadata": {},
     "output_type": "execute_result"
    }
   ],
   "source": [
    "cmsu[cmsu['GPA'] < 3].shape"
   ]
  },
  {
   "cell_type": "code",
   "execution_count": 123,
   "id": "f707c9a5",
   "metadata": {},
   "outputs": [
    {
     "data": {
      "text/plain": [
       "(14, 14)"
      ]
     },
     "execution_count": 123,
     "metadata": {},
     "output_type": "execute_result"
    }
   ],
   "source": [
    "cmsu[(cmsu['Gender']=='Male') & (cmsu['Salary'] >= 50)].shape"
   ]
  },
  {
   "cell_type": "code",
   "execution_count": 124,
   "id": "ce605b65",
   "metadata": {},
   "outputs": [
    {
     "data": {
      "text/plain": [
       "(29, 14)"
      ]
     },
     "execution_count": 124,
     "metadata": {},
     "output_type": "execute_result"
    }
   ],
   "source": [
    "cmsu[cmsu['Gender']=='Male'].shape"
   ]
  },
  {
   "cell_type": "code",
   "execution_count": 125,
   "id": "2f852dd6",
   "metadata": {},
   "outputs": [],
   "source": [
    "gender_Salary_50 = pd.crosstab(cmsu['Gender'],cmsu['Salary']>=50)"
   ]
  },
  {
   "cell_type": "code",
   "execution_count": 126,
   "id": "05fd144d",
   "metadata": {},
   "outputs": [],
   "source": [
    "dfi.export(gender_Salary_50,'gender_salary_50.png')"
   ]
  },
  {
   "cell_type": "markdown",
   "id": "12cc36e2",
   "metadata": {},
   "source": [
    "## 2.8"
   ]
  },
  {
   "cell_type": "code",
   "execution_count": 127,
   "id": "b0da32e6",
   "metadata": {},
   "outputs": [
    {
     "data": {
      "text/html": [
       "<div>\n",
       "<style scoped>\n",
       "    .dataframe tbody tr th:only-of-type {\n",
       "        vertical-align: middle;\n",
       "    }\n",
       "\n",
       "    .dataframe tbody tr th {\n",
       "        vertical-align: top;\n",
       "    }\n",
       "\n",
       "    .dataframe thead th {\n",
       "        text-align: right;\n",
       "    }\n",
       "</style>\n",
       "<table border=\"1\" class=\"dataframe\">\n",
       "  <thead>\n",
       "    <tr style=\"text-align: right;\">\n",
       "      <th></th>\n",
       "      <th>ID</th>\n",
       "      <th>Gender</th>\n",
       "      <th>Age</th>\n",
       "      <th>Class</th>\n",
       "      <th>Major</th>\n",
       "      <th>Grad Intention</th>\n",
       "      <th>GPA</th>\n",
       "      <th>Employment</th>\n",
       "      <th>Salary</th>\n",
       "      <th>Social Networking</th>\n",
       "      <th>Satisfaction</th>\n",
       "      <th>Spending</th>\n",
       "      <th>Computer</th>\n",
       "      <th>Text Messages</th>\n",
       "    </tr>\n",
       "  </thead>\n",
       "  <tbody>\n",
       "    <tr>\n",
       "      <th>0</th>\n",
       "      <td>1</td>\n",
       "      <td>Female</td>\n",
       "      <td>20</td>\n",
       "      <td>Junior</td>\n",
       "      <td>Other</td>\n",
       "      <td>Yes</td>\n",
       "      <td>2.9</td>\n",
       "      <td>Full-Time</td>\n",
       "      <td>50.0</td>\n",
       "      <td>1</td>\n",
       "      <td>3</td>\n",
       "      <td>350</td>\n",
       "      <td>Laptop</td>\n",
       "      <td>200</td>\n",
       "    </tr>\n",
       "    <tr>\n",
       "      <th>1</th>\n",
       "      <td>2</td>\n",
       "      <td>Male</td>\n",
       "      <td>23</td>\n",
       "      <td>Senior</td>\n",
       "      <td>Management</td>\n",
       "      <td>Yes</td>\n",
       "      <td>3.6</td>\n",
       "      <td>Part-Time</td>\n",
       "      <td>25.0</td>\n",
       "      <td>1</td>\n",
       "      <td>4</td>\n",
       "      <td>360</td>\n",
       "      <td>Laptop</td>\n",
       "      <td>50</td>\n",
       "    </tr>\n",
       "    <tr>\n",
       "      <th>2</th>\n",
       "      <td>3</td>\n",
       "      <td>Male</td>\n",
       "      <td>21</td>\n",
       "      <td>Junior</td>\n",
       "      <td>Other</td>\n",
       "      <td>Yes</td>\n",
       "      <td>2.5</td>\n",
       "      <td>Part-Time</td>\n",
       "      <td>45.0</td>\n",
       "      <td>2</td>\n",
       "      <td>4</td>\n",
       "      <td>600</td>\n",
       "      <td>Laptop</td>\n",
       "      <td>200</td>\n",
       "    </tr>\n",
       "    <tr>\n",
       "      <th>3</th>\n",
       "      <td>4</td>\n",
       "      <td>Male</td>\n",
       "      <td>21</td>\n",
       "      <td>Junior</td>\n",
       "      <td>CIS</td>\n",
       "      <td>Yes</td>\n",
       "      <td>2.5</td>\n",
       "      <td>Full-Time</td>\n",
       "      <td>40.0</td>\n",
       "      <td>4</td>\n",
       "      <td>6</td>\n",
       "      <td>600</td>\n",
       "      <td>Laptop</td>\n",
       "      <td>250</td>\n",
       "    </tr>\n",
       "    <tr>\n",
       "      <th>4</th>\n",
       "      <td>5</td>\n",
       "      <td>Male</td>\n",
       "      <td>23</td>\n",
       "      <td>Senior</td>\n",
       "      <td>Other</td>\n",
       "      <td>Undecided</td>\n",
       "      <td>2.8</td>\n",
       "      <td>Unemployed</td>\n",
       "      <td>40.0</td>\n",
       "      <td>2</td>\n",
       "      <td>4</td>\n",
       "      <td>500</td>\n",
       "      <td>Laptop</td>\n",
       "      <td>100</td>\n",
       "    </tr>\n",
       "  </tbody>\n",
       "</table>\n",
       "</div>"
      ],
      "text/plain": [
       "   ID  Gender  Age   Class       Major Grad Intention  GPA  Employment  \\\n",
       "0   1  Female   20  Junior       Other            Yes  2.9   Full-Time   \n",
       "1   2    Male   23  Senior  Management            Yes  3.6   Part-Time   \n",
       "2   3    Male   21  Junior       Other            Yes  2.5   Part-Time   \n",
       "3   4    Male   21  Junior         CIS            Yes  2.5   Full-Time   \n",
       "4   5    Male   23  Senior       Other      Undecided  2.8  Unemployed   \n",
       "\n",
       "   Salary  Social Networking  Satisfaction  Spending Computer  Text Messages  \n",
       "0    50.0                  1             3       350   Laptop            200  \n",
       "1    25.0                  1             4       360   Laptop             50  \n",
       "2    45.0                  2             4       600   Laptop            200  \n",
       "3    40.0                  4             6       600   Laptop            250  \n",
       "4    40.0                  2             4       500   Laptop            100  "
      ]
     },
     "execution_count": 127,
     "metadata": {},
     "output_type": "execute_result"
    }
   ],
   "source": [
    "cmsu.head()"
   ]
  },
  {
   "cell_type": "code",
   "execution_count": 128,
   "id": "1e21dfe2",
   "metadata": {},
   "outputs": [
    {
     "data": {
      "image/png": "[encoded data removed]",
      "text/plain": [
       "<Figure size 432x288 with 1 Axes>"
      ]
     },
     "metadata": {},
     "output_type": "display_data"
    }
   ],
   "source": [
    "sns.histplot(cmsu['GPA'], kde = True)\n",
    "plt.savefig('GPA_KDE.png')\n",
    "plt.show()"
   ]
  },
  {
   "cell_type": "code",
   "execution_count": 129,
   "id": "f64db380",
   "metadata": {},
   "outputs": [
    {
     "name": "stdout",
     "output_type": "stream",
     "text": [
      "count    62.000000\n",
      "mean      3.129032\n",
      "std       0.377388\n",
      "min       2.300000\n",
      "25%       2.900000\n",
      "50%       3.150000\n",
      "75%       3.400000\n",
      "max       3.900000\n",
      "Name: GPA, dtype: float64\n",
      "Mode: 0    3.0\n",
      "1    3.1\n",
      "2    3.4\n",
      "dtype: float64\n",
      "Skewness: -0.3146000894506981\n"
     ]
    }
   ],
   "source": [
    "print(cmsu['GPA'].describe())\n",
    "print('Mode:',cmsu['GPA'].mode())\n",
    "print('Skewness:',cmsu['GPA'].skew())"
   ]
  },
  {
   "cell_type": "code",
   "execution_count": 130,
   "id": "31b8c752",
   "metadata": {},
   "outputs": [
    {
     "data": {
      "text/plain": [
       "True     0.725806\n",
       "False    0.274194\n",
       "Name: GPA, dtype: float64"
      ]
     },
     "execution_count": 130,
     "metadata": {},
     "output_type": "execute_result"
    }
   ],
   "source": [
    "mean_gp = cmsu['GPA'].mean()\n",
    "sd_gp = cmsu['GPA'].std()\n",
    "pd.Series(((cmsu['GPA'] >(mean_gp-sd_gp)) & (cmsu['GPA'] <(mean_gp+sd_gp))).value_counts(normalize=True))"
   ]
  },
  {
   "cell_type": "code",
   "execution_count": 131,
   "id": "e7c4033a",
   "metadata": {},
   "outputs": [
    {
     "data": {
      "text/plain": [
       "True     0.967742\n",
       "False    0.032258\n",
       "Name: GPA, dtype: float64"
      ]
     },
     "execution_count": 131,
     "metadata": {},
     "output_type": "execute_result"
    }
   ],
   "source": [
    "pd.Series(((cmsu['GPA'] >(mean_gp-2*sd_gp)) & (cmsu['GPA'] <(mean_gp+2*sd_gp))).value_counts(normalize=True))"
   ]
  },
  {
   "cell_type": "code",
   "execution_count": 132,
   "id": "b4baffc9",
   "metadata": {},
   "outputs": [
    {
     "data": {
      "text/plain": [
       "True    1.0\n",
       "Name: GPA, dtype: float64"
      ]
     },
     "execution_count": 132,
     "metadata": {},
     "output_type": "execute_result"
    }
   ],
   "source": [
    "pd.Series(((cmsu['GPA'] >(mean_gp-3*sd_gp)) & (cmsu['GPA'] <(mean_gp+3*sd_gp))).value_counts(normalize=True))"
   ]
  },
  {
   "cell_type": "code",
   "execution_count": 133,
   "id": "e9bb8354",
   "metadata": {},
   "outputs": [
    {
     "data": {
      "image/png": "[encoded data removed]",
      "text/plain": [
       "<Figure size 432x288 with 1 Axes>"
      ]
     },
     "metadata": {},
     "output_type": "display_data"
    }
   ],
   "source": [
    "sns.histplot(cmsu['Salary'],kde = True)\n",
    "plt.savefig('Salary.png')\n",
    "plt.show()"
   ]
  },
  {
   "cell_type": "code",
   "execution_count": 134,
   "id": "b18f55c5",
   "metadata": {},
   "outputs": [
    {
     "name": "stdout",
     "output_type": "stream",
     "text": [
      "count    62.000000\n",
      "mean     48.548387\n",
      "std      12.080912\n",
      "min      25.000000\n",
      "25%      40.000000\n",
      "50%      50.000000\n",
      "75%      55.000000\n",
      "max      80.000000\n",
      "Name: Salary, dtype: float64\n",
      "Mode 0    40.0\n",
      "dtype: float64\n",
      "Skewness 0.5347008436225946\n"
     ]
    }
   ],
   "source": [
    "print(cmsu['Salary'].describe())\n",
    "print('Mode',cmsu['Salary'].mode())\n",
    "print('Skewness',cmsu['Salary'].skew())"
   ]
  },
  {
   "cell_type": "code",
   "execution_count": 135,
   "id": "495d18d3",
   "metadata": {},
   "outputs": [
    {
     "data": {
      "text/plain": [
       "True     0.790323\n",
       "False    0.209677\n",
       "Name: Salary, dtype: float64"
      ]
     },
     "execution_count": 135,
     "metadata": {},
     "output_type": "execute_result"
    }
   ],
   "source": [
    "mean_sa = cmsu['Salary'].mean()\n",
    "sd_sa = cmsu['Salary'].std()\n",
    "pd.Series(((cmsu['Salary'] >(mean_sa-sd_sa)) & (cmsu['Salary'] <(mean_sa+sd_sa))).value_counts(normalize=True))"
   ]
  },
  {
   "cell_type": "code",
   "execution_count": 136,
   "id": "b00f97b9",
   "metadata": {},
   "outputs": [
    {
     "data": {
      "text/plain": [
       "True     0.951613\n",
       "False    0.048387\n",
       "Name: Salary, dtype: float64"
      ]
     },
     "execution_count": 136,
     "metadata": {},
     "output_type": "execute_result"
    }
   ],
   "source": [
    "pd.Series(((cmsu['Salary'] >(mean_sa-2*sd_sa)) & (cmsu['Salary'] <(mean_sa+2*sd_sa))).value_counts(normalize=True))"
   ]
  },
  {
   "cell_type": "code",
   "execution_count": 137,
   "id": "5755f722",
   "metadata": {},
   "outputs": [
    {
     "data": {
      "text/plain": [
       "True    1.0\n",
       "Name: Salary, dtype: float64"
      ]
     },
     "execution_count": 137,
     "metadata": {},
     "output_type": "execute_result"
    }
   ],
   "source": [
    "pd.Series(((cmsu['Salary'] >(mean_sa-3*sd_sa)) & (cmsu['Salary'] <(mean_sa+3*sd_sa))).value_counts(normalize=True))"
   ]
  },
  {
   "cell_type": "code",
   "execution_count": 138,
   "id": "2cc16dde",
   "metadata": {},
   "outputs": [
    {
     "data": {
      "image/png": "[encoded data removed]",
      "text/plain": [
       "<Figure size 432x288 with 1 Axes>"
      ]
     },
     "metadata": {},
     "output_type": "display_data"
    }
   ],
   "source": [
    "sns.histplot(cmsu['Spending'],kde = True)\n",
    "plt.savefig('Spending.png')\n",
    "plt.show()"
   ]
  },
  {
   "cell_type": "code",
   "execution_count": 139,
   "id": "e14ab0b7",
   "metadata": {},
   "outputs": [
    {
     "name": "stdout",
     "output_type": "stream",
     "text": [
      "count      62.000000\n",
      "mean      482.016129\n",
      "std       221.953805\n",
      "min       100.000000\n",
      "25%       312.500000\n",
      "50%       500.000000\n",
      "75%       600.000000\n",
      "max      1400.000000\n",
      "Name: Spending, dtype: float64\n",
      "Mode: 0    500\n",
      "dtype: int64\n",
      "Skewness: 1.5859147414045331\n"
     ]
    }
   ],
   "source": [
    "print(cmsu['Spending'].describe())\n",
    "print('Mode:',cmsu['Spending'].mode())\n",
    "print('Skewness:',cmsu['Spending'].skew())"
   ]
  },
  {
   "cell_type": "code",
   "execution_count": 140,
   "id": "1f0bcb3a",
   "metadata": {},
   "outputs": [
    {
     "data": {
      "text/plain": [
       "True     0.806452\n",
       "False    0.193548\n",
       "Name: Spending, dtype: float64"
      ]
     },
     "execution_count": 140,
     "metadata": {},
     "output_type": "execute_result"
    }
   ],
   "source": [
    "mean_spe=cmsu['Spending'].mean()\n",
    "sd_spe = cmsu['Spending'].std()\n",
    "pd.Series(((cmsu['Spending'] >(mean_spe-sd_spe)) & (cmsu['Spending'] <(mean_spe+sd_spe))).value_counts(normalize=True))"
   ]
  },
  {
   "cell_type": "code",
   "execution_count": 141,
   "id": "4c096f49",
   "metadata": {},
   "outputs": [
    {
     "data": {
      "text/plain": [
       "True     0.951613\n",
       "False    0.048387\n",
       "Name: Spending, dtype: float64"
      ]
     },
     "execution_count": 141,
     "metadata": {},
     "output_type": "execute_result"
    }
   ],
   "source": [
    "pd.Series(((cmsu['Spending'] >(mean_spe-2*sd_spe)) & (cmsu['Spending'] <(mean_spe+2*sd_spe))).value_counts(normalize=True))"
   ]
  },
  {
   "cell_type": "code",
   "execution_count": 142,
   "id": "879baabb",
   "metadata": {},
   "outputs": [
    {
     "data": {
      "text/plain": [
       "True     0.983871\n",
       "False    0.016129\n",
       "Name: Spending, dtype: float64"
      ]
     },
     "execution_count": 142,
     "metadata": {},
     "output_type": "execute_result"
    }
   ],
   "source": [
    "pd.Series(((cmsu['Spending'] >(mean_spe-3*sd_spe)) & (cmsu['Spending'] <(mean_spe+3*sd_spe))).value_counts(normalize=True))"
   ]
  },
  {
   "cell_type": "code",
   "execution_count": 143,
   "id": "f7ea8516",
   "metadata": {},
   "outputs": [
    {
     "data": {
      "image/png": "[encoded data removed]",
      "text/plain": [
       "<Figure size 432x288 with 1 Axes>"
      ]
     },
     "metadata": {},
     "output_type": "display_data"
    }
   ],
   "source": [
    "sns.histplot(cmsu['Text Messages'], kde = True)\n",
    "plt.savefig('Text.png')\n",
    "plt.show()"
   ]
  },
  {
   "cell_type": "code",
   "execution_count": 144,
   "id": "e5f44f10",
   "metadata": {},
   "outputs": [
    {
     "name": "stdout",
     "output_type": "stream",
     "text": [
      "count     62.000000\n",
      "mean     246.209677\n",
      "std      214.465950\n",
      "min        0.000000\n",
      "25%      100.000000\n",
      "50%      200.000000\n",
      "75%      300.000000\n",
      "max      900.000000\n",
      "Name: Text Messages, dtype: float64\n",
      "Mode: 0    300\n",
      "dtype: int64\n",
      "Skew: 1.2958079731054333\n"
     ]
    }
   ],
   "source": [
    "print(cmsu['Text Messages'].describe())\n",
    "print('Mode:',cmsu['Text Messages'].mode())\n",
    "print('Skew:',cmsu['Text Messages'].skew())\n"
   ]
  },
  {
   "cell_type": "code",
   "execution_count": 145,
   "id": "f4a84c74",
   "metadata": {},
   "outputs": [
    {
     "name": "stderr",
     "output_type": "stream",
     "text": [
      "/Applications/anaconda3/lib/python3.8/site-packages/seaborn/distributions.py:2557: FutureWarning: `distplot` is a deprecated function and will be removed in a future version. Please adapt your code to use either `displot` (a figure-level function with similar flexibility) or `histplot` (an axes-level function for histograms).\n",
      "  warnings.warn(msg, FutureWarning)\n"
     ]
    },
    {
     "data": {
      "text/plain": [
       "<AxesSubplot:xlabel='Text Messages', ylabel='Density'>"
      ]
     },
     "execution_count": 145,
     "metadata": {},
     "output_type": "execute_result"
    },
    {
     "data": {
      "image/png": "[encoded data removed]",
      "text/plain": [
       "<Figure size 432x288 with 1 Axes>"
      ]
     },
     "metadata": {},
     "output_type": "display_data"
    }
   ],
   "source": [
    "sns.distplot(cmsu['Text Messages'])"
   ]
  },
  {
   "cell_type": "code",
   "execution_count": 146,
   "id": "b2a51a79",
   "metadata": {},
   "outputs": [
    {
     "data": {
      "text/plain": [
       "True     0.790323\n",
       "False    0.209677\n",
       "Name: Text Messages, dtype: float64"
      ]
     },
     "execution_count": 146,
     "metadata": {},
     "output_type": "execute_result"
    }
   ],
   "source": [
    "mean=cmsu['Text Messages'].mean()\n",
    "sd = cmsu['Text Messages'].std()\n",
    "pd.Series(((cmsu['Text Messages'] >(mean-sd)) & (cmsu['Text Messages'] <(mean+sd))).value_counts(normalize=True))"
   ]
  },
  {
   "cell_type": "code",
   "execution_count": 147,
   "id": "2323b2ba",
   "metadata": {},
   "outputs": [
    {
     "data": {
      "text/plain": [
       "True     0.919355\n",
       "False    0.080645\n",
       "Name: Text Messages, dtype: float64"
      ]
     },
     "execution_count": 147,
     "metadata": {},
     "output_type": "execute_result"
    }
   ],
   "source": [
    "pd.Series(((cmsu['Text Messages'] >(mean-2*sd)) & (cmsu['Text Messages'] <(mean+2*sd))).value_counts(normalize=True))"
   ]
  },
  {
   "cell_type": "code",
   "execution_count": 148,
   "id": "1b93e27a",
   "metadata": {},
   "outputs": [
    {
     "data": {
      "text/plain": [
       "True     0.983871\n",
       "False    0.016129\n",
       "Name: Text Messages, dtype: float64"
      ]
     },
     "execution_count": 148,
     "metadata": {},
     "output_type": "execute_result"
    }
   ],
   "source": [
    "pd.Series(((cmsu['Text Messages'] >(mean-3*sd)) & (cmsu['Text Messages'] <(mean+3*sd))).value_counts(normalize=True))"
   ]
  },
  {
   "cell_type": "markdown",
   "id": "495db7ef",
   "metadata": {},
   "source": [
    "# Problem 3 - Shingles A and B\n",
    "An important quality characteristic used by the manufacturers of ABC asphalt shingles is the amount of moisture the shingles contain when they are packaged. Customers may feel that they have purchased a product lacking in quality if they find moisture and wet shingles inside the packaging.   In some cases, excessive moisture can cause the granules attached to the shingles for texture and coloring purposes to fall off the shingles resulting in appearance problems. To monitor the amount of moisture present, the company conducts moisture tests. A shingle is weighed and then dried. The shingle is then reweighed, and based on the amount of moisture taken out of the product, the pounds of moisture per 100 square feet are calculated. The company would like to show that the mean moisture content is less than 0.35 pounds per 100 square feet.\n",
    "\n",
    "The file (A & B shingles.csv) includes 36 measurements (in pounds per 100 square feet) for A shingles and 31 for B shingles."
   ]
  },
  {
   "cell_type": "code",
   "execution_count": 149,
   "id": "d0cf62db",
   "metadata": {},
   "outputs": [],
   "source": [
    "from scipy.stats import ttest_1samp, ttest_ind, ttest_rel\n",
    "import scipy.stats as stats\n",
    "import statsmodels.stats.api as sm"
   ]
  },
  {
   "cell_type": "code",
   "execution_count": 150,
   "id": "35f445ff",
   "metadata": {},
   "outputs": [],
   "source": [
    "shingles = pd.read_csv('/Users/siddhantraj/Desktop/Business Analytics/Statistics for Data Science/Final Project/A+&+B+shingles.csv')"
   ]
  },
  {
   "cell_type": "code",
   "execution_count": 205,
   "id": "adafc88a",
   "metadata": {},
   "outputs": [
    {
     "data": {
      "text/plain": [
       "31"
      ]
     },
     "execution_count": 205,
     "metadata": {},
     "output_type": "execute_result"
    }
   ],
   "source": [
    "len(shingles['B'].dropna())"
   ]
  },
  {
   "cell_type": "code",
   "execution_count": 151,
   "id": "4938a6fb",
   "metadata": {},
   "outputs": [
    {
     "data": {
      "text/html": [
       "<div>\n",
       "<style scoped>\n",
       "    .dataframe tbody tr th:only-of-type {\n",
       "        vertical-align: middle;\n",
       "    }\n",
       "\n",
       "    .dataframe tbody tr th {\n",
       "        vertical-align: top;\n",
       "    }\n",
       "\n",
       "    .dataframe thead th {\n",
       "        text-align: right;\n",
       "    }\n",
       "</style>\n",
       "<table border=\"1\" class=\"dataframe\">\n",
       "  <thead>\n",
       "    <tr style=\"text-align: right;\">\n",
       "      <th></th>\n",
       "      <th>A</th>\n",
       "      <th>B</th>\n",
       "    </tr>\n",
       "  </thead>\n",
       "  <tbody>\n",
       "    <tr>\n",
       "      <th>0</th>\n",
       "      <td>0.44</td>\n",
       "      <td>0.14</td>\n",
       "    </tr>\n",
       "    <tr>\n",
       "      <th>1</th>\n",
       "      <td>0.61</td>\n",
       "      <td>0.15</td>\n",
       "    </tr>\n",
       "    <tr>\n",
       "      <th>2</th>\n",
       "      <td>0.47</td>\n",
       "      <td>0.31</td>\n",
       "    </tr>\n",
       "    <tr>\n",
       "      <th>3</th>\n",
       "      <td>0.30</td>\n",
       "      <td>0.16</td>\n",
       "    </tr>\n",
       "    <tr>\n",
       "      <th>4</th>\n",
       "      <td>0.15</td>\n",
       "      <td>0.37</td>\n",
       "    </tr>\n",
       "  </tbody>\n",
       "</table>\n",
       "</div>"
      ],
      "text/plain": [
       "      A     B\n",
       "0  0.44  0.14\n",
       "1  0.61  0.15\n",
       "2  0.47  0.31\n",
       "3  0.30  0.16\n",
       "4  0.15  0.37"
      ]
     },
     "execution_count": 151,
     "metadata": {},
     "output_type": "execute_result"
    }
   ],
   "source": [
    "shingles.head()"
   ]
  },
  {
   "cell_type": "code",
   "execution_count": 163,
   "id": "d993b1e5",
   "metadata": {},
   "outputs": [
    {
     "name": "stdout",
     "output_type": "stream",
     "text": [
      "<class 'pandas.core.frame.DataFrame'>\n",
      "RangeIndex: 36 entries, 0 to 35\n",
      "Data columns (total 2 columns):\n",
      " #   Column  Non-Null Count  Dtype  \n",
      "---  ------  --------------  -----  \n",
      " 0   A       36 non-null     float64\n",
      " 1   B       31 non-null     float64\n",
      "dtypes: float64(2)\n",
      "memory usage: 704.0 bytes\n"
     ]
    }
   ],
   "source": [
    "shingles.info()"
   ]
  },
  {
   "cell_type": "code",
   "execution_count": 164,
   "id": "fe9b59db",
   "metadata": {},
   "outputs": [
    {
     "data": {
      "text/plain": [
       "A    0\n",
       "B    5\n",
       "dtype: int64"
      ]
     },
     "execution_count": 164,
     "metadata": {},
     "output_type": "execute_result"
    }
   ],
   "source": [
    "null_value_table = shingles.isnull().sum()\n",
    "null_value_table"
   ]
  },
  {
   "cell_type": "markdown",
   "id": "f5ab5013",
   "metadata": {},
   "source": [
    "## 3.1"
   ]
  },
  {
   "cell_type": "markdown",
   "id": "42078457",
   "metadata": {},
   "source": [
    "### Shingle A"
   ]
  },
  {
   "cell_type": "markdown",
   "id": "c9645706",
   "metadata": {},
   "source": [
    "#### Null and Alternate Hypothesis\n",
    "- 𝐻𝑜 : $\\mu <= 0.35$\n",
    "- $H_a$: $\\mu > 0.35$"
   ]
  },
  {
   "cell_type": "markdown",
   "id": "73b54106",
   "metadata": {},
   "source": [
    "#### Level of Significance\n",
    "- As the level of significance is not mentioned we can assume as follows:\n",
    "    - $\\alpha$ = 0.05"
   ]
  },
  {
   "cell_type": "code",
   "execution_count": 167,
   "id": "a76ff640",
   "metadata": {},
   "outputs": [],
   "source": [
    "level_of_significance = 0.05"
   ]
  },
  {
   "cell_type": "markdown",
   "id": "b7f919c6",
   "metadata": {},
   "source": [
    "#### Test \n",
    "- since we need to examine whether the mean of a population is statistically different from a known or hypothesized value, we will be using One Sample T- Test\n",
    "- We will be using One Tailed Test for Upper Tail"
   ]
  },
  {
   "cell_type": "code",
   "execution_count": 220,
   "id": "992b68a3",
   "metadata": {},
   "outputs": [],
   "source": [
    "t_statistic, p_value = stats.ttest_1samp(shingles['A'], 0.35)"
   ]
  },
  {
   "cell_type": "code",
   "execution_count": 221,
   "id": "17b3837d",
   "metadata": {},
   "outputs": [
    {
     "name": "stdout",
     "output_type": "stream",
     "text": [
      "Test Statistic:  -1.4735046253382782\n"
     ]
    }
   ],
   "source": [
    "print('Test Statistic: ',t_statistic)"
   ]
  },
  {
   "cell_type": "code",
   "execution_count": 222,
   "id": "cf293fd1",
   "metadata": {},
   "outputs": [
    {
     "name": "stdout",
     "output_type": "stream",
     "text": [
      "p_value:  0.07477633144907513\n"
     ]
    }
   ],
   "source": [
    "print('p_value: ',p_value/2)"
   ]
  },
  {
   "cell_type": "code",
   "execution_count": 223,
   "id": "e878e97d",
   "metadata": {},
   "outputs": [
    {
     "name": "stdout",
     "output_type": "stream",
     "text": [
      "Since p-value is 0.14955266289815025 which is greater than the level of significance, We Fail to Reject the Null Hypothesis\n"
     ]
    }
   ],
   "source": [
    "if p_value < level_of_significance:\n",
    "    print(f'Since p-value is {p_value} which is less than the level of significance, We can Reject the Null Hypothesis')\n",
    "else:\n",
    "    print(f'Since p-value is {p_value} which is greater than the level of significance, We Fail to Reject the Null Hypothesis')"
   ]
  },
  {
   "cell_type": "markdown",
   "id": "9a2e3a7d",
   "metadata": {},
   "source": [
    "### Shingle B"
   ]
  },
  {
   "cell_type": "markdown",
   "id": "e5ff84b1",
   "metadata": {},
   "source": [
    "#### Null and Alternate Hypothesis\n",
    "- 𝐻𝑜 : $\\mu <= 0.35$\n",
    "- $H_a$: $\\mu > 0.35$"
   ]
  },
  {
   "cell_type": "markdown",
   "id": "ae0b17eb",
   "metadata": {},
   "source": [
    "#### Level of Significance\n",
    "- As the level of significance is not mentioned we can assume as follows:\n",
    "    - $\\alpha$ = 0.05"
   ]
  },
  {
   "cell_type": "markdown",
   "id": "e4ccb851",
   "metadata": {},
   "source": [
    "#### Test \n",
    "- since we need to examine whether the mean of a population is statistically different from a known or hypothesized value, we will be using One Sample T- Test\n",
    "- We will be using One Tailed Test for Upper Tail"
   ]
  },
  {
   "cell_type": "markdown",
   "id": "cd173bdf",
   "metadata": {},
   "source": [
    "#### From the null_value_table we can see that Column B in the shingles table has null values"
   ]
  },
  {
   "cell_type": "code",
   "execution_count": 216,
   "id": "87491e66",
   "metadata": {},
   "outputs": [],
   "source": [
    "t_statistic, p_value = stats.ttest_1samp(shingles['B'].dropna(),0.35)"
   ]
  },
  {
   "cell_type": "code",
   "execution_count": 217,
   "id": "ac2f955d",
   "metadata": {},
   "outputs": [
    {
     "name": "stdout",
     "output_type": "stream",
     "text": [
      "Test Statistic:  -3.1003313069986995\n"
     ]
    }
   ],
   "source": [
    "print('Test Statistic: ',t_statistic)"
   ]
  },
  {
   "cell_type": "code",
   "execution_count": 218,
   "id": "7c3cc3ac",
   "metadata": {},
   "outputs": [
    {
     "name": "stdout",
     "output_type": "stream",
     "text": [
      "p_value:  0.0020904774003191813\n"
     ]
    }
   ],
   "source": [
    "print('p_value: ',p_value/2)"
   ]
  },
  {
   "cell_type": "code",
   "execution_count": 219,
   "id": "30594277",
   "metadata": {},
   "outputs": [
    {
     "name": "stdout",
     "output_type": "stream",
     "text": [
      "Since p-value is 0.004180954800638363 which is less than the level of significance, We can Reject the Null Hypothesis\n"
     ]
    }
   ],
   "source": [
    "if p_value < level_of_significance:\n",
    "    print(f'Since p-value is {p_value} which is less than the level of significance, We can Reject the Null Hypothesis')\n",
    "else:\n",
    "    print(f'Since p-value is {p_value} which is greater than the level of significance, We Fail to Reject the Null Hypothesis')"
   ]
  },
  {
   "cell_type": "markdown",
   "id": "375f4546",
   "metadata": {},
   "source": [
    "## 3.2"
   ]
  },
  {
   "cell_type": "markdown",
   "id": "9c764b1c",
   "metadata": {},
   "source": [
    "#### Null and Alternate Hypothesis\n",
    " * Null Hypothesis : $H_o$ : $\\mu_a = \\mu_b$\n",
    "\n",
    " * Alternate Hypothesis : $H_a$ : $\\mu_a \\neq \\mu_b$  [Two tailed]"
   ]
  },
  {
   "cell_type": "markdown",
   "id": "90dd8d89",
   "metadata": {},
   "source": [
    "#### Level of Significance\n",
    "- As the level of significance is not mentioned we can assume as follows:\n",
    "    - $\\alpha$ = 0.05"
   ]
  },
  {
   "cell_type": "code",
   "execution_count": 224,
   "id": "68c8e530",
   "metadata": {},
   "outputs": [
    {
     "name": "stdout",
     "output_type": "stream",
     "text": [
      "t stat = 1.2896282719661123\n",
      "p value = 0.2017496571835306\n"
     ]
    }
   ],
   "source": [
    "t_statistic, p_value = ttest_ind(shingles['A'],shingles['B'], axis=0, equal_var=True, nan_policy='omit')\n",
    "print('t stat =',t_statistic)\n",
    "print('p value =',p_value)"
   ]
  },
  {
   "cell_type": "code",
   "execution_count": 226,
   "id": "ee335582",
   "metadata": {},
   "outputs": [
    {
     "name": "stdout",
     "output_type": "stream",
     "text": [
      "level of significance: 0.05\n"
     ]
    }
   ],
   "source": [
    "print('level of significance:',level_of_significance)"
   ]
  },
  {
   "cell_type": "code",
   "execution_count": 227,
   "id": "80ae04f6",
   "metadata": {},
   "outputs": [
    {
     "name": "stdout",
     "output_type": "stream",
     "text": [
      "We do not have enough evidence to reject the Null Hypothesis\n",
      "We can conclude that the mean Moisture Content in the two sample are same \n"
     ]
    }
   ],
   "source": [
    "if p_value < level_of_significance:\n",
    "    print('We have enough evidence to reject the Null Hypothesis')\n",
    "    print('We can conclude that mean Moisture Content in the two sample are not same')\n",
    "else:\n",
    "    print('We do not have enough evidence to reject the Null Hypothesis')\n",
    "    print('We can conclude that the mean Moisture Content in the two sample are same ')"
   ]
  },
  {
   "cell_type": "code",
   "execution_count": null,
   "id": "919d7de8",
   "metadata": {},
   "outputs": [],
   "source": []
  }
 ],
 "metadata": {
  "kernelspec": {
   "display_name": "Python 3 (ipykernel)",
   "language": "python",
   "name": "python3"
  },
  "language_info": {
   "codemirror_mode": {
    "name": "ipython",
    "version": 3
   },
   "file_extension": ".py",
   "mimetype": "text/x-python",
   "name": "python",
   "nbconvert_exporter": "python",
   "pygments_lexer": "ipython3",
   "version": "3.11.4"
  }
 },
 "nbformat": 4,
 "nbformat_minor": 5
}
